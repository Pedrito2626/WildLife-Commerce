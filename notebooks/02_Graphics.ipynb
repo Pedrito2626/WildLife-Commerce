{
 "cells": [
  {
   "cell_type": "markdown",
   "id": "bee7faf5",
   "metadata": {},
   "source": [
    "# ANÁLISIS CORPORATIVO: TRÁFICO INTERNACIONAL DE FAUNA CITES (2000-2021)\n",
    "## Análisis Estratégico de Frecuencia vs Volumen Comercializado\n",
    "\n",
    "### Objetivo del Análisis\n",
    "Realizar un análisis exhaustivo del comercio internacional de fauna bajo la Convención CITES, diferenciando entre:\n",
    "- **Análisis de Frecuencia**: Número de transacciones comerciales (todas las operaciones registradas)\n",
    "- **Análisis de Volumen**: Cantidad de ejemplares comercializados (solo transacciones con cantidad especificada)\n",
    "\n",
    "### Nota Metodológica Importante\n",
    "**Cantidad = 0**: Indica que NO se registró la cantidad comercializada en la transacción, NO que no hubo comercio.\n",
    "- 95.5% de registros tienen cantidad = 0 (cantidad no especificada)\n",
    "- 4.5% de registros tienen cantidad > 0 (cantidad especificada)\n",
    "\n",
    "### Estructura del Análisis\n",
    "1. **Configuración y Carga de Datos**\n",
    "2. **Análisis Exploratorio de Datos**\n",
    "3. **Análisis de Frecuencia vs Volumen**\n",
    "4. **Dashboards Ejecutivos**\n",
    "5. **Insights y Recomendaciones**"
   ]
  },
  {
   "cell_type": "code",
   "execution_count": 1,
   "id": "a42de394",
   "metadata": {},
   "outputs": [
    {
     "name": "stdout",
     "output_type": "stream",
     "text": [
      "✅ Configuración optimizada para diapositivas completada\n",
      "📊 Paleta: 9 colores profesionales\n",
      "🎨 Template: Optimizado para presentaciones\n",
      "📐 Dimensiones: Adaptadas para proyección\n"
     ]
    }
   ],
   "source": [
    "# =====================================================================================\n",
    "# CONFIGURACIÓN E IMPORTACIÓN DE LIBRERÍAS - OPTIMIZADA PARA DIAPOSITIVAS\n",
    "# =====================================================================================\n",
    "\n",
    "import matplotlib.pyplot as plt\n",
    "import numpy as np\n",
    "import pandas as pd\n",
    "import seaborn as sns\n",
    "import plotly.express as px\n",
    "import plotly.graph_objects as go\n",
    "from plotly.subplots import make_subplots\n",
    "import plotly.io as pio\n",
    "from scipy.stats import chi2_contingency\n",
    "import warnings\n",
    "\n",
    "warnings.filterwarnings(\"ignore\")\n",
    "\n",
    "# Configuración optimizada para diapositivas\n",
    "plt.style.use(\"default\")\n",
    "pd.set_option(\"display.max_columns\", None)\n",
    "pd.set_option(\"display.max_rows\", 20)\n",
    "\n",
    "# Paleta de colores profesional para diapositivas\n",
    "SLIDE_COLORS = {\n",
    "    \"primary\": \"#2E86C1\",      # Azul profesional\n",
    "    \"secondary\": \"#F39C12\",     # Naranja distintivo\n",
    "    \"accent\": \"#E74C3C\",        # Rojo para destacar\n",
    "    \"success\": \"#27AE60\",       # Verde para positivos\n",
    "    \"warning\": \"#F1C40F\",       # Amarillo para alertas\n",
    "    \"info\": \"#8E44AD\",          # Púrpura para información\n",
    "    \"dark\": \"#2C3E50\",          # Gris oscuro elegante\n",
    "    \"light\": \"#BDC3C7\",         # Gris claro\n",
    "    \"background\": \"#FFFFFF\",     # Fondo blanco limpio\n",
    "}\n",
    "\n",
    "# Configuración de fuentes y tamaños para diapositivas\n",
    "SLIDE_FONT_CONFIG = {\n",
    "    \"title_size\": 16,\n",
    "    \"subtitle_size\": 14,\n",
    "    \"label_size\": 12,\n",
    "    \"tick_size\": 10,\n",
    "    \"annotation_size\": 9,\n",
    "    \"font_family\": \"Arial, sans-serif\"\n",
    "}\n",
    "\n",
    "# Template optimizado para diapositivas con Plotly\n",
    "pio.templates[\"slide_template\"] = go.layout.Template(\n",
    "    layout=go.Layout(\n",
    "        colorway=[\n",
    "            SLIDE_COLORS[\"primary\"], \n",
    "            SLIDE_COLORS[\"secondary\"], \n",
    "            SLIDE_COLORS[\"accent\"], \n",
    "            SLIDE_COLORS[\"success\"], \n",
    "            SLIDE_COLORS[\"info\"], \n",
    "            SLIDE_COLORS[\"warning\"]\n",
    "        ],\n",
    "        font=dict(\n",
    "            family=SLIDE_FONT_CONFIG[\"font_family\"], \n",
    "            size=SLIDE_FONT_CONFIG[\"label_size\"],\n",
    "            color=SLIDE_COLORS[\"dark\"]\n",
    "        ),\n",
    "        paper_bgcolor=SLIDE_COLORS[\"background\"],\n",
    "        plot_bgcolor=SLIDE_COLORS[\"background\"],\n",
    "        title=dict(\n",
    "            font=dict(\n",
    "                size=SLIDE_FONT_CONFIG[\"title_size\"],\n",
    "                color=SLIDE_COLORS[\"dark\"]\n",
    "            ),\n",
    "            x=0.5,  # Centrar títulos\n",
    "            xanchor=\"center\"\n",
    "        ),\n",
    "        xaxis=dict(\n",
    "            gridcolor=SLIDE_COLORS[\"light\"],\n",
    "            gridwidth=0.5,\n",
    "            zeroline=False,\n",
    "            showline=True,\n",
    "            linecolor=SLIDE_COLORS[\"dark\"],\n",
    "            linewidth=1,\n",
    "            tickfont=dict(size=SLIDE_FONT_CONFIG[\"tick_size\"])\n",
    "        ),\n",
    "        yaxis=dict(\n",
    "            gridcolor=SLIDE_COLORS[\"light\"],\n",
    "            gridwidth=0.5,\n",
    "            zeroline=False,\n",
    "            showline=True,\n",
    "            linecolor=SLIDE_COLORS[\"dark\"],\n",
    "            linewidth=1,\n",
    "            tickfont=dict(size=SLIDE_FONT_CONFIG[\"tick_size\"])\n",
    "        ),\n",
    "        legend=dict(\n",
    "            font=dict(size=SLIDE_FONT_CONFIG[\"tick_size\"]),\n",
    "            bgcolor=\"rgba(255,255,255,0.8)\",\n",
    "            bordercolor=SLIDE_COLORS[\"light\"],\n",
    "            borderwidth=1\n",
    "        ),\n",
    "        margin=dict(l=60, r=60, t=80, b=60)  # Márgenes optimizados\n",
    "    )\n",
    ")\n",
    "pio.templates.default = \"slide_template\"\n",
    "\n",
    "# Configuración de matplotlib para diapositivas\n",
    "plt.rcParams.update({\n",
    "    'figure.figsize': (12, 8),\n",
    "    'font.size': SLIDE_FONT_CONFIG[\"label_size\"],\n",
    "    'axes.titlesize': SLIDE_FONT_CONFIG[\"title_size\"],\n",
    "    'axes.labelsize': SLIDE_FONT_CONFIG[\"label_size\"],\n",
    "    'xtick.labelsize': SLIDE_FONT_CONFIG[\"tick_size\"],\n",
    "    'ytick.labelsize': SLIDE_FONT_CONFIG[\"tick_size\"],\n",
    "    'legend.fontsize': SLIDE_FONT_CONFIG[\"tick_size\"],\n",
    "    'axes.spines.top': False,\n",
    "    'axes.spines.right': False,\n",
    "    'axes.grid': True,\n",
    "    'grid.alpha': 0.3,\n",
    "    'axes.axisbelow': True\n",
    "})\n",
    "\n",
    "# Funciones de utilidad para formateo consistente\n",
    "def format_number(num):\n",
    "    \"\"\"Formatea números para visualización en diapositivas\"\"\"\n",
    "    if num >= 1_000_000:\n",
    "        return f\"{num/1_000_000:.1f}M\"\n",
    "    elif num >= 1_000:\n",
    "        return f\"{num/1_000:.0f}K\"\n",
    "    else:\n",
    "        return f\"{num:.0f}\"\n",
    "\n",
    "def create_slide_layout(fig, title, height=500):\n",
    "    \"\"\"Aplica layout consistente para diapositivas\"\"\"\n",
    "    fig.update_layout(\n",
    "        title=dict(\n",
    "            text=f\"<b>{title}</b>\",\n",
    "            font=dict(size=SLIDE_FONT_CONFIG[\"title_size\"]),\n",
    "            x=0.5,\n",
    "            xanchor=\"center\"\n",
    "        ),\n",
    "        height=height,\n",
    "        showlegend=True,\n",
    "        template=\"slide_template\"\n",
    "    )\n",
    "    return fig\n",
    "\n",
    "print(\"✅ Configuración optimizada para diapositivas completada\")\n",
    "print(f\"📊 Paleta: {len(SLIDE_COLORS)} colores profesionales\")\n",
    "print(f\"🎨 Template: Optimizado para presentaciones\")\n",
    "print(f\"📐 Dimensiones: Adaptadas para proyección\")"
   ]
  },
  {
   "cell_type": "code",
   "execution_count": 2,
   "id": "48730555",
   "metadata": {},
   "outputs": [
    {
     "name": "stdout",
     "output_type": "stream",
     "text": [
      "INFORMACIÓN BÁSICA DEL DATASET\n",
      "==================================================\n",
      "Dimensiones: 2,810,597 filas x 12 columnas\n",
      "Período: 2000 - 2021\n",
      "Memoria utilizada: 1987.3 MB\n",
      "\n",
      "COLUMNAS DEL DATASET:\n",
      " 1. Clase\n",
      " 2. Categoria IUCN\n",
      " 3. Nombre cientifico\n",
      " 4. Año\n",
      " 5. Estado amenaza\n",
      " 6. Cantidad\n",
      " 7. Region exportadora\n",
      " 8. Subregion exportadora\n",
      " 9. Region importadora\n",
      "10. Subregion importadora\n",
      "11. Pais importador\n",
      "12. Pais exportador\n",
      "\n",
      "TIPOS DE DATOS:\n",
      "Clase                     object\n",
      "Categoria IUCN            object\n",
      "Nombre cientifico         object\n",
      "Año                        int64\n",
      "Estado amenaza            object\n",
      "Cantidad                 float64\n",
      "Region exportadora        object\n",
      "Subregion exportadora     object\n",
      "Region importadora        object\n",
      "Subregion importadora     object\n",
      "Pais importador           object\n",
      "Pais exportador           object\n",
      "dtype: object\n",
      "\n",
      "PRIMERAS 5 FILAS:\n",
      "Memoria utilizada: 1987.3 MB\n",
      "\n",
      "COLUMNAS DEL DATASET:\n",
      " 1. Clase\n",
      " 2. Categoria IUCN\n",
      " 3. Nombre cientifico\n",
      " 4. Año\n",
      " 5. Estado amenaza\n",
      " 6. Cantidad\n",
      " 7. Region exportadora\n",
      " 8. Subregion exportadora\n",
      " 9. Region importadora\n",
      "10. Subregion importadora\n",
      "11. Pais importador\n",
      "12. Pais exportador\n",
      "\n",
      "TIPOS DE DATOS:\n",
      "Clase                     object\n",
      "Categoria IUCN            object\n",
      "Nombre cientifico         object\n",
      "Año                        int64\n",
      "Estado amenaza            object\n",
      "Cantidad                 float64\n",
      "Region exportadora        object\n",
      "Subregion exportadora     object\n",
      "Region importadora        object\n",
      "Subregion importadora     object\n",
      "Pais importador           object\n",
      "Pais exportador           object\n",
      "dtype: object\n",
      "\n",
      "PRIMERAS 5 FILAS:\n"
     ]
    },
    {
     "name": "stdout",
     "output_type": "stream",
     "text": [
      "INFORMACIÓN BÁSICA DEL DATASET\n",
      "==================================================\n",
      "Dimensiones: 2,810,597 filas x 12 columnas\n",
      "Período: 2000 - 2021\n",
      "Memoria utilizada: 1987.3 MB\n",
      "\n",
      "COLUMNAS DEL DATASET:\n",
      " 1. Clase\n",
      " 2. Categoria IUCN\n",
      " 3. Nombre cientifico\n",
      " 4. Año\n",
      " 5. Estado amenaza\n",
      " 6. Cantidad\n",
      " 7. Region exportadora\n",
      " 8. Subregion exportadora\n",
      " 9. Region importadora\n",
      "10. Subregion importadora\n",
      "11. Pais importador\n",
      "12. Pais exportador\n",
      "\n",
      "TIPOS DE DATOS:\n",
      "Clase                     object\n",
      "Categoria IUCN            object\n",
      "Nombre cientifico         object\n",
      "Año                        int64\n",
      "Estado amenaza            object\n",
      "Cantidad                 float64\n",
      "Region exportadora        object\n",
      "Subregion exportadora     object\n",
      "Region importadora        object\n",
      "Subregion importadora     object\n",
      "Pais importador           object\n",
      "Pais exportador           object\n",
      "dtype: object\n",
      "\n",
      "PRIMERAS 5 FILAS:\n",
      "Memoria utilizada: 1987.3 MB\n",
      "\n",
      "COLUMNAS DEL DATASET:\n",
      " 1. Clase\n",
      " 2. Categoria IUCN\n",
      " 3. Nombre cientifico\n",
      " 4. Año\n",
      " 5. Estado amenaza\n",
      " 6. Cantidad\n",
      " 7. Region exportadora\n",
      " 8. Subregion exportadora\n",
      " 9. Region importadora\n",
      "10. Subregion importadora\n",
      "11. Pais importador\n",
      "12. Pais exportador\n",
      "\n",
      "TIPOS DE DATOS:\n",
      "Clase                     object\n",
      "Categoria IUCN            object\n",
      "Nombre cientifico         object\n",
      "Año                        int64\n",
      "Estado amenaza            object\n",
      "Cantidad                 float64\n",
      "Region exportadora        object\n",
      "Subregion exportadora     object\n",
      "Region importadora        object\n",
      "Subregion importadora     object\n",
      "Pais importador           object\n",
      "Pais exportador           object\n",
      "dtype: object\n",
      "\n",
      "PRIMERAS 5 FILAS:\n"
     ]
    },
    {
     "data": {
      "application/vnd.microsoft.datawrangler.viewer.v0+json": {
       "columns": [
        {
         "name": "index",
         "rawType": "int64",
         "type": "integer"
        },
        {
         "name": "Clase",
         "rawType": "object",
         "type": "string"
        },
        {
         "name": "Categoria IUCN",
         "rawType": "object",
         "type": "string"
        },
        {
         "name": "Nombre cientifico",
         "rawType": "object",
         "type": "string"
        },
        {
         "name": "Año",
         "rawType": "int64",
         "type": "integer"
        },
        {
         "name": "Estado amenaza",
         "rawType": "object",
         "type": "string"
        },
        {
         "name": "Cantidad",
         "rawType": "float64",
         "type": "float"
        },
        {
         "name": "Region exportadora",
         "rawType": "object",
         "type": "string"
        },
        {
         "name": "Subregion exportadora",
         "rawType": "object",
         "type": "string"
        },
        {
         "name": "Region importadora",
         "rawType": "object",
         "type": "string"
        },
        {
         "name": "Subregion importadora",
         "rawType": "object",
         "type": "string"
        },
        {
         "name": "Pais importador",
         "rawType": "object",
         "type": "string"
        },
        {
         "name": "Pais exportador",
         "rawType": "object",
         "type": "string"
        }
       ],
       "ref": "09ddab07-f735-44f4-a91f-73e1a3f34b6c",
       "rows": [
        [
         "0",
         "Reptiles",
         "En Peligro",
         "Abronia aurita",
         "2018",
         "Amenazada",
         "0.0",
         "Americas",
         "Norteamérica",
         "Americas",
         "Norteamérica",
         "Canada",
         "Estados Unidos"
        ],
        [
         "1",
         "Reptiles",
         "En Peligro",
         "Abronia aurita",
         "2019",
         "Amenazada",
         "0.0",
         "Americas",
         "Norteamérica",
         "Americas",
         "Norteamérica",
         "Canada",
         "Estados Unidos"
        ],
        [
         "2",
         "Reptiles",
         "En Peligro",
         "Abronia aurita",
         "2017",
         "Amenazada",
         "0.0",
         "Americas",
         "Norteamérica",
         "Americas",
         "Norteamérica",
         "Canada",
         "Estados Unidos"
        ],
        [
         "3",
         "Reptiles",
         "En Peligro",
         "Abronia aurita",
         "2018",
         "Amenazada",
         "1.0",
         "Americas",
         "Norteamérica",
         "Americas",
         "Norteamérica",
         "Canada",
         "Estados Unidos"
        ],
        [
         "4",
         "Reptiles",
         "En Peligro",
         "Abronia aurita",
         "2021",
         "Amenazada",
         "0.0",
         "Americas",
         "Norteamérica",
         "Americas",
         "Norteamérica",
         "Canada",
         "Estados Unidos"
        ]
       ],
       "shape": {
        "columns": 12,
        "rows": 5
       }
      },
      "text/html": [
       "<div>\n",
       "<style scoped>\n",
       "    .dataframe tbody tr th:only-of-type {\n",
       "        vertical-align: middle;\n",
       "    }\n",
       "\n",
       "    .dataframe tbody tr th {\n",
       "        vertical-align: top;\n",
       "    }\n",
       "\n",
       "    .dataframe thead th {\n",
       "        text-align: right;\n",
       "    }\n",
       "</style>\n",
       "<table border=\"1\" class=\"dataframe\">\n",
       "  <thead>\n",
       "    <tr style=\"text-align: right;\">\n",
       "      <th></th>\n",
       "      <th>Clase</th>\n",
       "      <th>Categoria IUCN</th>\n",
       "      <th>Nombre cientifico</th>\n",
       "      <th>Año</th>\n",
       "      <th>Estado amenaza</th>\n",
       "      <th>Cantidad</th>\n",
       "      <th>Region exportadora</th>\n",
       "      <th>Subregion exportadora</th>\n",
       "      <th>Region importadora</th>\n",
       "      <th>Subregion importadora</th>\n",
       "      <th>Pais importador</th>\n",
       "      <th>Pais exportador</th>\n",
       "    </tr>\n",
       "  </thead>\n",
       "  <tbody>\n",
       "    <tr>\n",
       "      <th>0</th>\n",
       "      <td>Reptiles</td>\n",
       "      <td>En Peligro</td>\n",
       "      <td>Abronia aurita</td>\n",
       "      <td>2018</td>\n",
       "      <td>Amenazada</td>\n",
       "      <td>0.0</td>\n",
       "      <td>Americas</td>\n",
       "      <td>Norteamérica</td>\n",
       "      <td>Americas</td>\n",
       "      <td>Norteamérica</td>\n",
       "      <td>Canada</td>\n",
       "      <td>Estados Unidos</td>\n",
       "    </tr>\n",
       "    <tr>\n",
       "      <th>1</th>\n",
       "      <td>Reptiles</td>\n",
       "      <td>En Peligro</td>\n",
       "      <td>Abronia aurita</td>\n",
       "      <td>2019</td>\n",
       "      <td>Amenazada</td>\n",
       "      <td>0.0</td>\n",
       "      <td>Americas</td>\n",
       "      <td>Norteamérica</td>\n",
       "      <td>Americas</td>\n",
       "      <td>Norteamérica</td>\n",
       "      <td>Canada</td>\n",
       "      <td>Estados Unidos</td>\n",
       "    </tr>\n",
       "    <tr>\n",
       "      <th>2</th>\n",
       "      <td>Reptiles</td>\n",
       "      <td>En Peligro</td>\n",
       "      <td>Abronia aurita</td>\n",
       "      <td>2017</td>\n",
       "      <td>Amenazada</td>\n",
       "      <td>0.0</td>\n",
       "      <td>Americas</td>\n",
       "      <td>Norteamérica</td>\n",
       "      <td>Americas</td>\n",
       "      <td>Norteamérica</td>\n",
       "      <td>Canada</td>\n",
       "      <td>Estados Unidos</td>\n",
       "    </tr>\n",
       "    <tr>\n",
       "      <th>3</th>\n",
       "      <td>Reptiles</td>\n",
       "      <td>En Peligro</td>\n",
       "      <td>Abronia aurita</td>\n",
       "      <td>2018</td>\n",
       "      <td>Amenazada</td>\n",
       "      <td>1.0</td>\n",
       "      <td>Americas</td>\n",
       "      <td>Norteamérica</td>\n",
       "      <td>Americas</td>\n",
       "      <td>Norteamérica</td>\n",
       "      <td>Canada</td>\n",
       "      <td>Estados Unidos</td>\n",
       "    </tr>\n",
       "    <tr>\n",
       "      <th>4</th>\n",
       "      <td>Reptiles</td>\n",
       "      <td>En Peligro</td>\n",
       "      <td>Abronia aurita</td>\n",
       "      <td>2021</td>\n",
       "      <td>Amenazada</td>\n",
       "      <td>0.0</td>\n",
       "      <td>Americas</td>\n",
       "      <td>Norteamérica</td>\n",
       "      <td>Americas</td>\n",
       "      <td>Norteamérica</td>\n",
       "      <td>Canada</td>\n",
       "      <td>Estados Unidos</td>\n",
       "    </tr>\n",
       "  </tbody>\n",
       "</table>\n",
       "</div>"
      ],
      "text/plain": [
       "      Clase Categoria IUCN Nombre cientifico   Año Estado amenaza  Cantidad  \\\n",
       "0  Reptiles     En Peligro    Abronia aurita  2018      Amenazada       0.0   \n",
       "1  Reptiles     En Peligro    Abronia aurita  2019      Amenazada       0.0   \n",
       "2  Reptiles     En Peligro    Abronia aurita  2017      Amenazada       0.0   \n",
       "3  Reptiles     En Peligro    Abronia aurita  2018      Amenazada       1.0   \n",
       "4  Reptiles     En Peligro    Abronia aurita  2021      Amenazada       0.0   \n",
       "\n",
       "  Region exportadora Subregion exportadora Region importadora  \\\n",
       "0           Americas          Norteamérica           Americas   \n",
       "1           Americas          Norteamérica           Americas   \n",
       "2           Americas          Norteamérica           Americas   \n",
       "3           Americas          Norteamérica           Americas   \n",
       "4           Americas          Norteamérica           Americas   \n",
       "\n",
       "  Subregion importadora Pais importador Pais exportador  \n",
       "0          Norteamérica          Canada  Estados Unidos  \n",
       "1          Norteamérica          Canada  Estados Unidos  \n",
       "2          Norteamérica          Canada  Estados Unidos  \n",
       "3          Norteamérica          Canada  Estados Unidos  \n",
       "4          Norteamérica          Canada  Estados Unidos  "
      ]
     },
     "execution_count": 2,
     "metadata": {},
     "output_type": "execute_result"
    }
   ],
   "source": [
    "# =====================================================================================\n",
    "# CARGA Y EXPLORACIÓN INICIAL DE DATOS\n",
    "# =====================================================================================\n",
    "\n",
    "# Cargar dataset\n",
    "df = pd.read_csv(\"../data/processed/trafico_fauna_limpio.csv\")\n",
    "\n",
    "print(\"INFORMACIÓN BÁSICA DEL DATASET\")\n",
    "print(\"=\" * 50)\n",
    "print(f\"Dimensiones: {df.shape[0]:,} filas x {df.shape[1]} columnas\")\n",
    "print(f\"Período: {df['Año'].min()} - {df['Año'].max()}\")\n",
    "print(f\"Memoria utilizada: {df.memory_usage(deep=True).sum() / 1024**2:.1f} MB\")\n",
    "\n",
    "print(\"\\nCOLUMNAS DEL DATASET:\")\n",
    "for i, col in enumerate(df.columns, 1):\n",
    "    print(f\"{i:2d}. {col}\")\n",
    "\n",
    "print(\"\\nTIPOS DE DATOS:\")\n",
    "print(df.dtypes)\n",
    "\n",
    "print(\"\\nPRIMERAS 5 FILAS:\")\n",
    "df.head()"
   ]
  },
  {
   "cell_type": "code",
   "execution_count": 3,
   "id": "b83533c6",
   "metadata": {},
   "outputs": [
    {
     "name": "stdout",
     "output_type": "stream",
     "text": [
      "ANÁLISIS CRÍTICO: CANTIDAD ESPECIFICADA vs NO ESPECIFICADA\n",
      "======================================================================\n",
      "DISTRIBUCIÓN GENERAL:\n",
      "Total de registros: 2,810,597\n",
      "Cantidad = 0 (no especificada): 2,683,767 (95.5%)\n",
      "Cantidad > 0 (especificada): 126,830 (4.5%)\n",
      "\n",
      "VOLUMEN TOTAL COMERCIALIZADO: 99,628,070 ejemplares\n",
      "Promedio por transacción (con cantidad): 785.5 ejemplares\n",
      "Mediana por transacción (con cantidad): 16.0 ejemplares\n",
      "DISTRIBUCIÓN GENERAL:\n",
      "Total de registros: 2,810,597\n",
      "Cantidad = 0 (no especificada): 2,683,767 (95.5%)\n",
      "Cantidad > 0 (especificada): 126,830 (4.5%)\n",
      "\n",
      "VOLUMEN TOTAL COMERCIALIZADO: 99,628,070 ejemplares\n",
      "Promedio por transacción (con cantidad): 785.5 ejemplares\n",
      "Mediana por transacción (con cantidad): 16.0 ejemplares\n"
     ]
    }
   ],
   "source": [
    "# =====================================================================================\n",
    "# ANÁLISIS CRÍTICO: DIFERENCIACIÓN CANTIDAD = 0 vs CANTIDAD > 0\n",
    "# =====================================================================================\n",
    "\n",
    "\n",
    "def analizar_diferenciacion_cantidad(df):\n",
    "    \"\"\"\n",
    "    Analiza la diferencia crítica entre registros con cantidad = 0 y cantidad > 0\n",
    "    \"\"\"\n",
    "\n",
    "    print(\"ANÁLISIS CRÍTICO: CANTIDAD ESPECIFICADA vs NO ESPECIFICADA\")\n",
    "    print(\"=\" * 70)\n",
    "\n",
    "    # Separar datasets\n",
    "    df_cantidad_cero = df[df[\"Cantidad\"] == 0].copy()\n",
    "    df_cantidad_especificada = df[df[\"Cantidad\"] > 0].copy()\n",
    "\n",
    "    total_registros = len(df)\n",
    "    registros_cero = len(df_cantidad_cero)\n",
    "    registros_especificada = len(df_cantidad_especificada)\n",
    "\n",
    "    print(\"DISTRIBUCIÓN GENERAL:\")\n",
    "    print(f\"Total de registros: {total_registros:,}\")\n",
    "    print(\n",
    "        f\"Cantidad = 0 (no especificada): {registros_cero:,} ({registros_cero / total_registros * 100:.1f}%)\"\n",
    "    )\n",
    "    print(\n",
    "        f\"Cantidad > 0 (especificada): {registros_especificada:,} ({registros_especificada / total_registros * 100:.1f}%)\"\n",
    "    )\n",
    "\n",
    "    if registros_especificada > 0:\n",
    "        volumen_total = df_cantidad_especificada[\"Cantidad\"].sum()\n",
    "        print(f\"\\nVOLUMEN TOTAL COMERCIALIZADO: {volumen_total:,.0f} ejemplares\")\n",
    "        print(\n",
    "            f\"Promedio por transacción (con cantidad): {df_cantidad_especificada['Cantidad'].mean():.1f} ejemplares\"\n",
    "        )\n",
    "        print(\n",
    "            f\"Mediana por transacción (con cantidad): {df_cantidad_especificada['Cantidad'].median():.1f} ejemplares\"\n",
    "        )\n",
    "\n",
    "    return {\n",
    "        \"df_completo\": df,\n",
    "        \"df_frecuencia\": df_cantidad_cero,\n",
    "        \"df_volumen\": df_cantidad_especificada,\n",
    "        \"total_registros\": total_registros,\n",
    "        \"pct_no_especificada\": registros_cero / total_registros * 100,\n",
    "        \"pct_especificada\": registros_especificada / total_registros * 100,\n",
    "    }\n",
    "\n",
    "\n",
    "# Ejecutar análisis\n",
    "datasets_analisis = analizar_diferenciacion_cantidad(df)"
   ]
  },
  {
   "cell_type": "code",
   "execution_count": 4,
   "id": "343d8aef",
   "metadata": {},
   "outputs": [
    {
     "name": "stdout",
     "output_type": "stream",
     "text": [
      "\n",
      "ANÁLISIS DE GRANULARIDAD GEOGRÁFICA:\n",
      "============================================================\n",
      "\n",
      "REGIONES EXPORTADORAS:\n",
      "Número de regiones únicas: 5\n",
      "  - Africa: 914,360 (32.5%)\n",
      "  - Europe: 775,783 (27.6%)\n",
      "  - Americas: 666,778 (23.7%)\n",
      "  - Asia: 417,450 (14.9%)\n",
      "  - Oceania: 36,226 (1.3%)\n",
      "\n",
      "SUBREGIONES EXPORTADORAS:\n",
      "Número de subregiones únicas: 15\n",
      "Top 10 subregiones exportadoras:\n",
      "  - África Subsahariana: 889,518 (31.6%)\n",
      "  - Europa Occidental: 423,599 (15.1%)\n",
      "  - Norteamérica: 339,338 (12.1%)\n",
      "  - Latinoamérica y Caribe: 327,440 (11.7%)\n",
      "  - Sudeste Asiático: 294,936 (10.5%)\n",
      "  - Europa Oriental: 184,762 (6.6%)\n",
      "  - Europa Septentrional: 102,750 (3.7%)\n",
      "  - Asia Occidental: 71,598 (2.5%)\n",
      "  - Europa Meridional: 64,672 (2.3%)\n",
      "  - Asia Oriental: 26,474 (0.9%)\n",
      "\n",
      "REGIONES IMPORTADORAS:\n",
      "Número de regiones únicas: 5\n",
      "  - Africa: 914,360 (32.5%)\n",
      "  - Europe: 775,783 (27.6%)\n",
      "  - Americas: 666,778 (23.7%)\n",
      "  - Asia: 417,450 (14.9%)\n",
      "  - Oceania: 36,226 (1.3%)\n",
      "\n",
      "SUBREGIONES EXPORTADORAS:\n",
      "Número de subregiones únicas: 15\n",
      "Top 10 subregiones exportadoras:\n",
      "  - África Subsahariana: 889,518 (31.6%)\n",
      "  - Europa Occidental: 423,599 (15.1%)\n",
      "  - Norteamérica: 339,338 (12.1%)\n",
      "  - Latinoamérica y Caribe: 327,440 (11.7%)\n",
      "  - Sudeste Asiático: 294,936 (10.5%)\n",
      "  - Europa Oriental: 184,762 (6.6%)\n",
      "  - Europa Septentrional: 102,750 (3.7%)\n",
      "  - Asia Occidental: 71,598 (2.5%)\n",
      "  - Europa Meridional: 64,672 (2.3%)\n",
      "  - Asia Oriental: 26,474 (0.9%)\n",
      "\n",
      "REGIONES IMPORTADORAS:\n",
      "Número de regiones únicas: 5\n",
      "  - Asia: 1,121,834 (39.9%)\n",
      "  - Europe: 974,636 (34.7%)\n",
      "  - Americas: 474,449 (16.9%)\n",
      "  - Africa: 210,266 (7.5%)\n",
      "  - Oceania: 29,412 (1.0%)\n",
      "\n",
      "SUBREGIONES IMPORTADORAS:\n",
      "Número de subregiones únicas: 17\n",
      "Top 10 subregiones importadoras:\n",
      "  - Asia Oriental: 454,526 (16.2%)\n",
      "  - Europa Occidental: 382,030 (13.6%)\n",
      "  - Asia Occidental: 307,700 (10.9%)\n",
      "  - Norteamérica: 264,246 (9.4%)\n",
      "  - Sudeste Asiático: 252,255 (9.0%)\n",
      "  - Latinoamérica y Caribe: 210,203 (7.5%)\n",
      "  - Europa Oriental: 203,826 (7.3%)\n",
      "  - Europa Septentrional: 197,574 (7.0%)\n",
      "  - Europa Meridional: 191,206 (6.8%)\n",
      "  - África Subsahariana: 171,932 (6.1%)\n",
      "\n",
      "ÍNDICES DE CONCENTRACIÓN (0=perfecta diversidad, 1=monopolio):\n",
      "- Regiones exportadoras: 0.261\n",
      "- Subregiones exportadoras: 0.169\n",
      "- Regiones importadoras: 0.314\n",
      "- Subregiones importadoras: 0.099\n",
      "\n",
      "MAPEO REGIÓN-SUBREGIÓN (EXPORTACIÓN):\n",
      "Número de regiones únicas: 5\n",
      "  - Asia: 1,121,834 (39.9%)\n",
      "  - Europe: 974,636 (34.7%)\n",
      "  - Americas: 474,449 (16.9%)\n",
      "  - Africa: 210,266 (7.5%)\n",
      "  - Oceania: 29,412 (1.0%)\n",
      "\n",
      "SUBREGIONES IMPORTADORAS:\n",
      "Número de subregiones únicas: 17\n",
      "Top 10 subregiones importadoras:\n",
      "  - Asia Oriental: 454,526 (16.2%)\n",
      "  - Europa Occidental: 382,030 (13.6%)\n",
      "  - Asia Occidental: 307,700 (10.9%)\n",
      "  - Norteamérica: 264,246 (9.4%)\n",
      "  - Sudeste Asiático: 252,255 (9.0%)\n",
      "  - Latinoamérica y Caribe: 210,203 (7.5%)\n",
      "  - Europa Oriental: 203,826 (7.3%)\n",
      "  - Europa Septentrional: 197,574 (7.0%)\n",
      "  - Europa Meridional: 191,206 (6.8%)\n",
      "  - África Subsahariana: 171,932 (6.1%)\n",
      "\n",
      "ÍNDICES DE CONCENTRACIÓN (0=perfecta diversidad, 1=monopolio):\n",
      "- Regiones exportadoras: 0.261\n",
      "- Subregiones exportadoras: 0.169\n",
      "- Regiones importadoras: 0.314\n",
      "- Subregiones importadoras: 0.099\n",
      "\n",
      "MAPEO REGIÓN-SUBREGIÓN (EXPORTACIÓN):\n",
      "  - Asia: 5 subregiones\n",
      "  - Europe: 4 subregiones\n",
      "  - Africa: 2 subregiones\n",
      "  - Americas: 2 subregiones\n",
      "  - Oceania: 2 subregiones\n",
      "\n",
      "EVALUACIÓN DE NECESIDAD DE ANÁLISIS GRANULAR:\n",
      "- Total regiones: 10\n",
      "- Total subregiones: 32\n",
      "- Ratio granularidad: 3.2x\n",
      "  - Asia: 5 subregiones\n",
      "  - Europe: 4 subregiones\n",
      "  - Africa: 2 subregiones\n",
      "  - Americas: 2 subregiones\n",
      "  - Oceania: 2 subregiones\n",
      "\n",
      "EVALUACIÓN DE NECESIDAD DE ANÁLISIS GRANULAR:\n",
      "- Total regiones: 10\n",
      "- Total subregiones: 32\n",
      "- Ratio granularidad: 3.2x\n"
     ]
    }
   ],
   "source": [
    "# =====================================================================================\n",
    "# ANÁLISIS DE SUBREGIONES - EVALUACIÓN PARA INCLUSION EN DASHBOARDS\n",
    "# =====================================================================================\n",
    "\n",
    "print(\"\\nANÁLISIS DE GRANULARIDAD GEOGRÁFICA:\")\n",
    "print(\"=\" * 60)\n",
    "\n",
    "# Análizar regiones vs subregiones exportadoras\n",
    "print(\"\\nREGIONES EXPORTADORAS:\")\n",
    "regiones_exp = df[\"Region exportadora\"].value_counts()\n",
    "print(f\"Número de regiones únicas: {len(regiones_exp)}\")\n",
    "for region, count in regiones_exp.items():\n",
    "    print(f\"  - {region}: {count:,} ({count / len(df) * 100:.1f}%)\")\n",
    "\n",
    "print(f\"\\nSUBREGIONES EXPORTADORAS:\")\n",
    "subregiones_exp = df[\"Subregion exportadora\"].value_counts()\n",
    "print(f\"Número de subregiones únicas: {len(subregiones_exp)}\")\n",
    "print(\"Top 10 subregiones exportadoras:\")\n",
    "for subregion, count in subregiones_exp.head(10).items():\n",
    "    print(f\"  - {subregion}: {count:,} ({count / len(df) * 100:.1f}%)\")\n",
    "\n",
    "print(f\"\\nREGIONES IMPORTADORAS:\")\n",
    "regiones_imp = df[\"Region importadora\"].value_counts()\n",
    "print(f\"Número de regiones únicas: {len(regiones_imp)}\")\n",
    "for region, count in regiones_imp.items():\n",
    "    print(f\"  - {region}: {count:,} ({count / len(df) * 100:.1f}%)\")\n",
    "\n",
    "print(f\"\\nSUBREGIONES IMPORTADORAS:\")\n",
    "subregiones_imp = df[\"Subregion importadora\"].value_counts()\n",
    "print(f\"Número de subregiones únicas: {len(subregiones_imp)}\")\n",
    "print(\"Top 10 subregiones importadoras:\")\n",
    "for subregion, count in subregiones_imp.head(10).items():\n",
    "    print(f\"  - {subregion}: {count:,} ({count / len(df) * 100:.1f}%)\")\n",
    "\n",
    "\n",
    "# Análisis de diversidad y concentración\n",
    "def calcular_indice_concentracion(series):\n",
    "    \"\"\"Calcula el índice de concentración Herfindahl-Hirschman\"\"\"\n",
    "    proporciones = series / series.sum()\n",
    "    return (proporciones**2).sum()\n",
    "\n",
    "\n",
    "hh_regiones_exp = calcular_indice_concentracion(regiones_exp)\n",
    "hh_subregiones_exp = calcular_indice_concentracion(subregiones_exp)\n",
    "hh_regiones_imp = calcular_indice_concentracion(regiones_imp)\n",
    "hh_subregiones_imp = calcular_indice_concentracion(subregiones_imp)\n",
    "\n",
    "print(f\"\\nÍNDICES DE CONCENTRACIÓN (0=perfecta diversidad, 1=monopolio):\")\n",
    "print(f\"- Regiones exportadoras: {hh_regiones_exp:.3f}\")\n",
    "print(f\"- Subregiones exportadoras: {hh_subregiones_exp:.3f}\")\n",
    "print(f\"- Regiones importadoras: {hh_regiones_imp:.3f}\")\n",
    "print(f\"- Subregiones importadoras: {hh_subregiones_imp:.3f}\")\n",
    "\n",
    "# Análisis de mapeo región-subregión\n",
    "print(f\"\\nMAPEO REGIÓN-SUBREGIÓN (EXPORTACIÓN):\")\n",
    "region_subregion_map = (\n",
    "    df.groupby(\"Region exportadora\")[\"Subregion exportadora\"]\n",
    "    .nunique()\n",
    "    .sort_values(ascending=False)\n",
    ")\n",
    "for region, num_subregiones in region_subregion_map.items():\n",
    "    print(f\"  - {region}: {num_subregiones} subregiones\")\n",
    "\n",
    "print(f\"\\nEVALUACIÓN DE NECESIDAD DE ANÁLISIS GRANULAR:\")\n",
    "total_subregiones = len(subregiones_exp) + len(subregiones_imp)\n",
    "total_regiones = len(regiones_exp) + len(regiones_imp)\n",
    "ratio_granularidad = total_subregiones / total_regiones\n",
    "\n",
    "print(f\"- Total regiones: {total_regiones}\")\n",
    "print(f\"- Total subregiones: {total_subregiones}\")\n",
    "print(f\"- Ratio granularidad: {ratio_granularidad:.1f}x\")\n",
    "\n",
    "# Determinar si hay suficiente diversidad para justificar análisis de subregiones\n",
    "diversidad_suficiente = (\n",
    "    len(subregiones_exp) > 15\n",
    "    and len(subregiones_imp) > 15\n",
    "    and hh_subregiones_exp < 0.5\n",
    "    and hh_subregiones_imp < 0.5\n",
    ")\n",
    "\n",
    "concentracion_moderada = (\n",
    "    hh_subregiones_exp < hh_regiones_exp * 0.8\n",
    "    and hh_subregiones_imp < hh_regiones_imp * 0.8\n",
    ")"
   ]
  },
  {
   "cell_type": "markdown",
   "id": "ef085baf",
   "metadata": {},
   "source": [
    "## INTERPRETACIÓN DE RESULTADOS\n",
    "\n",
    "### Hallazgo Crítico\n",
    "El análisis revela que **95.5% de las transacciones no tienen cantidad especificada**, lo que indica:\n",
    "\n",
    "1. **Limitación en el registro**: La mayoría de transacciones CITES no reportan cantidades específicas\n",
    "2. **Dos perspectivas de análisis**:\n",
    "   - **Frecuencia**: Todas las transacciones (2.8M registros) - Indica actividad comercial\n",
    "   - **Volumen**: Solo transacciones con cantidad (126K registros) - Indica volumen real\n",
    "\n",
    "### Implicaciones Analíticas\n",
    "- **Análisis de frecuencia**: Mejor para entender patrones comerciales, rutas y especies más comercializadas\n",
    "- **Análisis de volumen**: Mejor para entender impacto cuantitativo y sostenibilidad"
   ]
  },
  {
   "cell_type": "code",
   "execution_count": 5,
   "id": "51289da0",
   "metadata": {},
   "outputs": [
    {
     "name": "stdout",
     "output_type": "stream",
     "text": [
      "🚀 Generando Dashboard Temporal Optimizado para Diapositivas...\n",
      "📊 DASHBOARD TEMPORAL: TENDENCIAS CITES 2000-2021\n",
      "============================================================\n"
     ]
    },
    {
     "name": "stdout",
     "output_type": "stream",
     "text": [
      "🚀 Generando Dashboard Temporal Optimizado para Diapositivas...\n",
      "📊 DASHBOARD TEMPORAL: TENDENCIAS CITES 2000-2021\n",
      "============================================================\n"
     ]
    },
    {
     "data": {
      "application/vnd.plotly.v1+json": {
       "config": {
        "plotlyServerURL": "https://plot.ly"
       },
       "data": [
        {
         "hovertemplate": "<b>%{x}</b><br>Transacciones: %{y:,.0f}<extra></extra>",
         "line": {
          "color": "#2E86C1",
          "width": 3
         },
         "marker": {
          "color": "#2E86C1",
          "size": 6
         },
         "mode": "lines+markers",
         "name": "Transacciones",
         "type": "scatter",
         "x": {
          "bdata": "0AfRB9IH0wfUB9UH1gfXB9gH2QfaB9sH3AfdB94H3wfgB+EH4gfjB+QH5Qc=",
          "dtype": "i2"
         },
         "xaxis": "x",
         "y": {
          "bdata": "R/ABAEfwAQBH8AEAG/YBABr2AQDC/QEAlv0BAJb9AQCj7QEAo+0BAEvuAQBP7gEAT+4BAP/vAQCu8AEArvABAArxAQDG8gEAxvIBAP/0AQDn9AEA5/QBAA==",
          "dtype": "i4"
         },
         "yaxis": "y"
        },
        {
         "fill": "tozeroy",
         "fillcolor": "rgba(243, 156, 18, 0.3)",
         "hovertemplate": "<b>%{x}</b><br>Ejemplares: %{y:,.0f}<extra></extra>",
         "line": {
          "color": "#F39C12",
          "width": 2
         },
         "mode": "lines",
         "name": "Volumen",
         "type": "scatter",
         "x": {
          "bdata": "0AfRB9IH0wfUB9UH1gfXB9gH2QfaB9sH3AfdB94H3wfgB+EH4gfjB+QH5Qc=",
          "dtype": "i2"
         },
         "xaxis": "x2",
         "y": {
          "bdata": "SgwCQ3FYVkGuR+HiyHFUQQRWDm0QFFNByXa+n3ogVEFeuknc7P1TQaabxJhtvFRBObTIng7YUkEX2c4Hmk9RQfLSTTLLh0tBrBxapOfOSkE3iUGAmMFKQTeJQcCWFkxBxSCwQlf1TUH+1Hg54dRLQZqZmRmnEUxBoBovJWhxUEGYbhK7IkpSQYPAymmGN1JBy6FFnmLxUkFCYOWIUOpVQXNokW3q20pBpHA9siZqUEE=",
          "dtype": "f8"
         },
         "yaxis": "y2"
        }
       ],
       "layout": {
        "annotations": [
         {
          "font": {
           "size": 16
          },
          "showarrow": false,
          "text": "📈 Transacciones CITES por Año",
          "x": 0.5,
          "xanchor": "center",
          "xref": "paper",
          "y": 1,
          "yanchor": "bottom",
          "yref": "paper"
         },
         {
          "font": {
           "size": 16
          },
          "showarrow": false,
          "text": "📦 Volumen de Ejemplares Comercializados",
          "x": 0.5,
          "xanchor": "center",
          "xref": "paper",
          "y": 0.44,
          "yanchor": "bottom",
          "yref": "paper"
         },
         {
          "arrowcolor": "#E74C3C",
          "arrowhead": 2,
          "arrowsize": 1,
          "arrowwidth": 2,
          "bgcolor": "white",
          "bordercolor": "#E74C3C",
          "borderwidth": 2,
          "font": {
           "size": 10
          },
          "showarrow": true,
          "text": "<b>Pico: 2005</b><br>130K",
          "x": 2005,
          "xref": "x",
          "y": 130498,
          "yref": "y"
         },
         {
          "arrowcolor": "#E74C3C",
          "arrowhead": 2,
          "arrowsize": 1,
          "arrowwidth": 2,
          "bgcolor": "white",
          "bordercolor": "#E74C3C",
          "borderwidth": 2,
          "font": {
           "size": 10
          },
          "showarrow": true,
          "text": "<b>Pico: 2000</b><br>5.9M",
          "x": 2000,
          "xref": "x2",
          "y": 5857733.047,
          "yref": "y2"
         }
        ],
        "height": 600,
        "showlegend": false,
        "template": {
         "layout": {
          "colorway": [
           "#2E86C1",
           "#F39C12",
           "#E74C3C",
           "#27AE60",
           "#8E44AD",
           "#F1C40F"
          ],
          "font": {
           "color": "#2C3E50",
           "family": "Arial, sans-serif",
           "size": 12
          },
          "legend": {
           "bgcolor": "rgba(255,255,255,0.8)",
           "bordercolor": "#BDC3C7",
           "borderwidth": 1,
           "font": {
            "size": 10
           }
          },
          "margin": {
           "b": 60,
           "l": 60,
           "r": 60,
           "t": 80
          },
          "paper_bgcolor": "#FFFFFF",
          "plot_bgcolor": "#FFFFFF",
          "title": {
           "font": {
            "color": "#2C3E50",
            "size": 16
           },
           "x": 0.5,
           "xanchor": "center"
          },
          "xaxis": {
           "gridcolor": "#BDC3C7",
           "gridwidth": 0.5,
           "linecolor": "#2C3E50",
           "linewidth": 1,
           "showline": true,
           "tickfont": {
            "size": 10
           },
           "zeroline": false
          },
          "yaxis": {
           "gridcolor": "#BDC3C7",
           "gridwidth": 0.5,
           "linecolor": "#2C3E50",
           "linewidth": 1,
           "showline": true,
           "tickfont": {
            "size": 10
           },
           "zeroline": false
          }
         }
        },
        "title": {
         "text": "<b>Evolución del Comercio Internacional de Fauna CITES</b>"
        },
        "xaxis": {
         "anchor": "y",
         "domain": [
          0,
          1
         ]
        },
        "xaxis2": {
         "anchor": "y2",
         "domain": [
          0,
          1
         ],
         "title": {
          "text": "Año"
         }
        },
        "yaxis": {
         "anchor": "x",
         "domain": [
          0.56,
          1
         ],
         "title": {
          "text": "N° Transacciones"
         }
        },
        "yaxis2": {
         "anchor": "x2",
         "domain": [
          0,
          0.44
         ],
         "title": {
          "text": "Ejemplares"
         }
        }
       }
      }
     },
     "metadata": {},
     "output_type": "display_data"
    },
    {
     "name": "stdout",
     "output_type": "stream",
     "text": [
      "🚀 Generando Dashboard Temporal Optimizado para Diapositivas...\n",
      "📊 DASHBOARD TEMPORAL: TENDENCIAS CITES 2000-2021\n",
      "============================================================\n"
     ]
    },
    {
     "data": {
      "application/vnd.plotly.v1+json": {
       "config": {
        "plotlyServerURL": "https://plot.ly"
       },
       "data": [
        {
         "hovertemplate": "<b>%{x}</b><br>Transacciones: %{y:,.0f}<extra></extra>",
         "line": {
          "color": "#2E86C1",
          "width": 3
         },
         "marker": {
          "color": "#2E86C1",
          "size": 6
         },
         "mode": "lines+markers",
         "name": "Transacciones",
         "type": "scatter",
         "x": {
          "bdata": "0AfRB9IH0wfUB9UH1gfXB9gH2QfaB9sH3AfdB94H3wfgB+EH4gfjB+QH5Qc=",
          "dtype": "i2"
         },
         "xaxis": "x",
         "y": {
          "bdata": "R/ABAEfwAQBH8AEAG/YBABr2AQDC/QEAlv0BAJb9AQCj7QEAo+0BAEvuAQBP7gEAT+4BAP/vAQCu8AEArvABAArxAQDG8gEAxvIBAP/0AQDn9AEA5/QBAA==",
          "dtype": "i4"
         },
         "yaxis": "y"
        },
        {
         "fill": "tozeroy",
         "fillcolor": "rgba(243, 156, 18, 0.3)",
         "hovertemplate": "<b>%{x}</b><br>Ejemplares: %{y:,.0f}<extra></extra>",
         "line": {
          "color": "#F39C12",
          "width": 2
         },
         "mode": "lines",
         "name": "Volumen",
         "type": "scatter",
         "x": {
          "bdata": "0AfRB9IH0wfUB9UH1gfXB9gH2QfaB9sH3AfdB94H3wfgB+EH4gfjB+QH5Qc=",
          "dtype": "i2"
         },
         "xaxis": "x2",
         "y": {
          "bdata": "SgwCQ3FYVkGuR+HiyHFUQQRWDm0QFFNByXa+n3ogVEFeuknc7P1TQaabxJhtvFRBObTIng7YUkEX2c4Hmk9RQfLSTTLLh0tBrBxapOfOSkE3iUGAmMFKQTeJQcCWFkxBxSCwQlf1TUH+1Hg54dRLQZqZmRmnEUxBoBovJWhxUEGYbhK7IkpSQYPAymmGN1JBy6FFnmLxUkFCYOWIUOpVQXNokW3q20pBpHA9siZqUEE=",
          "dtype": "f8"
         },
         "yaxis": "y2"
        }
       ],
       "layout": {
        "annotations": [
         {
          "font": {
           "size": 16
          },
          "showarrow": false,
          "text": "📈 Transacciones CITES por Año",
          "x": 0.5,
          "xanchor": "center",
          "xref": "paper",
          "y": 1,
          "yanchor": "bottom",
          "yref": "paper"
         },
         {
          "font": {
           "size": 16
          },
          "showarrow": false,
          "text": "📦 Volumen de Ejemplares Comercializados",
          "x": 0.5,
          "xanchor": "center",
          "xref": "paper",
          "y": 0.44,
          "yanchor": "bottom",
          "yref": "paper"
         },
         {
          "arrowcolor": "#E74C3C",
          "arrowhead": 2,
          "arrowsize": 1,
          "arrowwidth": 2,
          "bgcolor": "white",
          "bordercolor": "#E74C3C",
          "borderwidth": 2,
          "font": {
           "size": 10
          },
          "showarrow": true,
          "text": "<b>Pico: 2005</b><br>130K",
          "x": 2005,
          "xref": "x",
          "y": 130498,
          "yref": "y"
         },
         {
          "arrowcolor": "#E74C3C",
          "arrowhead": 2,
          "arrowsize": 1,
          "arrowwidth": 2,
          "bgcolor": "white",
          "bordercolor": "#E74C3C",
          "borderwidth": 2,
          "font": {
           "size": 10
          },
          "showarrow": true,
          "text": "<b>Pico: 2000</b><br>5.9M",
          "x": 2000,
          "xref": "x2",
          "y": 5857733.047,
          "yref": "y2"
         }
        ],
        "height": 600,
        "showlegend": false,
        "template": {
         "layout": {
          "colorway": [
           "#2E86C1",
           "#F39C12",
           "#E74C3C",
           "#27AE60",
           "#8E44AD",
           "#F1C40F"
          ],
          "font": {
           "color": "#2C3E50",
           "family": "Arial, sans-serif",
           "size": 12
          },
          "legend": {
           "bgcolor": "rgba(255,255,255,0.8)",
           "bordercolor": "#BDC3C7",
           "borderwidth": 1,
           "font": {
            "size": 10
           }
          },
          "margin": {
           "b": 60,
           "l": 60,
           "r": 60,
           "t": 80
          },
          "paper_bgcolor": "#FFFFFF",
          "plot_bgcolor": "#FFFFFF",
          "title": {
           "font": {
            "color": "#2C3E50",
            "size": 16
           },
           "x": 0.5,
           "xanchor": "center"
          },
          "xaxis": {
           "gridcolor": "#BDC3C7",
           "gridwidth": 0.5,
           "linecolor": "#2C3E50",
           "linewidth": 1,
           "showline": true,
           "tickfont": {
            "size": 10
           },
           "zeroline": false
          },
          "yaxis": {
           "gridcolor": "#BDC3C7",
           "gridwidth": 0.5,
           "linecolor": "#2C3E50",
           "linewidth": 1,
           "showline": true,
           "tickfont": {
            "size": 10
           },
           "zeroline": false
          }
         }
        },
        "title": {
         "text": "<b>Evolución del Comercio Internacional de Fauna CITES</b>"
        },
        "xaxis": {
         "anchor": "y",
         "domain": [
          0,
          1
         ]
        },
        "xaxis2": {
         "anchor": "y2",
         "domain": [
          0,
          1
         ],
         "title": {
          "text": "Año"
         }
        },
        "yaxis": {
         "anchor": "x",
         "domain": [
          0.56,
          1
         ],
         "title": {
          "text": "N° Transacciones"
         }
        },
        "yaxis2": {
         "anchor": "x2",
         "domain": [
          0,
          0.44
         ],
         "title": {
          "text": "Ejemplares"
         }
        }
       }
      }
     },
     "metadata": {},
     "output_type": "display_data"
    },
    {
     "data": {
      "application/vnd.plotly.v1+json": {
       "config": {
        "plotlyServerURL": "https://plot.ly"
       },
       "data": [
        {
         "hovertemplate": "<b>%{x}</b><br>Promedio: %{y:,.0f}<extra></extra>",
         "marker": {
          "color": "#2E86C1"
         },
         "name": "Transacciones",
         "text": [
          "129K",
          "127K",
          "128K"
         ],
         "textposition": "outside",
         "type": "bar",
         "x": [
          "2000-2007",
          "2008-2014",
          "2015-2021"
         ],
         "xaxis": "x",
         "y": [
          128703,
          126641.71428571429,
          127783
         ],
         "yaxis": "y"
        },
        {
         "hovertemplate": "<b>%{x}</b><br>Promedio: %{y:,.0f}<extra></extra>",
         "marker": {
          "color": "#F39C12"
         },
         "name": "Volumen",
         "text": [
          "5.2M",
          "3.7M",
          "4.6M"
         ],
         "textposition": "outside",
         "type": "bar",
         "x": [
          "2000-2007",
          "2008-2014",
          "2015-2021"
         ],
         "xaxis": "x2",
         "y": [
          5206116.153,
          3652078.193,
          4630656.201428572
         ],
         "yaxis": "y2"
        }
       ],
       "layout": {
        "annotations": [
         {
          "font": {
           "size": 16
          },
          "showarrow": false,
          "text": "📊 Transacciones por Período",
          "x": 0.225,
          "xanchor": "center",
          "xref": "paper",
          "y": 1,
          "yanchor": "bottom",
          "yref": "paper"
         },
         {
          "font": {
           "size": 16
          },
          "showarrow": false,
          "text": "📈 Volumen por Período",
          "x": 0.775,
          "xanchor": "center",
          "xref": "paper",
          "y": 1,
          "yanchor": "bottom",
          "yref": "paper"
         }
        ],
        "height": 400,
        "showlegend": false,
        "template": {
         "layout": {
          "colorway": [
           "#2E86C1",
           "#F39C12",
           "#E74C3C",
           "#27AE60",
           "#8E44AD",
           "#F1C40F"
          ],
          "font": {
           "color": "#2C3E50",
           "family": "Arial, sans-serif",
           "size": 12
          },
          "legend": {
           "bgcolor": "rgba(255,255,255,0.8)",
           "bordercolor": "#BDC3C7",
           "borderwidth": 1,
           "font": {
            "size": 10
           }
          },
          "margin": {
           "b": 60,
           "l": 60,
           "r": 60,
           "t": 80
          },
          "paper_bgcolor": "#FFFFFF",
          "plot_bgcolor": "#FFFFFF",
          "title": {
           "font": {
            "color": "#2C3E50",
            "size": 16
           },
           "x": 0.5,
           "xanchor": "center"
          },
          "xaxis": {
           "gridcolor": "#BDC3C7",
           "gridwidth": 0.5,
           "linecolor": "#2C3E50",
           "linewidth": 1,
           "showline": true,
           "tickfont": {
            "size": 10
           },
           "zeroline": false
          },
          "yaxis": {
           "gridcolor": "#BDC3C7",
           "gridwidth": 0.5,
           "linecolor": "#2C3E50",
           "linewidth": 1,
           "showline": true,
           "tickfont": {
            "size": 10
           },
           "zeroline": false
          }
         }
        },
        "title": {
         "text": "<b>Análisis por Períodos: Promedios Anuales</b>"
        },
        "xaxis": {
         "anchor": "y",
         "domain": [
          0,
          0.45
         ]
        },
        "xaxis2": {
         "anchor": "y2",
         "domain": [
          0.55,
          1
         ]
        },
        "yaxis": {
         "anchor": "x",
         "domain": [
          0,
          1
         ],
         "title": {
          "text": "Transacciones"
         }
        },
        "yaxis2": {
         "anchor": "x2",
         "domain": [
          0,
          1
         ],
         "title": {
          "text": "Ejemplares"
         }
        }
       }
      }
     },
     "metadata": {},
     "output_type": "display_data"
    },
    {
     "name": "stdout",
     "output_type": "stream",
     "text": [
      "\n",
      "🎯 INSIGHTS CLAVE PARA DIAPOSITIVAS:\n",
      "──────────────────────────────────────────────────\n",
      "1. TENDENCIA 2000-2021: 📈 CRECIENTE\n",
      "   • Crecimiento total: +0.9%\n",
      "   • Promedio anual: 127,754 transacciones\n",
      "\n",
      "2. AÑOS CRÍTICOS:\n",
      "   • Pico transacciones: 2005 (130K)\n",
      "   • Pico volumen: 2000 (5.9M ejemplares)\n",
      "\n",
      "3. EVOLUCIÓN RECIENTE:\n",
      "   • Cambio 2015-2021 vs 2008-2014: +0.9%\n",
      "   • ➡️ ESTABILIZACIÓN del comercio\n"
     ]
    }
   ],
   "source": [
    "# =====================================================================================\n",
    "# DASHBOARD 1: ANÁLISIS TEMPORAL OPTIMIZADO PARA DIAPOSITIVAS\n",
    "# =====================================================================================\n",
    "\n",
    "def crear_dashboard_temporal_slides(datasets_analisis):\n",
    "    \"\"\"\n",
    "    Dashboard temporal optimizado para diapositivas: conciso, impactful y profesional\n",
    "    \"\"\"\n",
    "    \n",
    "    df_completo = datasets_analisis[\"df_completo\"]\n",
    "    df_volumen = datasets_analisis[\"df_volumen\"]\n",
    "    \n",
    "    print(\"📊 DASHBOARD TEMPORAL: TENDENCIAS CITES 2000-2021\")\n",
    "    print(\"=\" * 60)\n",
    "    \n",
    "    # Preparar datos\n",
    "    frecuencia_anual = df_completo.groupby(\"Año\").size()\n",
    "    volumen_anual = df_volumen.groupby(\"Año\")[\"Cantidad\"].sum()\n",
    "    \n",
    "    # Calcular métricas clave\n",
    "    años = frecuencia_anual.index\n",
    "    año_inicio, año_fin = años[0], años[-1]\n",
    "    crecimiento_freq = ((frecuencia_anual.iloc[-1] / frecuencia_anual.iloc[0]) - 1) * 100\n",
    "    año_pico_freq = frecuencia_anual.idxmax()\n",
    "    año_pico_vol = volumen_anual.idxmax()\n",
    "    \n",
    "    # =============================================================================\n",
    "    # GRÁFICO 1: EVOLUCIÓN DUAL CON TENDENCIAS\n",
    "    # =============================================================================\n",
    "    \n",
    "    fig1 = make_subplots(\n",
    "        rows=2, cols=1,\n",
    "        subplot_titles=(\n",
    "            \"📈 Transacciones CITES por Año\", \n",
    "            \"📦 Volumen de Ejemplares Comercializados\"\n",
    "        ),\n",
    "        vertical_spacing=0.12,\n",
    "        specs=[[{\"secondary_y\": False}], [{\"secondary_y\": False}]]\n",
    "    )\n",
    "    \n",
    "    # Gráfico de frecuencia con línea de tendencia\n",
    "    fig1.add_trace(\n",
    "        go.Scatter(\n",
    "            x=años, \n",
    "            y=frecuencia_anual.values,\n",
    "            mode='lines+markers',\n",
    "            name='Transacciones',\n",
    "            line=dict(color=SLIDE_COLORS[\"primary\"], width=3),\n",
    "            marker=dict(size=6, color=SLIDE_COLORS[\"primary\"]),\n",
    "            hovertemplate=\"<b>%{x}</b><br>Transacciones: %{y:,.0f}<extra></extra>\"\n",
    "        ),\n",
    "        row=1, col=1\n",
    "    )\n",
    "    \n",
    "    # Gráfico de volumen con área\n",
    "    fig1.add_trace(\n",
    "        go.Scatter(\n",
    "            x=volumen_anual.index,\n",
    "            y=volumen_anual.values,\n",
    "            mode='lines',\n",
    "            name='Volumen',\n",
    "            fill='tozeroy',\n",
    "            line=dict(color=SLIDE_COLORS[\"secondary\"], width=2),\n",
    "            fillcolor=f\"rgba({int(SLIDE_COLORS['secondary'][1:3], 16)}, {int(SLIDE_COLORS['secondary'][3:5], 16)}, {int(SLIDE_COLORS['secondary'][5:7], 16)}, 0.3)\",\n",
    "            hovertemplate=\"<b>%{x}</b><br>Ejemplares: %{y:,.0f}<extra></extra>\"\n",
    "        ),\n",
    "        row=2, col=1\n",
    "    )\n",
    "    \n",
    "    # Destacar años pico\n",
    "    fig1.add_annotation(\n",
    "        x=año_pico_freq, y=frecuencia_anual[año_pico_freq],\n",
    "        text=f\"<b>Pico: {año_pico_freq}</b><br>{format_number(frecuencia_anual[año_pico_freq])}\",\n",
    "        showarrow=True, arrowhead=2, arrowsize=1, arrowwidth=2,\n",
    "        arrowcolor=SLIDE_COLORS[\"accent\"], bgcolor=\"white\",\n",
    "        bordercolor=SLIDE_COLORS[\"accent\"], borderwidth=2,\n",
    "        font=dict(size=10), row=1, col=1\n",
    "    )\n",
    "    \n",
    "    fig1.add_annotation(\n",
    "        x=año_pico_vol, y=volumen_anual[año_pico_vol],\n",
    "        text=f\"<b>Pico: {año_pico_vol}</b><br>{format_number(volumen_anual[año_pico_vol])}\",\n",
    "        showarrow=True, arrowhead=2, arrowsize=1, arrowwidth=2,\n",
    "        arrowcolor=SLIDE_COLORS[\"accent\"], bgcolor=\"white\",\n",
    "        bordercolor=SLIDE_COLORS[\"accent\"], borderwidth=2,\n",
    "        font=dict(size=10), row=2, col=1\n",
    "    )\n",
    "    \n",
    "    fig1.update_layout(\n",
    "        title=\"<b>Evolución del Comercio Internacional de Fauna CITES</b>\",\n",
    "        height=600,\n",
    "        showlegend=False,\n",
    "        template=\"slide_template\"\n",
    "    )\n",
    "    \n",
    "    fig1.update_xaxes(title_text=\"Año\", row=2, col=1)\n",
    "    fig1.update_yaxes(title_text=\"N° Transacciones\", row=1, col=1)\n",
    "    fig1.update_yaxes(title_text=\"Ejemplares\", row=2, col=1)\n",
    "    \n",
    "    fig1.show()\n",
    "    \n",
    "    # =============================================================================\n",
    "    # GRÁFICO 2: COMPARATIVA CONCENTRADA (INDICADORES CLAVE)\n",
    "    # =============================================================================\n",
    "    \n",
    "    # Calcular períodos clave\n",
    "    periodo_1 = frecuencia_anual.loc[2000:2007].mean()\n",
    "    periodo_2 = frecuencia_anual.loc[2008:2014].mean()\n",
    "    periodo_3 = frecuencia_anual.loc[2015:2021].mean()\n",
    "    \n",
    "    vol_periodo_1 = volumen_anual.loc[2000:2007].mean() if len(volumen_anual.loc[2000:2007]) > 0 else 0\n",
    "    vol_periodo_2 = volumen_anual.loc[2008:2014].mean() if len(volumen_anual.loc[2008:2014]) > 0 else 0\n",
    "    vol_periodo_3 = volumen_anual.loc[2015:2021].mean() if len(volumen_anual.loc[2015:2021]) > 0 else 0\n",
    "    \n",
    "    fig2 = make_subplots(\n",
    "        rows=1, cols=2,\n",
    "        subplot_titles=(\"📊 Transacciones por Período\", \"📈 Volumen por Período\"),\n",
    "        specs=[[{\"type\": \"bar\"}, {\"type\": \"bar\"}]]\n",
    "    )\n",
    "    \n",
    "    periodos = [\"2000-2007\", \"2008-2014\", \"2015-2021\"]\n",
    "    freq_periodos = [periodo_1, periodo_2, periodo_3]\n",
    "    vol_periodos = [vol_periodo_1, vol_periodo_2, vol_periodo_3]\n",
    "    \n",
    "    # Barras de frecuencia\n",
    "    fig2.add_trace(\n",
    "        go.Bar(\n",
    "            x=periodos,\n",
    "            y=freq_periodos,\n",
    "            name=\"Transacciones\",\n",
    "            marker_color=SLIDE_COLORS[\"primary\"],\n",
    "            text=[format_number(x) for x in freq_periodos],\n",
    "            textposition=\"outside\",\n",
    "            hovertemplate=\"<b>%{x}</b><br>Promedio: %{y:,.0f}<extra></extra>\"\n",
    "        ),\n",
    "        row=1, col=1\n",
    "    )\n",
    "    \n",
    "    # Barras de volumen\n",
    "    fig2.add_trace(\n",
    "        go.Bar(\n",
    "            x=periodos,\n",
    "            y=vol_periodos,\n",
    "            name=\"Volumen\",\n",
    "            marker_color=SLIDE_COLORS[\"secondary\"],\n",
    "            text=[format_number(x) for x in vol_periodos],\n",
    "            textposition=\"outside\",\n",
    "            hovertemplate=\"<b>%{x}</b><br>Promedio: %{y:,.0f}<extra></extra>\"\n",
    "        ),\n",
    "        row=1, col=2\n",
    "    )\n",
    "    \n",
    "    fig2.update_layout(\n",
    "        title=\"<b>Análisis por Períodos: Promedios Anuales</b>\",\n",
    "        height=400,\n",
    "        showlegend=False,\n",
    "        template=\"slide_template\"\n",
    "    )\n",
    "    \n",
    "    fig2.update_yaxes(title_text=\"Transacciones\", row=1, col=1)\n",
    "    fig2.update_yaxes(title_text=\"Ejemplares\", row=1, col=2)\n",
    "    \n",
    "    fig2.show()\n",
    "    \n",
    "    # =============================================================================\n",
    "    # INSIGHTS EJECUTIVOS CONDENSADOS\n",
    "    # =============================================================================\n",
    "    \n",
    "    print(\"\\n🎯 INSIGHTS CLAVE PARA DIAPOSITIVAS:\")\n",
    "    print(\"─\" * 50)\n",
    "    \n",
    "    # Insight 1: Tendencia general\n",
    "    tendencia = \"📈 CRECIENTE\" if crecimiento_freq > 0 else \"📉 DECRECIENTE\"\n",
    "    print(f\"1. TENDENCIA {años[0]}-{años[-1]}: {tendencia}\")\n",
    "    print(f\"   • Crecimiento total: {crecimiento_freq:+.1f}%\")\n",
    "    print(f\"   • Promedio anual: {frecuencia_anual.mean():,.0f} transacciones\")\n",
    "    \n",
    "    # Insight 2: Años críticos\n",
    "    print(f\"\\n2. AÑOS CRÍTICOS:\")\n",
    "    print(f\"   • Pico transacciones: {año_pico_freq} ({format_number(frecuencia_anual[año_pico_freq])})\")\n",
    "    print(f\"   • Pico volumen: {año_pico_vol} ({format_number(volumen_anual[año_pico_vol])} ejemplares)\")\n",
    "    \n",
    "    # Insight 3: Patrones por período\n",
    "    cambio_reciente = ((periodo_3 - periodo_2) / periodo_2) * 100\n",
    "    print(f\"\\n3. EVOLUCIÓN RECIENTE:\")\n",
    "    print(f\"   • Cambio 2015-2021 vs 2008-2014: {cambio_reciente:+.1f}%\")\n",
    "    if cambio_reciente > 10:\n",
    "        print(\"   • ⚠️ ACELERACIÓN significativa del comercio\")\n",
    "    elif cambio_reciente < -10:\n",
    "        print(\"   • ✅ DESACELERACIÓN del comercio\")\n",
    "    else:\n",
    "        print(\"   • ➡️ ESTABILIZACIÓN del comercio\")\n",
    "    \n",
    "    return {\n",
    "        \"frecuencia_anual\": frecuencia_anual,\n",
    "        \"volumen_anual\": volumen_anual,\n",
    "        \"crecimiento_total\": crecimiento_freq,\n",
    "        \"año_pico_freq\": año_pico_freq,\n",
    "        \"año_pico_vol\": año_pico_vol,\n",
    "        \"tendencia_reciente\": cambio_reciente,\n",
    "        \"periodos\": {\n",
    "            \"2000-2007\": {\"freq\": periodo_1, \"vol\": vol_periodo_1},\n",
    "            \"2008-2014\": {\"freq\": periodo_2, \"vol\": vol_periodo_2}, \n",
    "            \"2015-2021\": {\"freq\": periodo_3, \"vol\": vol_periodo_3}\n",
    "        }\n",
    "    }\n",
    "\n",
    "# Generar dashboard temporal optimizado\n",
    "print(\"🚀 Generando Dashboard Temporal Optimizado para Diapositivas...\")\n",
    "temporal_metrics = crear_dashboard_temporal_slides(datasets_analisis)"
   ]
  },
  {
   "cell_type": "code",
   "execution_count": 6,
   "id": "06a0bcd5",
   "metadata": {},
   "outputs": [
    {
     "name": "stdout",
     "output_type": "stream",
     "text": [
      "🌍 Generando Dashboard Geográfico Optimizado para Diapositivas...\n",
      "🌍 DASHBOARD GEOGRÁFICO: PATRONES GLOBALES CITES\n",
      "============================================================\n"
     ]
    },
    {
     "name": "stdout",
     "output_type": "stream",
     "text": [
      "🌍 Generando Dashboard Geográfico Optimizado para Diapositivas...\n",
      "🌍 DASHBOARD GEOGRÁFICO: PATRONES GLOBALES CITES\n",
      "============================================================\n"
     ]
    },
    {
     "data": {
      "application/vnd.plotly.v1+json": {
       "config": {
        "plotlyServerURL": "https://plot.ly"
       },
       "data": [
        {
         "hovertemplate": "<b>%{y}</b><br>Transacciones: %{x:,.0f}<extra></extra>",
         "marker": {
          "color": "#2E86C1"
         },
         "name": "Transacciones",
         "orientation": "h",
         "text": [
          "86K",
          "94K",
          "116K",
          "146K",
          "151K",
          "161K",
          "186K",
          "301K"
         ],
         "textposition": "outside",
         "type": "bar",
         "x": {
          "bdata": "ak4BAFRtAQCYwwEALjkCALBNAgDedAIA4tYCAGyXBAA=",
          "dtype": "i4"
         },
         "xaxis": "x",
         "y": [
          "Chequia",
          "Madagascar",
          "Alemania",
          "Canada",
          "Paises Bajos",
          "Indonesia",
          "Estados Unidos",
          "Sudafrica"
         ],
         "yaxis": "y"
        },
        {
         "hovertemplate": "<b>%{y}</b><br>Ejemplares: %{x:,.0f}<extra></extra>",
         "marker": {
          "color": "#F39C12"
         },
         "name": "Volumen",
         "orientation": "h",
         "text": [
          "4.3M",
          "4.4M",
          "4.6M",
          "6.3M",
          "6.6M",
          "7.7M",
          "12.3M",
          "20.2M"
         ],
         "textposition": "outside",
         "type": "bar",
         "x": {
          "bdata": "8KfGS7JRUEEAAADAY6NQQQAAAEA2g1FBAAAAUFUfWEEAAAAg+0hZQQAAAMBzL11BAAAAyIx6Z0FSuB6dgkZzQQ==",
          "dtype": "f8"
         },
         "xaxis": "x2",
         "y": [
          "Sudafrica",
          "Vietnam",
          "Peru",
          "Malasia",
          "Argentina",
          "El Salvador",
          "Estados Unidos",
          "Indonesia"
         ],
         "yaxis": "y2"
        }
       ],
       "layout": {
        "annotations": [
         {
          "font": {
           "size": 16
          },
          "showarrow": false,
          "text": "🏭 Top Exportadores por Transacciones",
          "x": 0.2125,
          "xanchor": "center",
          "xref": "paper",
          "y": 1,
          "yanchor": "bottom",
          "yref": "paper"
         },
         {
          "font": {
           "size": 16
          },
          "showarrow": false,
          "text": "📦 Top Exportadores por Volumen",
          "x": 0.7875,
          "xanchor": "center",
          "xref": "paper",
          "y": 1,
          "yanchor": "bottom",
          "yref": "paper"
         }
        ],
        "height": 500,
        "showlegend": false,
        "template": {
         "layout": {
          "colorway": [
           "#2E86C1",
           "#F39C12",
           "#E74C3C",
           "#27AE60",
           "#8E44AD",
           "#F1C40F"
          ],
          "font": {
           "color": "#2C3E50",
           "family": "Arial, sans-serif",
           "size": 12
          },
          "legend": {
           "bgcolor": "rgba(255,255,255,0.8)",
           "bordercolor": "#BDC3C7",
           "borderwidth": 1,
           "font": {
            "size": 10
           }
          },
          "margin": {
           "b": 60,
           "l": 60,
           "r": 60,
           "t": 80
          },
          "paper_bgcolor": "#FFFFFF",
          "plot_bgcolor": "#FFFFFF",
          "title": {
           "font": {
            "color": "#2C3E50",
            "size": 16
           },
           "x": 0.5,
           "xanchor": "center"
          },
          "xaxis": {
           "gridcolor": "#BDC3C7",
           "gridwidth": 0.5,
           "linecolor": "#2C3E50",
           "linewidth": 1,
           "showline": true,
           "tickfont": {
            "size": 10
           },
           "zeroline": false
          },
          "yaxis": {
           "gridcolor": "#BDC3C7",
           "gridwidth": 0.5,
           "linecolor": "#2C3E50",
           "linewidth": 1,
           "showline": true,
           "tickfont": {
            "size": 10
           },
           "zeroline": false
          }
         }
        },
        "title": {
         "text": "<b>Líderes Mundiales en Exportación de Fauna CITES</b>"
        },
        "xaxis": {
         "anchor": "y",
         "domain": [
          0,
          0.425
         ],
         "title": {
          "text": "N° Transacciones"
         }
        },
        "xaxis2": {
         "anchor": "y2",
         "domain": [
          0.575,
          1
         ],
         "title": {
          "text": "Ejemplares"
         }
        },
        "yaxis": {
         "anchor": "x",
         "domain": [
          0,
          1
         ]
        },
        "yaxis2": {
         "anchor": "x2",
         "domain": [
          0,
          1
         ]
        }
       }
      }
     },
     "metadata": {},
     "output_type": "display_data"
    },
    {
     "name": "stdout",
     "output_type": "stream",
     "text": [
      "🌍 Generando Dashboard Geográfico Optimizado para Diapositivas...\n",
      "🌍 DASHBOARD GEOGRÁFICO: PATRONES GLOBALES CITES\n",
      "============================================================\n"
     ]
    },
    {
     "data": {
      "application/vnd.plotly.v1+json": {
       "config": {
        "plotlyServerURL": "https://plot.ly"
       },
       "data": [
        {
         "hovertemplate": "<b>%{y}</b><br>Transacciones: %{x:,.0f}<extra></extra>",
         "marker": {
          "color": "#2E86C1"
         },
         "name": "Transacciones",
         "orientation": "h",
         "text": [
          "86K",
          "94K",
          "116K",
          "146K",
          "151K",
          "161K",
          "186K",
          "301K"
         ],
         "textposition": "outside",
         "type": "bar",
         "x": {
          "bdata": "ak4BAFRtAQCYwwEALjkCALBNAgDedAIA4tYCAGyXBAA=",
          "dtype": "i4"
         },
         "xaxis": "x",
         "y": [
          "Chequia",
          "Madagascar",
          "Alemania",
          "Canada",
          "Paises Bajos",
          "Indonesia",
          "Estados Unidos",
          "Sudafrica"
         ],
         "yaxis": "y"
        },
        {
         "hovertemplate": "<b>%{y}</b><br>Ejemplares: %{x:,.0f}<extra></extra>",
         "marker": {
          "color": "#F39C12"
         },
         "name": "Volumen",
         "orientation": "h",
         "text": [
          "4.3M",
          "4.4M",
          "4.6M",
          "6.3M",
          "6.6M",
          "7.7M",
          "12.3M",
          "20.2M"
         ],
         "textposition": "outside",
         "type": "bar",
         "x": {
          "bdata": "8KfGS7JRUEEAAADAY6NQQQAAAEA2g1FBAAAAUFUfWEEAAAAg+0hZQQAAAMBzL11BAAAAyIx6Z0FSuB6dgkZzQQ==",
          "dtype": "f8"
         },
         "xaxis": "x2",
         "y": [
          "Sudafrica",
          "Vietnam",
          "Peru",
          "Malasia",
          "Argentina",
          "El Salvador",
          "Estados Unidos",
          "Indonesia"
         ],
         "yaxis": "y2"
        }
       ],
       "layout": {
        "annotations": [
         {
          "font": {
           "size": 16
          },
          "showarrow": false,
          "text": "🏭 Top Exportadores por Transacciones",
          "x": 0.2125,
          "xanchor": "center",
          "xref": "paper",
          "y": 1,
          "yanchor": "bottom",
          "yref": "paper"
         },
         {
          "font": {
           "size": 16
          },
          "showarrow": false,
          "text": "📦 Top Exportadores por Volumen",
          "x": 0.7875,
          "xanchor": "center",
          "xref": "paper",
          "y": 1,
          "yanchor": "bottom",
          "yref": "paper"
         }
        ],
        "height": 500,
        "showlegend": false,
        "template": {
         "layout": {
          "colorway": [
           "#2E86C1",
           "#F39C12",
           "#E74C3C",
           "#27AE60",
           "#8E44AD",
           "#F1C40F"
          ],
          "font": {
           "color": "#2C3E50",
           "family": "Arial, sans-serif",
           "size": 12
          },
          "legend": {
           "bgcolor": "rgba(255,255,255,0.8)",
           "bordercolor": "#BDC3C7",
           "borderwidth": 1,
           "font": {
            "size": 10
           }
          },
          "margin": {
           "b": 60,
           "l": 60,
           "r": 60,
           "t": 80
          },
          "paper_bgcolor": "#FFFFFF",
          "plot_bgcolor": "#FFFFFF",
          "title": {
           "font": {
            "color": "#2C3E50",
            "size": 16
           },
           "x": 0.5,
           "xanchor": "center"
          },
          "xaxis": {
           "gridcolor": "#BDC3C7",
           "gridwidth": 0.5,
           "linecolor": "#2C3E50",
           "linewidth": 1,
           "showline": true,
           "tickfont": {
            "size": 10
           },
           "zeroline": false
          },
          "yaxis": {
           "gridcolor": "#BDC3C7",
           "gridwidth": 0.5,
           "linecolor": "#2C3E50",
           "linewidth": 1,
           "showline": true,
           "tickfont": {
            "size": 10
           },
           "zeroline": false
          }
         }
        },
        "title": {
         "text": "<b>Líderes Mundiales en Exportación de Fauna CITES</b>"
        },
        "xaxis": {
         "anchor": "y",
         "domain": [
          0,
          0.425
         ],
         "title": {
          "text": "N° Transacciones"
         }
        },
        "xaxis2": {
         "anchor": "y2",
         "domain": [
          0.575,
          1
         ],
         "title": {
          "text": "Ejemplares"
         }
        },
        "yaxis": {
         "anchor": "x",
         "domain": [
          0,
          1
         ]
        },
        "yaxis2": {
         "anchor": "x2",
         "domain": [
          0,
          1
         ]
        }
       }
      }
     },
     "metadata": {},
     "output_type": "display_data"
    },
    {
     "data": {
      "application/vnd.plotly.v1+json": {
       "config": {
        "plotlyServerURL": "https://plot.ly"
       },
       "data": [
        {
         "domain": {
          "x": [
           0,
           0.45
          ],
          "y": [
           0,
           1
          ]
         },
         "hovertemplate": "<b>%{label}</b><br>%{value:,.0f} transacciones<br>%{percent}<extra></extra>",
         "labels": [
          "Africa",
          "Europe",
          "Americas",
          "Asia",
          "Oceania"
         ],
         "marker": {
          "colors": [
           "#2E86C1",
           "#F39C12",
           "#E74C3C",
           "#27AE60",
           "#8E44AD"
          ]
         },
         "textfont": {
          "size": 10
         },
         "textinfo": "label+percent",
         "type": "pie",
         "values": {
          "bdata": "uPMNAGfWCwCaLAoAql4GAIKNAAA=",
          "dtype": "i4"
         }
        },
        {
         "hovertemplate": "<b>%{text}</b><br>Transacciones: %{x:.1f}%<br>Volumen: %{y:.1f}%<extra></extra>",
         "marker": {
          "color": {
           "bdata": "0q31shBTBUCuIMlb05yyPyN7WE95/OI/BZWqEKG1+T8edUMH3lPoPw==",
           "dtype": "f8"
          },
          "colorbar": {
           "title": {
            "text": "Eficiencia<br>(Vol/Freq)"
           }
          },
          "colorscale": [
           [
            0,
            "#440154"
           ],
           [
            0.1111111111111111,
            "#482878"
           ],
           [
            0.2222222222222222,
            "#3e4989"
           ],
           [
            0.3333333333333333,
            "#31688e"
           ],
           [
            0.4444444444444444,
            "#26828e"
           ],
           [
            0.5555555555555556,
            "#1f9e89"
           ],
           [
            0.6666666666666666,
            "#35b779"
           ],
           [
            0.7777777777777778,
            "#6ece58"
           ],
           [
            0.8888888888888888,
            "#b5de2b"
           ],
           [
            1,
            "#fde725"
           ]
          ],
          "showscale": true,
          "size": [
           20.33111838936334,
           15.145410938088622,
           16.186639127677786,
           18.213686113553766,
           16.52047541463191
          ]
         },
         "mode": "markers+text",
         "text": [
          "Asia",
          "Europe",
          "Africa",
          "Americas",
          "Oceania"
         ],
         "textposition": "top center",
         "type": "scatter",
         "x": {
          "bdata": "bbGZPJe0LUCTEHlfIZo7QC3wKekrREBAQbqyVUW5N0CrwTejXZ/0Pw==",
          "dtype": "f8"
         },
         "xaxis": "x",
         "y": {
          "bdata": "o0J2KJ/LQ0BDYN13+A0AQPciHm5eTTNAAU2gg2UPQ0CmNyJXJVvvPw==",
          "dtype": "f8"
         },
         "yaxis": "y"
        },
        {
         "line": {
          "color": "gray",
          "dash": "dash",
          "width": 1
         },
         "mode": "lines",
         "name": "Eficiencia = 1",
         "showlegend": false,
         "type": "scatter",
         "x": [
          0,
          39.5907946183627
         ],
         "xaxis": "x",
         "y": [
          0,
          39.5907946183627
         ],
         "yaxis": "y"
        }
       ],
       "layout": {
        "annotations": [
         {
          "font": {
           "size": 16
          },
          "showarrow": false,
          "text": "🌍 Distribución Regional de Transacciones",
          "x": 0.225,
          "xanchor": "center",
          "xref": "paper",
          "y": 1,
          "yanchor": "bottom",
          "yref": "paper"
         },
         {
          "font": {
           "size": 16
          },
          "showarrow": false,
          "text": "📊 Concentración vs Volumen",
          "x": 0.775,
          "xanchor": "center",
          "xref": "paper",
          "y": 1,
          "yanchor": "bottom",
          "yref": "paper"
         }
        ],
        "height": 500,
        "showlegend": false,
        "template": {
         "layout": {
          "colorway": [
           "#2E86C1",
           "#F39C12",
           "#E74C3C",
           "#27AE60",
           "#8E44AD",
           "#F1C40F"
          ],
          "font": {
           "color": "#2C3E50",
           "family": "Arial, sans-serif",
           "size": 12
          },
          "legend": {
           "bgcolor": "rgba(255,255,255,0.8)",
           "bordercolor": "#BDC3C7",
           "borderwidth": 1,
           "font": {
            "size": 10
           }
          },
          "margin": {
           "b": 60,
           "l": 60,
           "r": 60,
           "t": 80
          },
          "paper_bgcolor": "#FFFFFF",
          "plot_bgcolor": "#FFFFFF",
          "title": {
           "font": {
            "color": "#2C3E50",
            "size": 16
           },
           "x": 0.5,
           "xanchor": "center"
          },
          "xaxis": {
           "gridcolor": "#BDC3C7",
           "gridwidth": 0.5,
           "linecolor": "#2C3E50",
           "linewidth": 1,
           "showline": true,
           "tickfont": {
            "size": 10
           },
           "zeroline": false
          },
          "yaxis": {
           "gridcolor": "#BDC3C7",
           "gridwidth": 0.5,
           "linecolor": "#2C3E50",
           "linewidth": 1,
           "showline": true,
           "tickfont": {
            "size": 10
           },
           "zeroline": false
          }
         }
        },
        "title": {
         "text": "<b>Análisis Regional: Participación y Eficiencia</b>"
        },
        "xaxis": {
         "anchor": "y",
         "domain": [
          0.55,
          1
         ],
         "title": {
          "text": "% Transacciones"
         }
        },
        "yaxis": {
         "anchor": "x",
         "domain": [
          0,
          1
         ],
         "title": {
          "text": "% Volumen"
         }
        }
       }
      }
     },
     "metadata": {},
     "output_type": "display_data"
    },
    {
     "name": "stdout",
     "output_type": "stream",
     "text": [
      "🌍 Generando Dashboard Geográfico Optimizado para Diapositivas...\n",
      "🌍 DASHBOARD GEOGRÁFICO: PATRONES GLOBALES CITES\n",
      "============================================================\n"
     ]
    },
    {
     "data": {
      "application/vnd.plotly.v1+json": {
       "config": {
        "plotlyServerURL": "https://plot.ly"
       },
       "data": [
        {
         "hovertemplate": "<b>%{y}</b><br>Transacciones: %{x:,.0f}<extra></extra>",
         "marker": {
          "color": "#2E86C1"
         },
         "name": "Transacciones",
         "orientation": "h",
         "text": [
          "86K",
          "94K",
          "116K",
          "146K",
          "151K",
          "161K",
          "186K",
          "301K"
         ],
         "textposition": "outside",
         "type": "bar",
         "x": {
          "bdata": "ak4BAFRtAQCYwwEALjkCALBNAgDedAIA4tYCAGyXBAA=",
          "dtype": "i4"
         },
         "xaxis": "x",
         "y": [
          "Chequia",
          "Madagascar",
          "Alemania",
          "Canada",
          "Paises Bajos",
          "Indonesia",
          "Estados Unidos",
          "Sudafrica"
         ],
         "yaxis": "y"
        },
        {
         "hovertemplate": "<b>%{y}</b><br>Ejemplares: %{x:,.0f}<extra></extra>",
         "marker": {
          "color": "#F39C12"
         },
         "name": "Volumen",
         "orientation": "h",
         "text": [
          "4.3M",
          "4.4M",
          "4.6M",
          "6.3M",
          "6.6M",
          "7.7M",
          "12.3M",
          "20.2M"
         ],
         "textposition": "outside",
         "type": "bar",
         "x": {
          "bdata": "8KfGS7JRUEEAAADAY6NQQQAAAEA2g1FBAAAAUFUfWEEAAAAg+0hZQQAAAMBzL11BAAAAyIx6Z0FSuB6dgkZzQQ==",
          "dtype": "f8"
         },
         "xaxis": "x2",
         "y": [
          "Sudafrica",
          "Vietnam",
          "Peru",
          "Malasia",
          "Argentina",
          "El Salvador",
          "Estados Unidos",
          "Indonesia"
         ],
         "yaxis": "y2"
        }
       ],
       "layout": {
        "annotations": [
         {
          "font": {
           "size": 16
          },
          "showarrow": false,
          "text": "🏭 Top Exportadores por Transacciones",
          "x": 0.2125,
          "xanchor": "center",
          "xref": "paper",
          "y": 1,
          "yanchor": "bottom",
          "yref": "paper"
         },
         {
          "font": {
           "size": 16
          },
          "showarrow": false,
          "text": "📦 Top Exportadores por Volumen",
          "x": 0.7875,
          "xanchor": "center",
          "xref": "paper",
          "y": 1,
          "yanchor": "bottom",
          "yref": "paper"
         }
        ],
        "height": 500,
        "showlegend": false,
        "template": {
         "layout": {
          "colorway": [
           "#2E86C1",
           "#F39C12",
           "#E74C3C",
           "#27AE60",
           "#8E44AD",
           "#F1C40F"
          ],
          "font": {
           "color": "#2C3E50",
           "family": "Arial, sans-serif",
           "size": 12
          },
          "legend": {
           "bgcolor": "rgba(255,255,255,0.8)",
           "bordercolor": "#BDC3C7",
           "borderwidth": 1,
           "font": {
            "size": 10
           }
          },
          "margin": {
           "b": 60,
           "l": 60,
           "r": 60,
           "t": 80
          },
          "paper_bgcolor": "#FFFFFF",
          "plot_bgcolor": "#FFFFFF",
          "title": {
           "font": {
            "color": "#2C3E50",
            "size": 16
           },
           "x": 0.5,
           "xanchor": "center"
          },
          "xaxis": {
           "gridcolor": "#BDC3C7",
           "gridwidth": 0.5,
           "linecolor": "#2C3E50",
           "linewidth": 1,
           "showline": true,
           "tickfont": {
            "size": 10
           },
           "zeroline": false
          },
          "yaxis": {
           "gridcolor": "#BDC3C7",
           "gridwidth": 0.5,
           "linecolor": "#2C3E50",
           "linewidth": 1,
           "showline": true,
           "tickfont": {
            "size": 10
           },
           "zeroline": false
          }
         }
        },
        "title": {
         "text": "<b>Líderes Mundiales en Exportación de Fauna CITES</b>"
        },
        "xaxis": {
         "anchor": "y",
         "domain": [
          0,
          0.425
         ],
         "title": {
          "text": "N° Transacciones"
         }
        },
        "xaxis2": {
         "anchor": "y2",
         "domain": [
          0.575,
          1
         ],
         "title": {
          "text": "Ejemplares"
         }
        },
        "yaxis": {
         "anchor": "x",
         "domain": [
          0,
          1
         ]
        },
        "yaxis2": {
         "anchor": "x2",
         "domain": [
          0,
          1
         ]
        }
       }
      }
     },
     "metadata": {},
     "output_type": "display_data"
    },
    {
     "data": {
      "application/vnd.plotly.v1+json": {
       "config": {
        "plotlyServerURL": "https://plot.ly"
       },
       "data": [
        {
         "domain": {
          "x": [
           0,
           0.45
          ],
          "y": [
           0,
           1
          ]
         },
         "hovertemplate": "<b>%{label}</b><br>%{value:,.0f} transacciones<br>%{percent}<extra></extra>",
         "labels": [
          "Africa",
          "Europe",
          "Americas",
          "Asia",
          "Oceania"
         ],
         "marker": {
          "colors": [
           "#2E86C1",
           "#F39C12",
           "#E74C3C",
           "#27AE60",
           "#8E44AD"
          ]
         },
         "textfont": {
          "size": 10
         },
         "textinfo": "label+percent",
         "type": "pie",
         "values": {
          "bdata": "uPMNAGfWCwCaLAoAql4GAIKNAAA=",
          "dtype": "i4"
         }
        },
        {
         "hovertemplate": "<b>%{text}</b><br>Transacciones: %{x:.1f}%<br>Volumen: %{y:.1f}%<extra></extra>",
         "marker": {
          "color": {
           "bdata": "0q31shBTBUCuIMlb05yyPyN7WE95/OI/BZWqEKG1+T8edUMH3lPoPw==",
           "dtype": "f8"
          },
          "colorbar": {
           "title": {
            "text": "Eficiencia<br>(Vol/Freq)"
           }
          },
          "colorscale": [
           [
            0,
            "#440154"
           ],
           [
            0.1111111111111111,
            "#482878"
           ],
           [
            0.2222222222222222,
            "#3e4989"
           ],
           [
            0.3333333333333333,
            "#31688e"
           ],
           [
            0.4444444444444444,
            "#26828e"
           ],
           [
            0.5555555555555556,
            "#1f9e89"
           ],
           [
            0.6666666666666666,
            "#35b779"
           ],
           [
            0.7777777777777778,
            "#6ece58"
           ],
           [
            0.8888888888888888,
            "#b5de2b"
           ],
           [
            1,
            "#fde725"
           ]
          ],
          "showscale": true,
          "size": [
           20.33111838936334,
           15.145410938088622,
           16.186639127677786,
           18.213686113553766,
           16.52047541463191
          ]
         },
         "mode": "markers+text",
         "text": [
          "Asia",
          "Europe",
          "Africa",
          "Americas",
          "Oceania"
         ],
         "textposition": "top center",
         "type": "scatter",
         "x": {
          "bdata": "bbGZPJe0LUCTEHlfIZo7QC3wKekrREBAQbqyVUW5N0CrwTejXZ/0Pw==",
          "dtype": "f8"
         },
         "xaxis": "x",
         "y": {
          "bdata": "o0J2KJ/LQ0BDYN13+A0AQPciHm5eTTNAAU2gg2UPQ0CmNyJXJVvvPw==",
          "dtype": "f8"
         },
         "yaxis": "y"
        },
        {
         "line": {
          "color": "gray",
          "dash": "dash",
          "width": 1
         },
         "mode": "lines",
         "name": "Eficiencia = 1",
         "showlegend": false,
         "type": "scatter",
         "x": [
          0,
          39.5907946183627
         ],
         "xaxis": "x",
         "y": [
          0,
          39.5907946183627
         ],
         "yaxis": "y"
        }
       ],
       "layout": {
        "annotations": [
         {
          "font": {
           "size": 16
          },
          "showarrow": false,
          "text": "🌍 Distribución Regional de Transacciones",
          "x": 0.225,
          "xanchor": "center",
          "xref": "paper",
          "y": 1,
          "yanchor": "bottom",
          "yref": "paper"
         },
         {
          "font": {
           "size": 16
          },
          "showarrow": false,
          "text": "📊 Concentración vs Volumen",
          "x": 0.775,
          "xanchor": "center",
          "xref": "paper",
          "y": 1,
          "yanchor": "bottom",
          "yref": "paper"
         }
        ],
        "height": 500,
        "showlegend": false,
        "template": {
         "layout": {
          "colorway": [
           "#2E86C1",
           "#F39C12",
           "#E74C3C",
           "#27AE60",
           "#8E44AD",
           "#F1C40F"
          ],
          "font": {
           "color": "#2C3E50",
           "family": "Arial, sans-serif",
           "size": 12
          },
          "legend": {
           "bgcolor": "rgba(255,255,255,0.8)",
           "bordercolor": "#BDC3C7",
           "borderwidth": 1,
           "font": {
            "size": 10
           }
          },
          "margin": {
           "b": 60,
           "l": 60,
           "r": 60,
           "t": 80
          },
          "paper_bgcolor": "#FFFFFF",
          "plot_bgcolor": "#FFFFFF",
          "title": {
           "font": {
            "color": "#2C3E50",
            "size": 16
           },
           "x": 0.5,
           "xanchor": "center"
          },
          "xaxis": {
           "gridcolor": "#BDC3C7",
           "gridwidth": 0.5,
           "linecolor": "#2C3E50",
           "linewidth": 1,
           "showline": true,
           "tickfont": {
            "size": 10
           },
           "zeroline": false
          },
          "yaxis": {
           "gridcolor": "#BDC3C7",
           "gridwidth": 0.5,
           "linecolor": "#2C3E50",
           "linewidth": 1,
           "showline": true,
           "tickfont": {
            "size": 10
           },
           "zeroline": false
          }
         }
        },
        "title": {
         "text": "<b>Análisis Regional: Participación y Eficiencia</b>"
        },
        "xaxis": {
         "anchor": "y",
         "domain": [
          0.55,
          1
         ],
         "title": {
          "text": "% Transacciones"
         }
        },
        "yaxis": {
         "anchor": "x",
         "domain": [
          0,
          1
         ],
         "title": {
          "text": "% Volumen"
         }
        }
       }
      }
     },
     "metadata": {},
     "output_type": "display_data"
    },
    {
     "data": {
      "application/vnd.plotly.v1+json": {
       "config": {
        "plotlyServerURL": "https://plot.ly"
       },
       "data": [
        {
         "colorbar": {
          "title": {
           "text": "% Flujo<br>Comercial"
          }
         },
         "colorscale": [
          [
           0,
           "rgb(49,54,149)"
          ],
          [
           0.1,
           "rgb(69,117,180)"
          ],
          [
           0.2,
           "rgb(116,173,209)"
          ],
          [
           0.3,
           "rgb(171,217,233)"
          ],
          [
           0.4,
           "rgb(224,243,248)"
          ],
          [
           0.5,
           "rgb(255,255,191)"
          ],
          [
           0.6,
           "rgb(254,224,144)"
          ],
          [
           0.7,
           "rgb(253,174,97)"
          ],
          [
           0.8,
           "rgb(244,109,67)"
          ],
          [
           0.9,
           "rgb(215,48,39)"
          ],
          [
           1,
           "rgb(165,0,38)"
          ]
         ],
         "hovertemplate": "<b>%{y} → %{x}</b><br>%{z:.1%} del flujo<extra></extra>",
         "text": [
          [
           "13.2%",
           "11.9%",
           "33.7%",
           "39.4%",
           "1.8%"
          ],
          [
           "3.4%",
           "27.1%",
           "31.5%",
           "37.2%",
           "0.8%"
          ],
          [
           "4.6%",
           "9.8%",
           "50.2%",
           "35.0%",
           "0.4%"
          ],
          [
           "5.9%",
           "17.7%",
           "49.2%",
           "27.0%",
           "0.2%"
          ],
          [
           "4.3%",
           "18.0%",
           "35.4%",
           "30.5%",
           "11.7%"
          ]
         ],
         "textfont": {
          "size": 11
         },
         "texttemplate": "%{text}",
         "type": "heatmap",
         "x": [
          "Africa",
          "Americas",
          "Asia",
          "Europe",
          "Oceania"
         ],
         "y": [
          "Africa",
          "Americas",
          "Asia",
          "Europe",
          "Oceania"
         ],
         "z": {
          "bdata": "wrUcAnflwD/lUXsCtHC+P43sLFGCltU/qOTPycYw2T8K91815pySPz/SOllklKE/zi8abexe0T96osnPziHUPyAPRgKry9c/AIrYtaYhgD8X6Io1laWnP937ePb3NLk/TkUuGiYO4D8SJ1DVI2DWP/mV7IDUZ3A/ZbY0XIU/rj+WHAk8jJ/GP10gNOyQdt8/NrDRsIFP0T/fKoW3TBthP9GNTsqWE6Y/i9ngm6sSxz93uzCIXK3WP6rLNpuahdM/fOl41QAFvj8=",
          "dtype": "f8",
          "shape": "5, 5"
         }
        }
       ],
       "layout": {
        "height": 450,
        "template": {
         "layout": {
          "colorway": [
           "#2E86C1",
           "#F39C12",
           "#E74C3C",
           "#27AE60",
           "#8E44AD",
           "#F1C40F"
          ],
          "font": {
           "color": "#2C3E50",
           "family": "Arial, sans-serif",
           "size": 12
          },
          "legend": {
           "bgcolor": "rgba(255,255,255,0.8)",
           "bordercolor": "#BDC3C7",
           "borderwidth": 1,
           "font": {
            "size": 10
           }
          },
          "margin": {
           "b": 60,
           "l": 60,
           "r": 60,
           "t": 80
          },
          "paper_bgcolor": "#FFFFFF",
          "plot_bgcolor": "#FFFFFF",
          "title": {
           "font": {
            "color": "#2C3E50",
            "size": 16
           },
           "x": 0.5,
           "xanchor": "center"
          },
          "xaxis": {
           "gridcolor": "#BDC3C7",
           "gridwidth": 0.5,
           "linecolor": "#2C3E50",
           "linewidth": 1,
           "showline": true,
           "tickfont": {
            "size": 10
           },
           "zeroline": false
          },
          "yaxis": {
           "gridcolor": "#BDC3C7",
           "gridwidth": 0.5,
           "linecolor": "#2C3E50",
           "linewidth": 1,
           "showline": true,
           "tickfont": {
            "size": 10
           },
           "zeroline": false
          }
         }
        },
        "title": {
         "text": "<b>Matriz de Flujos Comerciales Regionales</b><br><span style='font-size:12px'>Top 5 Regiones Exportadoras vs Importadoras</span>"
        },
        "xaxis": {
         "title": {
          "text": "Región Importadora"
         }
        },
        "yaxis": {
         "title": {
          "text": "Región Exportadora"
         }
        }
       }
      }
     },
     "metadata": {},
     "output_type": "display_data"
    },
    {
     "name": "stdout",
     "output_type": "stream",
     "text": [
      "\n",
      "🎯 INSIGHTS GEOGRÁFICOS CLAVE:\n",
      "──────────────────────────────────────────────────\n",
      "1. LIDERAZGO MUNDIAL:\n",
      "   • Líder en transacciones: Sudafrica (301K)\n",
      "   • Líder en volumen: Indonesia (20.2M ejemplares)\n",
      "   • ⚠️ Liderazgo DIVERGENTE - diferentes estrategias\n",
      "\n",
      "2. CONCENTRACIÓN REGIONAL:\n",
      "   • Región dominante: Africa\n",
      "   • Participación: 32.5%\n",
      "   • Top 3 regiones: 83.9% del total\n",
      "\n",
      "3. EFICIENCIA COMERCIAL:\n",
      "   • Región más eficiente: Asia\n",
      "   • Ratio volumen/transacciones: 2.7x\n",
      "   • 📈 ALTO volumen por transacción\n"
     ]
    }
   ],
   "source": [
    "# =====================================================================================\n",
    "# DASHBOARD 2: ANÁLISIS GEOGRÁFICO OPTIMIZADO PARA DIAPOSITIVAS\n",
    "# =====================================================================================\n",
    "\n",
    "def crear_dashboard_geografico_slides(datasets_analisis):\n",
    "    \"\"\"\n",
    "    Dashboard geográfico optimizado para diapositivas: foco en los insights más importantes\n",
    "    \"\"\"\n",
    "    \n",
    "    df_completo = datasets_analisis[\"df_completo\"]\n",
    "    df_volumen = datasets_analisis[\"df_volumen\"]\n",
    "    \n",
    "    print(\"🌍 DASHBOARD GEOGRÁFICO: PATRONES GLOBALES CITES\")\n",
    "    print(\"=\" * 60)\n",
    "    \n",
    "    # Preparar datos TOP para visualización efectiva\n",
    "    top_exportadores_freq = df_completo.groupby(\"Pais exportador\").size().sort_values(ascending=False).head(8)\n",
    "    top_exportadores_vol = df_volumen.groupby(\"Pais exportador\")[\"Cantidad\"].sum().sort_values(ascending=False).head(8)\n",
    "    top_importadores_freq = df_completo.groupby(\"Pais importador\").size().sort_values(ascending=False).head(8)\n",
    "    \n",
    "    # Análisis regional\n",
    "    regiones_freq = df_completo.groupby(\"Region exportadora\").size().sort_values(ascending=False)\n",
    "    regiones_vol = df_volumen.groupby(\"Region exportadora\")[\"Cantidad\"].sum().sort_values(ascending=False)\n",
    "    \n",
    "    # =============================================================================\n",
    "    # GRÁFICO 1: TOP EXPORTADORES - COMPARATIVA DUAL\n",
    "    # =============================================================================\n",
    "    \n",
    "    fig1 = make_subplots(\n",
    "        rows=1, cols=2,\n",
    "        subplot_titles=(\"🏭 Top Exportadores por Transacciones\", \"📦 Top Exportadores por Volumen\"),\n",
    "        specs=[[{\"type\": \"bar\"}, {\"type\": \"bar\"}]],\n",
    "        horizontal_spacing=0.15\n",
    "    )\n",
    "    \n",
    "    # Top por frecuencia\n",
    "    fig1.add_trace(\n",
    "        go.Bar(\n",
    "            y=top_exportadores_freq.index[::-1],  # Invertir para mejor lectura\n",
    "            x=top_exportadores_freq.values[::-1],\n",
    "            orientation='h',\n",
    "            name=\"Transacciones\",\n",
    "            marker_color=SLIDE_COLORS[\"primary\"],\n",
    "            text=[format_number(x) for x in top_exportadores_freq.values[::-1]],\n",
    "            textposition=\"outside\",\n",
    "            hovertemplate=\"<b>%{y}</b><br>Transacciones: %{x:,.0f}<extra></extra>\"\n",
    "        ),\n",
    "        row=1, col=1\n",
    "    )\n",
    "    \n",
    "    # Top por volumen\n",
    "    fig1.add_trace(\n",
    "        go.Bar(\n",
    "            y=top_exportadores_vol.index[::-1],\n",
    "            x=top_exportadores_vol.values[::-1],\n",
    "            orientation='h',\n",
    "            name=\"Volumen\",\n",
    "            marker_color=SLIDE_COLORS[\"secondary\"],\n",
    "            text=[format_number(x) for x in top_exportadores_vol.values[::-1]],\n",
    "            textposition=\"outside\",\n",
    "            hovertemplate=\"<b>%{y}</b><br>Ejemplares: %{x:,.0f}<extra></extra>\"\n",
    "        ),\n",
    "        row=1, col=2\n",
    "    )\n",
    "    \n",
    "    fig1.update_layout(\n",
    "        title=\"<b>Líderes Mundiales en Exportación de Fauna CITES</b>\",\n",
    "        height=500,\n",
    "        showlegend=False,\n",
    "        template=\"slide_template\"\n",
    "    )\n",
    "    \n",
    "    fig1.update_xaxes(title_text=\"N° Transacciones\", row=1, col=1)\n",
    "    fig1.update_xaxes(title_text=\"Ejemplares\", row=1, col=2)\n",
    "    \n",
    "    fig1.show()\n",
    "    \n",
    "    # =============================================================================\n",
    "    # GRÁFICO 2: DISTRIBUCIÓN REGIONAL CON MÉTRICAS CLAVE\n",
    "    # =============================================================================\n",
    "    \n",
    "    fig2 = make_subplots(\n",
    "        rows=1, cols=2,\n",
    "        subplot_titles=(\"🌍 Distribución Regional de Transacciones\", \"📊 Concentración vs Volumen\"),\n",
    "        specs=[[{\"type\": \"pie\"}, {\"type\": \"scatter\"}]]\n",
    "    )\n",
    "    \n",
    "    # Pie chart de regiones\n",
    "    colors_regions = [SLIDE_COLORS[\"primary\"], SLIDE_COLORS[\"secondary\"], \n",
    "                     SLIDE_COLORS[\"accent\"], SLIDE_COLORS[\"success\"], \n",
    "                     SLIDE_COLORS[\"info\"]][:len(regiones_freq)]\n",
    "    \n",
    "    fig2.add_trace(\n",
    "        go.Pie(\n",
    "            labels=regiones_freq.index,\n",
    "            values=regiones_freq.values,\n",
    "            marker_colors=colors_regions,\n",
    "            textinfo=\"label+percent\",\n",
    "            textfont_size=10,\n",
    "            hovertemplate=\"<b>%{label}</b><br>%{value:,.0f} transacciones<br>%{percent}<extra></extra>\"\n",
    "        ),\n",
    "        row=1, col=1\n",
    "    )\n",
    "    \n",
    "    # Scatter plot: Concentración vs Eficiencia\n",
    "    regiones_comunes = set(regiones_freq.index) & set(regiones_vol.index)\n",
    "    scatter_data = []\n",
    "    \n",
    "    for region in regiones_comunes:\n",
    "        freq_pct = (regiones_freq[region] / regiones_freq.sum()) * 100\n",
    "        vol_pct = (regiones_vol[region] / regiones_vol.sum()) * 100\n",
    "        scatter_data.append({\n",
    "            'region': region,\n",
    "            'freq_pct': freq_pct,\n",
    "            'vol_pct': vol_pct,\n",
    "            'eficiencia': vol_pct / freq_pct if freq_pct > 0 else 0\n",
    "        })\n",
    "    \n",
    "    scatter_df = pd.DataFrame(scatter_data)\n",
    "    \n",
    "    fig2.add_trace(\n",
    "        go.Scatter(\n",
    "            x=scatter_df['freq_pct'],\n",
    "            y=scatter_df['vol_pct'],\n",
    "            mode='markers+text',\n",
    "            text=scatter_df['region'],\n",
    "            textposition=\"top center\",\n",
    "            marker=dict(\n",
    "                size=[15 + x*2 for x in scatter_df['eficiencia']],  # Tamaño por eficiencia\n",
    "                color=scatter_df['eficiencia'],\n",
    "                colorscale='Viridis',\n",
    "                showscale=True,\n",
    "                colorbar=dict(title=\"Eficiencia<br>(Vol/Freq)\")\n",
    "            ),\n",
    "            hovertemplate=\"<b>%{text}</b><br>Transacciones: %{x:.1f}%<br>Volumen: %{y:.1f}%<extra></extra>\"\n",
    "        ),\n",
    "        row=1, col=2\n",
    "    )\n",
    "    \n",
    "    # Línea de referencia (eficiencia = 1)\n",
    "    max_val = max(scatter_df['freq_pct'].max(), scatter_df['vol_pct'].max())\n",
    "    fig2.add_trace(\n",
    "        go.Scatter(\n",
    "            x=[0, max_val],\n",
    "            y=[0, max_val],\n",
    "            mode='lines',\n",
    "            line=dict(dash='dash', color='gray', width=1),\n",
    "            name=\"Eficiencia = 1\",\n",
    "            showlegend=False\n",
    "        ),\n",
    "        row=1, col=2\n",
    "    )\n",
    "    \n",
    "    fig2.update_layout(\n",
    "        title=\"<b>Análisis Regional: Participación y Eficiencia</b>\",\n",
    "        height=500,\n",
    "        template=\"slide_template\",\n",
    "        showlegend=False\n",
    "    )\n",
    "    \n",
    "    fig2.update_xaxes(title_text=\"% Transacciones\", row=1, col=2)\n",
    "    fig2.update_yaxes(title_text=\"% Volumen\", row=1, col=2)\n",
    "    \n",
    "    fig2.show()\n",
    "    \n",
    "    # =============================================================================\n",
    "    # GRÁFICO 3: MATRIZ DE FLUJOS SIMPLIFICADA\n",
    "    # =============================================================================\n",
    "    \n",
    "    # Crear matriz de flujos para top 5 regiones\n",
    "    top5_exp = regiones_freq.head(5).index.tolist()\n",
    "    top5_imp = df_completo.groupby(\"Region importadora\").size().sort_values(ascending=False).head(5).index.tolist()\n",
    "    \n",
    "    # Filtrar y crear matriz\n",
    "    df_flujos = df_completo[\n",
    "        (df_completo[\"Region exportadora\"].isin(top5_exp)) &\n",
    "        (df_completo[\"Region importadora\"].isin(top5_imp))\n",
    "    ]\n",
    "    \n",
    "    matriz_flujos = pd.crosstab(\n",
    "        df_flujos[\"Region exportadora\"],\n",
    "        df_flujos[\"Region importadora\"],\n",
    "        normalize='index'\n",
    "    ).fillna(0)\n",
    "    \n",
    "    fig3 = go.Figure(data=go.Heatmap(\n",
    "        z=matriz_flujos.values,\n",
    "        x=matriz_flujos.columns,\n",
    "        y=matriz_flujos.index,\n",
    "        colorscale='RdYlBu_r',\n",
    "        text=[[f\"{val:.1%}\" for val in row] for row in matriz_flujos.values],\n",
    "        texttemplate=\"%{text}\",\n",
    "        textfont={\"size\": 11},\n",
    "        hovertemplate=\"<b>%{y} → %{x}</b><br>%{z:.1%} del flujo<extra></extra>\",\n",
    "        colorbar=dict(title=\"% Flujo<br>Comercial\")\n",
    "    ))\n",
    "    \n",
    "    fig3.update_layout(\n",
    "        title=\"<b>Matriz de Flujos Comerciales Regionales</b><br><span style='font-size:12px'>Top 5 Regiones Exportadoras vs Importadoras</span>\",\n",
    "        xaxis_title=\"Región Importadora\",\n",
    "        yaxis_title=\"Región Exportadora\",\n",
    "        height=450,\n",
    "        template=\"slide_template\"\n",
    "    )\n",
    "    \n",
    "    fig3.show()\n",
    "    \n",
    "    # =============================================================================\n",
    "    # INSIGHTS EJECUTIVOS PARA DIAPOSITIVAS\n",
    "    # =============================================================================\n",
    "    \n",
    "    print(\"\\n🎯 INSIGHTS GEOGRÁFICOS CLAVE:\")\n",
    "    print(\"─\" * 50)\n",
    "    \n",
    "    # Liderazgo\n",
    "    lider_freq = top_exportadores_freq.index[0]\n",
    "    lider_vol = top_exportadores_vol.index[0]\n",
    "    \n",
    "    print(f\"1. LIDERAZGO MUNDIAL:\")\n",
    "    print(f\"   • Líder en transacciones: {lider_freq} ({format_number(top_exportadores_freq.iloc[0])})\")\n",
    "    print(f\"   • Líder en volumen: {lider_vol} ({format_number(top_exportadores_vol.iloc[0])} ejemplares)\")\n",
    "    \n",
    "    if lider_freq == lider_vol:\n",
    "        print(\"   • ✅ Liderazgo CONSISTENTE\")\n",
    "    else:\n",
    "        print(\"   • ⚠️ Liderazgo DIVERGENTE - diferentes estrategias\")\n",
    "    \n",
    "    # Concentración regional\n",
    "    region_dominante_freq = regiones_freq.index[0]\n",
    "    concentracion_top3 = regiones_freq.head(3).sum() / regiones_freq.sum() * 100\n",
    "    \n",
    "    print(f\"\\n2. CONCENTRACIÓN REGIONAL:\")\n",
    "    print(f\"   • Región dominante: {region_dominante_freq}\")\n",
    "    print(f\"   • Participación: {regiones_freq.iloc[0] / regiones_freq.sum() * 100:.1f}%\")\n",
    "    print(f\"   • Top 3 regiones: {concentracion_top3:.1f}% del total\")\n",
    "    \n",
    "    # Eficiencia regional\n",
    "    region_mas_eficiente = scatter_df.loc[scatter_df['eficiencia'].idxmax(), 'region']\n",
    "    eficiencia_max = scatter_df['eficiencia'].max()\n",
    "    \n",
    "    print(f\"\\n3. EFICIENCIA COMERCIAL:\")\n",
    "    print(f\"   • Región más eficiente: {region_mas_eficiente}\")\n",
    "    print(f\"   • Ratio volumen/transacciones: {eficiencia_max:.1f}x\")\n",
    "    \n",
    "    if eficiencia_max > 2:\n",
    "        print(\"   • 📈 ALTO volumen por transacción\")\n",
    "    elif eficiencia_max > 1.5:\n",
    "        print(\"   • ➡️ MODERADO volumen por transacción\") \n",
    "    else:\n",
    "        print(\"   • 📉 BAJO volumen por transacción\")\n",
    "    \n",
    "    return {\n",
    "        \"top_exportadores_freq\": top_exportadores_freq,\n",
    "        \"top_exportadores_vol\": top_exportadores_vol,\n",
    "        \"regiones_freq\": regiones_freq,\n",
    "        \"regiones_vol\": regiones_vol,\n",
    "        \"matriz_flujos\": matriz_flujos,\n",
    "        \"concentracion_regional\": concentracion_top3,\n",
    "        \"eficiencia_data\": scatter_df\n",
    "    }\n",
    "\n",
    "# Generar dashboard geográfico optimizado\n",
    "print(\"🌍 Generando Dashboard Geográfico Optimizado para Diapositivas...\")\n",
    "geo_metrics = crear_dashboard_geografico_slides(datasets_analisis)"
   ]
  },
  {
   "cell_type": "code",
   "execution_count": 7,
   "id": "33b573c4",
   "metadata": {},
   "outputs": [
    {
     "name": "stdout",
     "output_type": "stream",
     "text": [
      "🎯 Generando Dashboard Subregional Optimizado para Diapositivas...\n",
      "🎯 ANÁLISIS SUBREGIONAL: PATRONES GRANULARES CRÍTICOS\n",
      "============================================================\n"
     ]
    },
    {
     "name": "stdout",
     "output_type": "stream",
     "text": [
      "🎯 Generando Dashboard Subregional Optimizado para Diapositivas...\n",
      "🎯 ANÁLISIS SUBREGIONAL: PATRONES GRANULARES CRÍTICOS\n",
      "============================================================\n"
     ]
    },
    {
     "data": {
      "application/vnd.plotly.v1+json": {
       "config": {
        "plotlyServerURL": "https://plot.ly"
       },
       "data": [
        {
         "hovertemplate": "<b>%{y}</b><br>Transacciones: %{x:,.0f}<extra></extra>",
         "marker": {
          "color": [
           "#27AE60",
           "#27AE60",
           "#2E86C1",
           "#2E86C1",
           "#27AE60",
           "#27AE60",
           "#27AE60",
           "#27AE60",
           "#27AE60",
           "#27AE60"
          ]
         },
         "name": "Frecuencia",
         "orientation": "h",
         "text": [
          "26K",
          "65K",
          "72K",
          "103K",
          "185K",
          "295K",
          "327K",
          "339K",
          "424K",
          "890K"
         ],
         "textposition": "outside",
         "type": "bar",
         "x": {
          "bdata": "amcAAKD8AACuFwEAXpEBALrRAgAYgAQAEP8EAIotBQCvdgYArpINAA==",
          "dtype": "i4"
         },
         "xaxis": "x",
         "y": [
          "Asia Oriental",
          "Europa Meridional",
          "Asia Occidental",
          "Europa Septentrional",
          "Europa Oriental",
          "Sudeste Asiático",
          "Latinoamérica y Caribe",
          "Norteamérica",
          "Europa Occidental",
          "África Subsahariana"
         ],
         "yaxis": "y"
        },
        {
         "hovertemplate": "<b>%{y}</b><br>Ejemplares: %{x:,.0f}<extra></extra>",
         "marker": {
          "color": [
           "#27AE60",
           "#F39C12",
           "#27AE60",
           "#27AE60",
           "#F39C12",
           "#27AE60",
           "#27AE60",
           "#27AE60",
           "#27AE60",
           "#27AE60"
          ]
         },
         "name": "Volumen",
         "orientation": "h",
         "text": [
          "507K",
          "539K",
          "631K",
          "815K",
          "1.5M",
          "3.3M",
          "13.3M",
          "18.8M",
          "24.7M",
          "34.0M"
         ],
         "textposition": "outside",
         "type": "bar",
         "x": {
          "bdata": "AAAAANTzHkEAAAAAPm8gQQAAAADkQiNBAAAAAAbgKEEAAAAA/S42QQAAAIBRXklBEoPAapRSaUEIrBzWr+pxQd9PjVXOjndBKVyPxMQ3gEE=",
          "dtype": "f8"
         },
         "xaxis": "x2",
         "y": [
          "Europa Meridional",
          "Melanesia",
          "Europa Occidental",
          "Europa Oriental",
          "Asia Central",
          "Asia Oriental",
          "Norteamérica",
          "África Subsahariana",
          "Latinoamérica y Caribe",
          "Sudeste Asiático"
         ],
         "yaxis": "y2"
        }
       ],
       "layout": {
        "annotations": [
         {
          "font": {
           "size": 16
          },
          "showarrow": false,
          "text": "🔄 Top 10 por Transacciones",
          "x": 0.22,
          "xanchor": "center",
          "xref": "paper",
          "y": 1,
          "yanchor": "bottom",
          "yref": "paper"
         },
         {
          "font": {
           "size": 16
          },
          "showarrow": false,
          "text": "📦 Top 10 por Volumen",
          "x": 0.78,
          "xanchor": "center",
          "xref": "paper",
          "y": 1,
          "yanchor": "bottom",
          "yref": "paper"
         }
        ],
        "height": 600,
        "showlegend": false,
        "template": {
         "layout": {
          "colorway": [
           "#2E86C1",
           "#F39C12",
           "#E74C3C",
           "#27AE60",
           "#8E44AD",
           "#F1C40F"
          ],
          "font": {
           "color": "#2C3E50",
           "family": "Arial, sans-serif",
           "size": 12
          },
          "legend": {
           "bgcolor": "rgba(255,255,255,0.8)",
           "bordercolor": "#BDC3C7",
           "borderwidth": 1,
           "font": {
            "size": 10
           }
          },
          "margin": {
           "b": 60,
           "l": 60,
           "r": 60,
           "t": 80
          },
          "paper_bgcolor": "#FFFFFF",
          "plot_bgcolor": "#FFFFFF",
          "title": {
           "font": {
            "color": "#2C3E50",
            "size": 16
           },
           "x": 0.5,
           "xanchor": "center"
          },
          "xaxis": {
           "gridcolor": "#BDC3C7",
           "gridwidth": 0.5,
           "linecolor": "#2C3E50",
           "linewidth": 1,
           "showline": true,
           "tickfont": {
            "size": 10
           },
           "zeroline": false
          },
          "yaxis": {
           "gridcolor": "#BDC3C7",
           "gridwidth": 0.5,
           "linecolor": "#2C3E50",
           "linewidth": 1,
           "showline": true,
           "tickfont": {
            "size": 10
           },
           "zeroline": false
          }
         }
        },
        "title": {
         "text": "<b>Subregiones Exportadoras Clave</b><br><span style='font-size:12px; color:green'>Verde: Líderes en ambos indicadores</span>"
        },
        "xaxis": {
         "anchor": "y",
         "domain": [
          0,
          0.44
         ],
         "title": {
          "text": "N° Transacciones"
         }
        },
        "xaxis2": {
         "anchor": "y2",
         "domain": [
          0.56,
          1
         ],
         "title": {
          "text": "Ejemplares"
         }
        },
        "yaxis": {
         "anchor": "x",
         "domain": [
          0,
          1
         ]
        },
        "yaxis2": {
         "anchor": "x2",
         "domain": [
          0,
          1
         ]
        }
       }
      }
     },
     "metadata": {},
     "output_type": "display_data"
    },
    {
     "name": "stdout",
     "output_type": "stream",
     "text": [
      "🎯 Generando Dashboard Subregional Optimizado para Diapositivas...\n",
      "🎯 ANÁLISIS SUBREGIONAL: PATRONES GRANULARES CRÍTICOS\n",
      "============================================================\n"
     ]
    },
    {
     "data": {
      "application/vnd.plotly.v1+json": {
       "config": {
        "plotlyServerURL": "https://plot.ly"
       },
       "data": [
        {
         "hovertemplate": "<b>%{y}</b><br>Transacciones: %{x:,.0f}<extra></extra>",
         "marker": {
          "color": [
           "#27AE60",
           "#27AE60",
           "#2E86C1",
           "#2E86C1",
           "#27AE60",
           "#27AE60",
           "#27AE60",
           "#27AE60",
           "#27AE60",
           "#27AE60"
          ]
         },
         "name": "Frecuencia",
         "orientation": "h",
         "text": [
          "26K",
          "65K",
          "72K",
          "103K",
          "185K",
          "295K",
          "327K",
          "339K",
          "424K",
          "890K"
         ],
         "textposition": "outside",
         "type": "bar",
         "x": {
          "bdata": "amcAAKD8AACuFwEAXpEBALrRAgAYgAQAEP8EAIotBQCvdgYArpINAA==",
          "dtype": "i4"
         },
         "xaxis": "x",
         "y": [
          "Asia Oriental",
          "Europa Meridional",
          "Asia Occidental",
          "Europa Septentrional",
          "Europa Oriental",
          "Sudeste Asiático",
          "Latinoamérica y Caribe",
          "Norteamérica",
          "Europa Occidental",
          "África Subsahariana"
         ],
         "yaxis": "y"
        },
        {
         "hovertemplate": "<b>%{y}</b><br>Ejemplares: %{x:,.0f}<extra></extra>",
         "marker": {
          "color": [
           "#27AE60",
           "#F39C12",
           "#27AE60",
           "#27AE60",
           "#F39C12",
           "#27AE60",
           "#27AE60",
           "#27AE60",
           "#27AE60",
           "#27AE60"
          ]
         },
         "name": "Volumen",
         "orientation": "h",
         "text": [
          "507K",
          "539K",
          "631K",
          "815K",
          "1.5M",
          "3.3M",
          "13.3M",
          "18.8M",
          "24.7M",
          "34.0M"
         ],
         "textposition": "outside",
         "type": "bar",
         "x": {
          "bdata": "AAAAANTzHkEAAAAAPm8gQQAAAADkQiNBAAAAAAbgKEEAAAAA/S42QQAAAIBRXklBEoPAapRSaUEIrBzWr+pxQd9PjVXOjndBKVyPxMQ3gEE=",
          "dtype": "f8"
         },
         "xaxis": "x2",
         "y": [
          "Europa Meridional",
          "Melanesia",
          "Europa Occidental",
          "Europa Oriental",
          "Asia Central",
          "Asia Oriental",
          "Norteamérica",
          "África Subsahariana",
          "Latinoamérica y Caribe",
          "Sudeste Asiático"
         ],
         "yaxis": "y2"
        }
       ],
       "layout": {
        "annotations": [
         {
          "font": {
           "size": 16
          },
          "showarrow": false,
          "text": "🔄 Top 10 por Transacciones",
          "x": 0.22,
          "xanchor": "center",
          "xref": "paper",
          "y": 1,
          "yanchor": "bottom",
          "yref": "paper"
         },
         {
          "font": {
           "size": 16
          },
          "showarrow": false,
          "text": "📦 Top 10 por Volumen",
          "x": 0.78,
          "xanchor": "center",
          "xref": "paper",
          "y": 1,
          "yanchor": "bottom",
          "yref": "paper"
         }
        ],
        "height": 600,
        "showlegend": false,
        "template": {
         "layout": {
          "colorway": [
           "#2E86C1",
           "#F39C12",
           "#E74C3C",
           "#27AE60",
           "#8E44AD",
           "#F1C40F"
          ],
          "font": {
           "color": "#2C3E50",
           "family": "Arial, sans-serif",
           "size": 12
          },
          "legend": {
           "bgcolor": "rgba(255,255,255,0.8)",
           "bordercolor": "#BDC3C7",
           "borderwidth": 1,
           "font": {
            "size": 10
           }
          },
          "margin": {
           "b": 60,
           "l": 60,
           "r": 60,
           "t": 80
          },
          "paper_bgcolor": "#FFFFFF",
          "plot_bgcolor": "#FFFFFF",
          "title": {
           "font": {
            "color": "#2C3E50",
            "size": 16
           },
           "x": 0.5,
           "xanchor": "center"
          },
          "xaxis": {
           "gridcolor": "#BDC3C7",
           "gridwidth": 0.5,
           "linecolor": "#2C3E50",
           "linewidth": 1,
           "showline": true,
           "tickfont": {
            "size": 10
           },
           "zeroline": false
          },
          "yaxis": {
           "gridcolor": "#BDC3C7",
           "gridwidth": 0.5,
           "linecolor": "#2C3E50",
           "linewidth": 1,
           "showline": true,
           "tickfont": {
            "size": 10
           },
           "zeroline": false
          }
         }
        },
        "title": {
         "text": "<b>Subregiones Exportadoras Clave</b><br><span style='font-size:12px; color:green'>Verde: Líderes en ambos indicadores</span>"
        },
        "xaxis": {
         "anchor": "y",
         "domain": [
          0,
          0.44
         ],
         "title": {
          "text": "N° Transacciones"
         }
        },
        "xaxis2": {
         "anchor": "y2",
         "domain": [
          0.56,
          1
         ],
         "title": {
          "text": "Ejemplares"
         }
        },
        "yaxis": {
         "anchor": "x",
         "domain": [
          0,
          1
         ]
        },
        "yaxis2": {
         "anchor": "x2",
         "domain": [
          0,
          1
         ]
        }
       }
      }
     },
     "metadata": {},
     "output_type": "display_data"
    },
    {
     "ename": "ValueError",
     "evalue": "Invalid property specified for object of type plotly.graph_objs.heatmap.ColorBar: 'titlefont'\n\nDid you mean \"tickfont\"?\n\n    Valid properties:\n        bgcolor\n            Sets the color of padded area.\n        bordercolor\n            Sets the axis line color.\n        borderwidth\n            Sets the width (in px) or the border enclosing this\n            color bar.\n        dtick\n            Sets the step in-between ticks on this axis. Use with\n            `tick0`. Must be a positive number, or special strings\n            available to \"log\" and \"date\" axes. If the axis `type`\n            is \"log\", then ticks are set every 10^(n*dtick) where n\n            is the tick number. For example, to set a tick mark at\n            1, 10, 100, 1000, ... set dtick to 1. To set tick marks\n            at 1, 100, 10000, ... set dtick to 2. To set tick marks\n            at 1, 5, 25, 125, 625, 3125, ... set dtick to\n            log_10(5), or 0.69897000433. \"log\" has several special\n            values; \"L<f>\", where `f` is a positive number, gives\n            ticks linearly spaced in value (but not position). For\n            example `tick0` = 0.1, `dtick` = \"L0.5\" will put ticks\n            at 0.1, 0.6, 1.1, 1.6 etc. To show powers of 10 plus\n            small digits between, use \"D1\" (all digits) or \"D2\"\n            (only 2 and 5). `tick0` is ignored for \"D1\" and \"D2\".\n            If the axis `type` is \"date\", then you must convert the\n            time to milliseconds. For example, to set the interval\n            between ticks to one day, set `dtick` to 86400000.0.\n            \"date\" also has special values \"M<n>\" gives ticks\n            spaced by a number of months. `n` must be a positive\n            integer. To set ticks on the 15th of every third month,\n            set `tick0` to \"2000-01-15\" and `dtick` to \"M3\". To set\n            ticks every 4 years, set `dtick` to \"M48\"\n        exponentformat\n            Determines a formatting rule for the tick exponents.\n            For example, consider the number 1,000,000,000. If\n            \"none\", it appears as 1,000,000,000. If \"e\", 1e+9. If\n            \"E\", 1E+9. If \"power\", 1x10^9 (with 9 in a super\n            script). If \"SI\", 1G. If \"B\", 1B.\n        labelalias\n            Replacement text for specific tick or hover labels. For\n            example using {US: 'USA', CA: 'Canada'} changes US to\n            USA and CA to Canada. The labels we would have shown\n            must match the keys exactly, after adding any\n            tickprefix or ticksuffix. For negative numbers the\n            minus sign symbol used (U+2212) is wider than the\n            regular ascii dash. That means you need to use −1\n            instead of -1. labelalias can be used with any axis\n            type, and both keys (if needed) and values (if desired)\n            can include html-like tags or MathJax.\n        len\n            Sets the length of the color bar This measure excludes\n            the padding of both ends. That is, the color bar length\n            is this length minus the padding on both ends.\n        lenmode\n            Determines whether this color bar's length (i.e. the\n            measure in the color variation direction) is set in\n            units of plot \"fraction\" or in *pixels. Use `len` to\n            set the value.\n        minexponent\n            Hide SI prefix for 10^n if |n| is below this number.\n            This only has an effect when `tickformat` is \"SI\" or\n            \"B\".\n        nticks\n            Specifies the maximum number of ticks for the\n            particular axis. The actual number of ticks will be\n            chosen automatically to be less than or equal to\n            `nticks`. Has an effect only if `tickmode` is set to\n            \"auto\".\n        orientation\n            Sets the orientation of the colorbar.\n        outlinecolor\n            Sets the axis line color.\n        outlinewidth\n            Sets the width (in px) of the axis line.\n        separatethousands\n            If \"true\", even 4-digit integers are separated\n        showexponent\n            If \"all\", all exponents are shown besides their\n            significands. If \"first\", only the exponent of the\n            first tick is shown. If \"last\", only the exponent of\n            the last tick is shown. If \"none\", no exponents appear.\n        showticklabels\n            Determines whether or not the tick labels are drawn.\n        showtickprefix\n            If \"all\", all tick labels are displayed with a prefix.\n            If \"first\", only the first tick is displayed with a\n            prefix. If \"last\", only the last tick is displayed with\n            a suffix. If \"none\", tick prefixes are hidden.\n        showticksuffix\n            Same as `showtickprefix` but for tick suffixes.\n        thickness\n            Sets the thickness of the color bar This measure\n            excludes the size of the padding, ticks and labels.\n        thicknessmode\n            Determines whether this color bar's thickness (i.e. the\n            measure in the constant color direction) is set in\n            units of plot \"fraction\" or in \"pixels\". Use\n            `thickness` to set the value.\n        tick0\n            Sets the placement of the first tick on this axis. Use\n            with `dtick`. If the axis `type` is \"log\", then you\n            must take the log of your starting tick (e.g. to set\n            the starting tick to 100, set the `tick0` to 2) except\n            when `dtick`=*L<f>* (see `dtick` for more info). If the\n            axis `type` is \"date\", it should be a date string, like\n            date data. If the axis `type` is \"category\", it should\n            be a number, using the scale where each category is\n            assigned a serial number from zero in the order it\n            appears.\n        tickangle\n            Sets the angle of the tick labels with respect to the\n            horizontal. For example, a `tickangle` of -90 draws the\n            tick labels vertically.\n        tickcolor\n            Sets the tick color.\n        tickfont\n            Sets the color bar's tick label font\n        tickformat\n            Sets the tick label formatting rule using d3 formatting\n            mini-languages which are very similar to those in\n            Python. For numbers, see:\n            https://github.com/d3/d3-format/tree/v1.4.5#d3-format.\n            And for dates see: https://github.com/d3/d3-time-\n            format/tree/v2.2.3#locale_format. We add two items to\n            d3's date formatter: \"%h\" for half of the year as a\n            decimal number as well as \"%{n}f\" for fractional\n            seconds with n digits. For example, *2016-10-13\n            09:15:23.456* with tickformat \"%H~%M~%S.%2f\" would\n            display \"09~15~23.46\"\n        tickformatstops\n            A tuple of :class:`plotly.graph_objects.heatmap.colorba\n            r.Tickformatstop` instances or dicts with compatible\n            properties\n        tickformatstopdefaults\n            When used in a template (as layout.template.data.heatma\n            p.colorbar.tickformatstopdefaults), sets the default\n            property values to use for elements of\n            heatmap.colorbar.tickformatstops\n        ticklabeloverflow\n            Determines how we handle tick labels that would\n            overflow either the graph div or the domain of the\n            axis. The default value for inside tick labels is *hide\n            past domain*. In other cases the default is *hide past\n            div*.\n        ticklabelposition\n            Determines where tick labels are drawn relative to the\n            ticks. Left and right options are used when\n            `orientation` is \"h\", top and bottom when `orientation`\n            is \"v\".\n        ticklabelstep\n            Sets the spacing between tick labels as compared to the\n            spacing between ticks. A value of 1 (default) means\n            each tick gets a label. A value of 2 means shows every\n            2nd label. A larger value n means only every nth tick\n            is labeled. `tick0` determines which labels are shown.\n            Not implemented for axes with `type` \"log\" or\n            \"multicategory\", or when `tickmode` is \"array\".\n        ticklen\n            Sets the tick length (in px).\n        tickmode\n            Sets the tick mode for this axis. If \"auto\", the number\n            of ticks is set via `nticks`. If \"linear\", the\n            placement of the ticks is determined by a starting\n            position `tick0` and a tick step `dtick` (\"linear\" is\n            the default value if `tick0` and `dtick` are provided).\n            If \"array\", the placement of the ticks is set via\n            `tickvals` and the tick text is `ticktext`. (\"array\" is\n            the default value if `tickvals` is provided).\n        tickprefix\n            Sets a tick label prefix.\n        ticks\n            Determines whether ticks are drawn or not. If \"\", this\n            axis' ticks are not drawn. If \"outside\" (\"inside\"),\n            this axis' are drawn outside (inside) the axis lines.\n        ticksuffix\n            Sets a tick label suffix.\n        ticktext\n            Sets the text displayed at the ticks position via\n            `tickvals`. Only has an effect if `tickmode` is set to\n            \"array\". Used with `tickvals`.\n        ticktextsrc\n            Sets the source reference on Chart Studio Cloud for\n            `ticktext`.\n        tickvals\n            Sets the values at which ticks on this axis appear.\n            Only has an effect if `tickmode` is set to \"array\".\n            Used with `ticktext`.\n        tickvalssrc\n            Sets the source reference on Chart Studio Cloud for\n            `tickvals`.\n        tickwidth\n            Sets the tick width (in px).\n        title\n            :class:`plotly.graph_objects.heatmap.colorbar.Title`\n            instance or dict with compatible properties\n        x\n            Sets the x position with respect to `xref` of the color\n            bar (in plot fraction). When `xref` is \"paper\",\n            defaults to 1.02 when `orientation` is \"v\" and 0.5 when\n            `orientation` is \"h\". When `xref` is \"container\",\n            defaults to 1 when `orientation` is \"v\" and 0.5 when\n            `orientation` is \"h\". Must be between 0 and 1 if `xref`\n            is \"container\" and between \"-2\" and 3 if `xref` is\n            \"paper\".\n        xanchor\n            Sets this color bar's horizontal position anchor. This\n            anchor binds the `x` position to the \"left\", \"center\"\n            or \"right\" of the color bar. Defaults to \"left\" when\n            `orientation` is \"v\" and \"center\" when `orientation` is\n            \"h\".\n        xpad\n            Sets the amount of padding (in px) along the x\n            direction.\n        xref\n            Sets the container `x` refers to. \"container\" spans the\n            entire `width` of the plot. \"paper\" refers to the width\n            of the plotting area only.\n        y\n            Sets the y position with respect to `yref` of the color\n            bar (in plot fraction). When `yref` is \"paper\",\n            defaults to 0.5 when `orientation` is \"v\" and 1.02 when\n            `orientation` is \"h\". When `yref` is \"container\",\n            defaults to 0.5 when `orientation` is \"v\" and 1 when\n            `orientation` is \"h\". Must be between 0 and 1 if `yref`\n            is \"container\" and between \"-2\" and 3 if `yref` is\n            \"paper\".\n        yanchor\n            Sets this color bar's vertical position anchor This\n            anchor binds the `y` position to the \"top\", \"middle\" or\n            \"bottom\" of the color bar. Defaults to \"middle\" when\n            `orientation` is \"v\" and \"bottom\" when `orientation` is\n            \"h\".\n        ypad\n            Sets the amount of padding (in px) along the y\n            direction.\n        yref\n            Sets the container `y` refers to. \"container\" spans the\n            entire `height` of the plot. \"paper\" refers to the\n            height of the plotting area only.\n        \nDid you mean \"tickfont\"?\n\nBad property path:\ntitlefont\n^^^^^^^^^",
     "output_type": "error",
     "traceback": [
      "\u001b[31m---------------------------------------------------------------------------\u001b[39m",
      "\u001b[31mValueError\u001b[39m                                Traceback (most recent call last)",
      "\u001b[36mCell\u001b[39m\u001b[36m \u001b[39m\u001b[32mIn[7]\u001b[39m\u001b[32m, line 264\u001b[39m\n\u001b[32m    262\u001b[39m \u001b[38;5;66;03m# Generar dashboard subregional optimizado\u001b[39;00m\n\u001b[32m    263\u001b[39m \u001b[38;5;28mprint\u001b[39m(\u001b[33m\"\u001b[39m\u001b[33m🎯 Generando Dashboard Subregional Optimizado para Diapositivas...\u001b[39m\u001b[33m\"\u001b[39m)\n\u001b[32m--> \u001b[39m\u001b[32m264\u001b[39m subregiones_metrics = \u001b[43mcrear_dashboard_subregiones_slides\u001b[49m\u001b[43m(\u001b[49m\u001b[43mdatasets_analisis\u001b[49m\u001b[43m)\u001b[49m\n",
      "\u001b[36mCell\u001b[39m\u001b[36m \u001b[39m\u001b[32mIn[7]\u001b[39m\u001b[32m, line 106\u001b[39m, in \u001b[36mcrear_dashboard_subregiones_slides\u001b[39m\u001b[34m(datasets_analisis)\u001b[39m\n\u001b[32m     99\u001b[39m matriz_flujos = pd.crosstab(\n\u001b[32m    100\u001b[39m     df_flujos[\u001b[33m\"\u001b[39m\u001b[33mSubregion exportadora\u001b[39m\u001b[33m\"\u001b[39m],\n\u001b[32m    101\u001b[39m     df_flujos[\u001b[33m\"\u001b[39m\u001b[33mSubregion importadora\u001b[39m\u001b[33m\"\u001b[39m],\n\u001b[32m    102\u001b[39m     normalize=\u001b[33m'\u001b[39m\u001b[33mindex\u001b[39m\u001b[33m'\u001b[39m\n\u001b[32m    103\u001b[39m ).fillna(\u001b[32m0\u001b[39m)\n\u001b[32m    105\u001b[39m \u001b[38;5;66;03m# Crear heatmap con anotaciones mejoradas\u001b[39;00m\n\u001b[32m--> \u001b[39m\u001b[32m106\u001b[39m fig2 = go.Figure(data=\u001b[43mgo\u001b[49m\u001b[43m.\u001b[49m\u001b[43mHeatmap\u001b[49m\u001b[43m(\u001b[49m\n\u001b[32m    107\u001b[39m \u001b[43m    \u001b[49m\u001b[43mz\u001b[49m\u001b[43m=\u001b[49m\u001b[43mmatriz_flujos\u001b[49m\u001b[43m.\u001b[49m\u001b[43mvalues\u001b[49m\u001b[43m,\u001b[49m\n\u001b[32m    108\u001b[39m \u001b[43m    \u001b[49m\u001b[43mx\u001b[49m\u001b[43m=\u001b[49m\u001b[43m[\u001b[49m\u001b[43mname\u001b[49m\u001b[43m[\u001b[49m\u001b[43m:\u001b[49m\u001b[32;43m15\u001b[39;49m\u001b[43m]\u001b[49m\u001b[43m \u001b[49m\u001b[43m+\u001b[49m\u001b[43m \u001b[49m\u001b[33;43m\"\u001b[39;49m\u001b[33;43m...\u001b[39;49m\u001b[33;43m\"\u001b[39;49m\u001b[43m \u001b[49m\u001b[38;5;28;43;01mif\u001b[39;49;00m\u001b[43m \u001b[49m\u001b[38;5;28;43mlen\u001b[39;49m\u001b[43m(\u001b[49m\u001b[43mname\u001b[49m\u001b[43m)\u001b[49m\u001b[43m \u001b[49m\u001b[43m>\u001b[49m\u001b[43m \u001b[49m\u001b[32;43m18\u001b[39;49m\u001b[43m \u001b[49m\u001b[38;5;28;43;01melse\u001b[39;49;00m\u001b[43m \u001b[49m\u001b[43mname\u001b[49m\u001b[43m \u001b[49m\u001b[38;5;28;43;01mfor\u001b[39;49;00m\u001b[43m \u001b[49m\u001b[43mname\u001b[49m\u001b[43m \u001b[49m\u001b[38;5;129;43;01min\u001b[39;49;00m\u001b[43m \u001b[49m\u001b[43mmatriz_flujos\u001b[49m\u001b[43m.\u001b[49m\u001b[43mcolumns\u001b[49m\u001b[43m]\u001b[49m\u001b[43m,\u001b[49m\n\u001b[32m    109\u001b[39m \u001b[43m    \u001b[49m\u001b[43my\u001b[49m\u001b[43m=\u001b[49m\u001b[43m[\u001b[49m\u001b[43mname\u001b[49m\u001b[43m[\u001b[49m\u001b[43m:\u001b[49m\u001b[32;43m15\u001b[39;49m\u001b[43m]\u001b[49m\u001b[43m \u001b[49m\u001b[43m+\u001b[49m\u001b[43m \u001b[49m\u001b[33;43m\"\u001b[39;49m\u001b[33;43m...\u001b[39;49m\u001b[33;43m\"\u001b[39;49m\u001b[43m \u001b[49m\u001b[38;5;28;43;01mif\u001b[39;49;00m\u001b[43m \u001b[49m\u001b[38;5;28;43mlen\u001b[39;49m\u001b[43m(\u001b[49m\u001b[43mname\u001b[49m\u001b[43m)\u001b[49m\u001b[43m \u001b[49m\u001b[43m>\u001b[49m\u001b[43m \u001b[49m\u001b[32;43m18\u001b[39;49m\u001b[43m \u001b[49m\u001b[38;5;28;43;01melse\u001b[39;49;00m\u001b[43m \u001b[49m\u001b[43mname\u001b[49m\u001b[43m \u001b[49m\u001b[38;5;28;43;01mfor\u001b[39;49;00m\u001b[43m \u001b[49m\u001b[43mname\u001b[49m\u001b[43m \u001b[49m\u001b[38;5;129;43;01min\u001b[39;49;00m\u001b[43m \u001b[49m\u001b[43mmatriz_flujos\u001b[49m\u001b[43m.\u001b[49m\u001b[43mindex\u001b[49m\u001b[43m]\u001b[49m\u001b[43m,\u001b[49m\n\u001b[32m    110\u001b[39m \u001b[43m    \u001b[49m\u001b[43mcolorscale\u001b[49m\u001b[43m=\u001b[49m\u001b[33;43m'\u001b[39;49m\u001b[33;43mRdYlBu_r\u001b[39;49m\u001b[33;43m'\u001b[39;49m\u001b[43m,\u001b[49m\n\u001b[32m    111\u001b[39m \u001b[43m    \u001b[49m\u001b[43mtext\u001b[49m\u001b[43m=\u001b[49m\u001b[43m[\u001b[49m\u001b[43m[\u001b[49m\u001b[33;43mf\u001b[39;49m\u001b[33;43m\"\u001b[39;49m\u001b[38;5;132;43;01m{\u001b[39;49;00m\u001b[43mval\u001b[49m\u001b[38;5;132;43;01m:\u001b[39;49;00m\u001b[33;43m.0%\u001b[39;49m\u001b[38;5;132;43;01m}\u001b[39;49;00m\u001b[33;43m\"\u001b[39;49m\u001b[43m \u001b[49m\u001b[38;5;28;43;01mif\u001b[39;49;00m\u001b[43m \u001b[49m\u001b[43mval\u001b[49m\u001b[43m \u001b[49m\u001b[43m>\u001b[49m\u001b[43m=\u001b[49m\u001b[43m \u001b[49m\u001b[32;43m0.05\u001b[39;49m\u001b[43m \u001b[49m\u001b[38;5;28;43;01melse\u001b[39;49;00m\u001b[43m \u001b[49m\u001b[33;43m\"\u001b[39;49m\u001b[33;43m\"\u001b[39;49m\u001b[43m \u001b[49m\u001b[38;5;28;43;01mfor\u001b[39;49;00m\u001b[43m \u001b[49m\u001b[43mval\u001b[49m\u001b[43m \u001b[49m\u001b[38;5;129;43;01min\u001b[39;49;00m\u001b[43m \u001b[49m\u001b[43mrow\u001b[49m\u001b[43m]\u001b[49m\u001b[43m \u001b[49m\u001b[38;5;28;43;01mfor\u001b[39;49;00m\u001b[43m \u001b[49m\u001b[43mrow\u001b[49m\u001b[43m \u001b[49m\u001b[38;5;129;43;01min\u001b[39;49;00m\u001b[43m \u001b[49m\u001b[43mmatriz_flujos\u001b[49m\u001b[43m.\u001b[49m\u001b[43mvalues\u001b[49m\u001b[43m]\u001b[49m\u001b[43m,\u001b[49m\n\u001b[32m    112\u001b[39m \u001b[43m    \u001b[49m\u001b[43mtexttemplate\u001b[49m\u001b[43m=\u001b[49m\u001b[33;43m\"\u001b[39;49m\u001b[33;43m%\u001b[39;49m\u001b[38;5;132;43;01m{text}\u001b[39;49;00m\u001b[33;43m\"\u001b[39;49m\u001b[43m,\u001b[49m\n\u001b[32m    113\u001b[39m \u001b[43m    \u001b[49m\u001b[43mtextfont\u001b[49m\u001b[43m=\u001b[49m\u001b[43m{\u001b[49m\u001b[33;43m\"\u001b[39;49m\u001b[33;43msize\u001b[39;49m\u001b[33;43m\"\u001b[39;49m\u001b[43m:\u001b[49m\u001b[43m \u001b[49m\u001b[32;43m10\u001b[39;49m\u001b[43m,\u001b[49m\u001b[43m \u001b[49m\u001b[33;43m\"\u001b[39;49m\u001b[33;43mcolor\u001b[39;49m\u001b[33;43m\"\u001b[39;49m\u001b[43m:\u001b[49m\u001b[43m \u001b[49m\u001b[33;43m\"\u001b[39;49m\u001b[33;43mwhite\u001b[39;49m\u001b[33;43m\"\u001b[39;49m\u001b[43m}\u001b[49m\u001b[43m,\u001b[49m\n\u001b[32m    114\u001b[39m \u001b[43m    \u001b[49m\u001b[43mhovertemplate\u001b[49m\u001b[43m=\u001b[49m\u001b[33;43m\"\u001b[39;49m\u001b[33;43m<b>\u001b[39;49m\u001b[33;43m%\u001b[39;49m\u001b[38;5;132;43;01m{y}\u001b[39;49;00m\u001b[33;43m → \u001b[39;49m\u001b[33;43m%\u001b[39;49m\u001b[38;5;132;43;01m{x}\u001b[39;49;00m\u001b[33;43m</b><br>\u001b[39;49m\u001b[33;43m%\u001b[39;49m\u001b[38;5;132;43;01m{z:.1%}\u001b[39;49;00m\u001b[33;43m del flujo exportador<extra></extra>\u001b[39;49m\u001b[33;43m\"\u001b[39;49m\u001b[43m,\u001b[49m\n\u001b[32m    115\u001b[39m \u001b[43m    \u001b[49m\u001b[43mcolorbar\u001b[49m\u001b[43m=\u001b[49m\u001b[38;5;28;43mdict\u001b[39;49m\u001b[43m(\u001b[49m\n\u001b[32m    116\u001b[39m \u001b[43m        \u001b[49m\u001b[43mtitle\u001b[49m\u001b[43m=\u001b[49m\u001b[33;43m\"\u001b[39;49m\u001b[38;5;132;43;01m% F\u001b[39;49;00m\u001b[33;43mlujo\u001b[39;49m\u001b[33;43m\"\u001b[39;49m\u001b[43m,\u001b[49m\n\u001b[32m    117\u001b[39m \u001b[43m        \u001b[49m\u001b[43mtitlefont\u001b[49m\u001b[43m=\u001b[49m\u001b[38;5;28;43mdict\u001b[39;49m\u001b[43m(\u001b[49m\u001b[43msize\u001b[49m\u001b[43m=\u001b[49m\u001b[32;43m12\u001b[39;49m\u001b[43m)\u001b[49m\u001b[43m,\u001b[49m\n\u001b[32m    118\u001b[39m \u001b[43m        \u001b[49m\u001b[43mtickformat\u001b[49m\u001b[43m=\u001b[49m\u001b[33;43m\"\u001b[39;49m\u001b[33;43m.0\u001b[39;49m\u001b[33;43m%\u001b[39;49m\u001b[33;43m\"\u001b[39;49m\n\u001b[32m    119\u001b[39m \u001b[43m    \u001b[49m\u001b[43m)\u001b[49m\n\u001b[32m    120\u001b[39m \u001b[43m\u001b[49m\u001b[43m)\u001b[49m)\n\u001b[32m    122\u001b[39m fig2.update_layout(\n\u001b[32m    123\u001b[39m     title=\u001b[33m\"\u001b[39m\u001b[33m<b>Corredores Comerciales Subregionales</b><br><span style=\u001b[39m\u001b[33m'\u001b[39m\u001b[33mfont-size:12px\u001b[39m\u001b[33m'\u001b[39m\u001b[33m>Principales rutas de exportación (Top 6×6)</span>\u001b[39m\u001b[33m\"\u001b[39m,\n\u001b[32m    124\u001b[39m     xaxis_title=\u001b[33m\"\u001b[39m\u001b[33mSubregión Importadora\u001b[39m\u001b[33m\"\u001b[39m,\n\u001b[32m   (...)\u001b[39m\u001b[32m    127\u001b[39m     template=\u001b[33m\"\u001b[39m\u001b[33mslide_template\u001b[39m\u001b[33m\"\u001b[39m\n\u001b[32m    128\u001b[39m )\n\u001b[32m    130\u001b[39m fig2.update_xaxes(tickangle=\u001b[32m45\u001b[39m)\n",
      "\u001b[36mFile \u001b[39m\u001b[32mc:\\Users\\AZUser\\AppData\\Local\\Programs\\Python\\Python311\\Lib\\site-packages\\plotly\\graph_objs\\_heatmap.py:2458\u001b[39m, in \u001b[36mHeatmap.__init__\u001b[39m\u001b[34m(self, arg, autocolorscale, coloraxis, colorbar, colorscale, connectgaps, customdata, customdatasrc, dx, dy, hoverinfo, hoverinfosrc, hoverlabel, hoverongaps, hovertemplate, hovertemplatesrc, hovertext, hovertextsrc, ids, idssrc, legend, legendgroup, legendgrouptitle, legendrank, legendwidth, meta, metasrc, name, opacity, reversescale, showlegend, showscale, stream, text, textfont, textsrc, texttemplate, transpose, uid, uirevision, visible, x, x0, xaxis, xcalendar, xgap, xhoverformat, xperiod, xperiod0, xperiodalignment, xsrc, xtype, y, y0, yaxis, ycalendar, ygap, yhoverformat, yperiod, yperiod0, yperiodalignment, ysrc, ytype, z, zauto, zhoverformat, zmax, zmid, zmin, zorder, zsmooth, zsrc, **kwargs)\u001b[39m\n\u001b[32m   2456\u001b[39m \u001b[38;5;28mself\u001b[39m._set_property(\u001b[33m\"\u001b[39m\u001b[33mautocolorscale\u001b[39m\u001b[33m\"\u001b[39m, arg, autocolorscale)\n\u001b[32m   2457\u001b[39m \u001b[38;5;28mself\u001b[39m._set_property(\u001b[33m\"\u001b[39m\u001b[33mcoloraxis\u001b[39m\u001b[33m\"\u001b[39m, arg, coloraxis)\n\u001b[32m-> \u001b[39m\u001b[32m2458\u001b[39m \u001b[38;5;28;43mself\u001b[39;49m\u001b[43m.\u001b[49m\u001b[43m_set_property\u001b[49m\u001b[43m(\u001b[49m\u001b[33;43m\"\u001b[39;49m\u001b[33;43mcolorbar\u001b[39;49m\u001b[33;43m\"\u001b[39;49m\u001b[43m,\u001b[49m\u001b[43m \u001b[49m\u001b[43marg\u001b[49m\u001b[43m,\u001b[49m\u001b[43m \u001b[49m\u001b[43mcolorbar\u001b[49m\u001b[43m)\u001b[49m\n\u001b[32m   2459\u001b[39m \u001b[38;5;28mself\u001b[39m._set_property(\u001b[33m\"\u001b[39m\u001b[33mcolorscale\u001b[39m\u001b[33m\"\u001b[39m, arg, colorscale)\n\u001b[32m   2460\u001b[39m \u001b[38;5;28mself\u001b[39m._set_property(\u001b[33m\"\u001b[39m\u001b[33mconnectgaps\u001b[39m\u001b[33m\"\u001b[39m, arg, connectgaps)\n",
      "\u001b[36mFile \u001b[39m\u001b[32mc:\\Users\\AZUser\\AppData\\Local\\Programs\\Python\\Python311\\Lib\\site-packages\\plotly\\basedatatypes.py:4403\u001b[39m, in \u001b[36mBasePlotlyType._set_property\u001b[39m\u001b[34m(self, name, arg, provided)\u001b[39m\n\u001b[32m   4397\u001b[39m \u001b[38;5;28;01mdef\u001b[39;00m\u001b[38;5;250m \u001b[39m\u001b[34m_set_property\u001b[39m(\u001b[38;5;28mself\u001b[39m, name, arg, provided):\n\u001b[32m   4398\u001b[39m \u001b[38;5;250m    \u001b[39m\u001b[33;03m\"\"\"\u001b[39;00m\n\u001b[32m   4399\u001b[39m \u001b[33;03m    Initialize a property of this object using the provided value\u001b[39;00m\n\u001b[32m   4400\u001b[39m \u001b[33;03m    or a value popped from the arguments dictionary. If neither\u001b[39;00m\n\u001b[32m   4401\u001b[39m \u001b[33;03m    is available, do not set the property.\u001b[39;00m\n\u001b[32m   4402\u001b[39m \u001b[33;03m    \"\"\"\u001b[39;00m\n\u001b[32m-> \u001b[39m\u001b[32m4403\u001b[39m     \u001b[43m_set_property_provided_value\u001b[49m\u001b[43m(\u001b[49m\u001b[38;5;28;43mself\u001b[39;49m\u001b[43m,\u001b[49m\u001b[43m \u001b[49m\u001b[43mname\u001b[49m\u001b[43m,\u001b[49m\u001b[43m \u001b[49m\u001b[43marg\u001b[49m\u001b[43m,\u001b[49m\u001b[43m \u001b[49m\u001b[43mprovided\u001b[49m\u001b[43m)\u001b[49m\n",
      "\u001b[36mFile \u001b[39m\u001b[32mc:\\Users\\AZUser\\AppData\\Local\\Programs\\Python\\Python311\\Lib\\site-packages\\plotly\\basedatatypes.py:398\u001b[39m, in \u001b[36m_set_property_provided_value\u001b[39m\u001b[34m(obj, name, arg, provided)\u001b[39m\n\u001b[32m    396\u001b[39m val = provided \u001b[38;5;28;01mif\u001b[39;00m provided \u001b[38;5;129;01mis\u001b[39;00m \u001b[38;5;129;01mnot\u001b[39;00m \u001b[38;5;28;01mNone\u001b[39;00m \u001b[38;5;28;01melse\u001b[39;00m val\n\u001b[32m    397\u001b[39m \u001b[38;5;28;01mif\u001b[39;00m val \u001b[38;5;129;01mis\u001b[39;00m \u001b[38;5;129;01mnot\u001b[39;00m \u001b[38;5;28;01mNone\u001b[39;00m:\n\u001b[32m--> \u001b[39m\u001b[32m398\u001b[39m     \u001b[43mobj\u001b[49m\u001b[43m[\u001b[49m\u001b[43mname\u001b[49m\u001b[43m]\u001b[49m = val\n",
      "\u001b[36mFile \u001b[39m\u001b[32mc:\\Users\\AZUser\\AppData\\Local\\Programs\\Python\\Python311\\Lib\\site-packages\\plotly\\basedatatypes.py:4924\u001b[39m, in \u001b[36mBasePlotlyType.__setitem__\u001b[39m\u001b[34m(self, prop, value)\u001b[39m\n\u001b[32m   4922\u001b[39m \u001b[38;5;66;03m# ### Handle compound property ###\u001b[39;00m\n\u001b[32m   4923\u001b[39m \u001b[38;5;28;01mif\u001b[39;00m \u001b[38;5;28misinstance\u001b[39m(validator, CompoundValidator):\n\u001b[32m-> \u001b[39m\u001b[32m4924\u001b[39m     \u001b[38;5;28;43mself\u001b[39;49m\u001b[43m.\u001b[49m\u001b[43m_set_compound_prop\u001b[49m\u001b[43m(\u001b[49m\u001b[43mprop\u001b[49m\u001b[43m,\u001b[49m\u001b[43m \u001b[49m\u001b[43mvalue\u001b[49m\u001b[43m)\u001b[49m\n\u001b[32m   4926\u001b[39m \u001b[38;5;66;03m# ### Handle compound array property ###\u001b[39;00m\n\u001b[32m   4927\u001b[39m \u001b[38;5;28;01melif\u001b[39;00m \u001b[38;5;28misinstance\u001b[39m(validator, (CompoundArrayValidator, BaseDataValidator)):\n",
      "\u001b[36mFile \u001b[39m\u001b[32mc:\\Users\\AZUser\\AppData\\Local\\Programs\\Python\\Python311\\Lib\\site-packages\\plotly\\basedatatypes.py:5335\u001b[39m, in \u001b[36mBasePlotlyType._set_compound_prop\u001b[39m\u001b[34m(self, prop, val)\u001b[39m\n\u001b[32m   5332\u001b[39m \u001b[38;5;66;03m# Import value\u001b[39;00m\n\u001b[32m   5333\u001b[39m \u001b[38;5;66;03m# ------------\u001b[39;00m\n\u001b[32m   5334\u001b[39m validator = \u001b[38;5;28mself\u001b[39m._get_validator(prop)\n\u001b[32m-> \u001b[39m\u001b[32m5335\u001b[39m val = \u001b[43mvalidator\u001b[49m\u001b[43m.\u001b[49m\u001b[43mvalidate_coerce\u001b[49m\u001b[43m(\u001b[49m\u001b[43mval\u001b[49m\u001b[43m,\u001b[49m\u001b[43m \u001b[49m\u001b[43mskip_invalid\u001b[49m\u001b[43m=\u001b[49m\u001b[38;5;28;43mself\u001b[39;49m\u001b[43m.\u001b[49m\u001b[43m_skip_invalid\u001b[49m\u001b[43m)\u001b[49m\n\u001b[32m   5337\u001b[39m \u001b[38;5;66;03m# Save deep copies of current and new states\u001b[39;00m\n\u001b[32m   5338\u001b[39m \u001b[38;5;66;03m# ------------------------------------------\u001b[39;00m\n\u001b[32m   5339\u001b[39m curr_val = \u001b[38;5;28mself\u001b[39m._compound_props.get(prop, \u001b[38;5;28;01mNone\u001b[39;00m)\n",
      "\u001b[36mFile \u001b[39m\u001b[32mc:\\Users\\AZUser\\AppData\\Local\\Programs\\Python\\Python311\\Lib\\site-packages\\_plotly_utils\\basevalidators.py:2425\u001b[39m, in \u001b[36mCompoundValidator.validate_coerce\u001b[39m\u001b[34m(self, v, skip_invalid, _validate)\u001b[39m\n\u001b[32m   2422\u001b[39m     v = \u001b[38;5;28mself\u001b[39m.data_class()\n\u001b[32m   2424\u001b[39m \u001b[38;5;28;01melif\u001b[39;00m \u001b[38;5;28misinstance\u001b[39m(v, \u001b[38;5;28mdict\u001b[39m):\n\u001b[32m-> \u001b[39m\u001b[32m2425\u001b[39m     v = \u001b[38;5;28;43mself\u001b[39;49m\u001b[43m.\u001b[49m\u001b[43mdata_class\u001b[49m\u001b[43m(\u001b[49m\u001b[43mv\u001b[49m\u001b[43m,\u001b[49m\u001b[43m \u001b[49m\u001b[43mskip_invalid\u001b[49m\u001b[43m=\u001b[49m\u001b[43mskip_invalid\u001b[49m\u001b[43m,\u001b[49m\u001b[43m \u001b[49m\u001b[43m_validate\u001b[49m\u001b[43m=\u001b[49m\u001b[43m_validate\u001b[49m\u001b[43m)\u001b[49m\n\u001b[32m   2427\u001b[39m \u001b[38;5;28;01melif\u001b[39;00m \u001b[38;5;28misinstance\u001b[39m(v, \u001b[38;5;28mself\u001b[39m.data_class):\n\u001b[32m   2428\u001b[39m     \u001b[38;5;66;03m# Copy object\u001b[39;00m\n\u001b[32m   2429\u001b[39m     v = \u001b[38;5;28mself\u001b[39m.data_class(v)\n",
      "\u001b[36mFile \u001b[39m\u001b[32mc:\\Users\\AZUser\\AppData\\Local\\Programs\\Python\\Python311\\Lib\\site-packages\\plotly\\graph_objs\\heatmap\\_colorbar.py:1721\u001b[39m, in \u001b[36mColorBar.__init__\u001b[39m\u001b[34m(self, arg, bgcolor, bordercolor, borderwidth, dtick, exponentformat, labelalias, len, lenmode, minexponent, nticks, orientation, outlinecolor, outlinewidth, separatethousands, showexponent, showticklabels, showtickprefix, showticksuffix, thickness, thicknessmode, tick0, tickangle, tickcolor, tickfont, tickformat, tickformatstops, tickformatstopdefaults, ticklabeloverflow, ticklabelposition, ticklabelstep, ticklen, tickmode, tickprefix, ticks, ticksuffix, ticktext, ticktextsrc, tickvals, tickvalssrc, tickwidth, title, x, xanchor, xpad, xref, y, yanchor, ypad, yref, **kwargs)\u001b[39m\n\u001b[32m   1719\u001b[39m \u001b[38;5;28mself\u001b[39m._set_property(\u001b[33m\"\u001b[39m\u001b[33mypad\u001b[39m\u001b[33m\"\u001b[39m, arg, ypad)\n\u001b[32m   1720\u001b[39m \u001b[38;5;28mself\u001b[39m._set_property(\u001b[33m\"\u001b[39m\u001b[33myref\u001b[39m\u001b[33m\"\u001b[39m, arg, yref)\n\u001b[32m-> \u001b[39m\u001b[32m1721\u001b[39m \u001b[38;5;28;43mself\u001b[39;49m\u001b[43m.\u001b[49m\u001b[43m_process_kwargs\u001b[49m\u001b[43m(\u001b[49m\u001b[43m*\u001b[49m\u001b[43m*\u001b[49m\u001b[38;5;28;43mdict\u001b[39;49m\u001b[43m(\u001b[49m\u001b[43marg\u001b[49m\u001b[43m,\u001b[49m\u001b[43m \u001b[49m\u001b[43m*\u001b[49m\u001b[43m*\u001b[49m\u001b[43mkwargs\u001b[49m\u001b[43m)\u001b[49m\u001b[43m)\u001b[49m\n\u001b[32m   1722\u001b[39m \u001b[38;5;28mself\u001b[39m._skip_invalid = \u001b[38;5;28;01mFalse\u001b[39;00m\n",
      "\u001b[36mFile \u001b[39m\u001b[32mc:\\Users\\AZUser\\AppData\\Local\\Programs\\Python\\Python311\\Lib\\site-packages\\plotly\\basedatatypes.py:4451\u001b[39m, in \u001b[36mBasePlotlyType._process_kwargs\u001b[39m\u001b[34m(self, **kwargs)\u001b[39m\n\u001b[32m   4449\u001b[39m     \u001b[38;5;28mself\u001b[39m[k] = v\n\u001b[32m   4450\u001b[39m \u001b[38;5;28;01melif\u001b[39;00m \u001b[38;5;129;01mnot\u001b[39;00m \u001b[38;5;28mself\u001b[39m._skip_invalid:\n\u001b[32m-> \u001b[39m\u001b[32m4451\u001b[39m     \u001b[38;5;28;01mraise\u001b[39;00m err\n",
      "\u001b[31mValueError\u001b[39m: Invalid property specified for object of type plotly.graph_objs.heatmap.ColorBar: 'titlefont'\n\nDid you mean \"tickfont\"?\n\n    Valid properties:\n        bgcolor\n            Sets the color of padded area.\n        bordercolor\n            Sets the axis line color.\n        borderwidth\n            Sets the width (in px) or the border enclosing this\n            color bar.\n        dtick\n            Sets the step in-between ticks on this axis. Use with\n            `tick0`. Must be a positive number, or special strings\n            available to \"log\" and \"date\" axes. If the axis `type`\n            is \"log\", then ticks are set every 10^(n*dtick) where n\n            is the tick number. For example, to set a tick mark at\n            1, 10, 100, 1000, ... set dtick to 1. To set tick marks\n            at 1, 100, 10000, ... set dtick to 2. To set tick marks\n            at 1, 5, 25, 125, 625, 3125, ... set dtick to\n            log_10(5), or 0.69897000433. \"log\" has several special\n            values; \"L<f>\", where `f` is a positive number, gives\n            ticks linearly spaced in value (but not position). For\n            example `tick0` = 0.1, `dtick` = \"L0.5\" will put ticks\n            at 0.1, 0.6, 1.1, 1.6 etc. To show powers of 10 plus\n            small digits between, use \"D1\" (all digits) or \"D2\"\n            (only 2 and 5). `tick0` is ignored for \"D1\" and \"D2\".\n            If the axis `type` is \"date\", then you must convert the\n            time to milliseconds. For example, to set the interval\n            between ticks to one day, set `dtick` to 86400000.0.\n            \"date\" also has special values \"M<n>\" gives ticks\n            spaced by a number of months. `n` must be a positive\n            integer. To set ticks on the 15th of every third month,\n            set `tick0` to \"2000-01-15\" and `dtick` to \"M3\". To set\n            ticks every 4 years, set `dtick` to \"M48\"\n        exponentformat\n            Determines a formatting rule for the tick exponents.\n            For example, consider the number 1,000,000,000. If\n            \"none\", it appears as 1,000,000,000. If \"e\", 1e+9. If\n            \"E\", 1E+9. If \"power\", 1x10^9 (with 9 in a super\n            script). If \"SI\", 1G. If \"B\", 1B.\n        labelalias\n            Replacement text for specific tick or hover labels. For\n            example using {US: 'USA', CA: 'Canada'} changes US to\n            USA and CA to Canada. The labels we would have shown\n            must match the keys exactly, after adding any\n            tickprefix or ticksuffix. For negative numbers the\n            minus sign symbol used (U+2212) is wider than the\n            regular ascii dash. That means you need to use −1\n            instead of -1. labelalias can be used with any axis\n            type, and both keys (if needed) and values (if desired)\n            can include html-like tags or MathJax.\n        len\n            Sets the length of the color bar This measure excludes\n            the padding of both ends. That is, the color bar length\n            is this length minus the padding on both ends.\n        lenmode\n            Determines whether this color bar's length (i.e. the\n            measure in the color variation direction) is set in\n            units of plot \"fraction\" or in *pixels. Use `len` to\n            set the value.\n        minexponent\n            Hide SI prefix for 10^n if |n| is below this number.\n            This only has an effect when `tickformat` is \"SI\" or\n            \"B\".\n        nticks\n            Specifies the maximum number of ticks for the\n            particular axis. The actual number of ticks will be\n            chosen automatically to be less than or equal to\n            `nticks`. Has an effect only if `tickmode` is set to\n            \"auto\".\n        orientation\n            Sets the orientation of the colorbar.\n        outlinecolor\n            Sets the axis line color.\n        outlinewidth\n            Sets the width (in px) of the axis line.\n        separatethousands\n            If \"true\", even 4-digit integers are separated\n        showexponent\n            If \"all\", all exponents are shown besides their\n            significands. If \"first\", only the exponent of the\n            first tick is shown. If \"last\", only the exponent of\n            the last tick is shown. If \"none\", no exponents appear.\n        showticklabels\n            Determines whether or not the tick labels are drawn.\n        showtickprefix\n            If \"all\", all tick labels are displayed with a prefix.\n            If \"first\", only the first tick is displayed with a\n            prefix. If \"last\", only the last tick is displayed with\n            a suffix. If \"none\", tick prefixes are hidden.\n        showticksuffix\n            Same as `showtickprefix` but for tick suffixes.\n        thickness\n            Sets the thickness of the color bar This measure\n            excludes the size of the padding, ticks and labels.\n        thicknessmode\n            Determines whether this color bar's thickness (i.e. the\n            measure in the constant color direction) is set in\n            units of plot \"fraction\" or in \"pixels\". Use\n            `thickness` to set the value.\n        tick0\n            Sets the placement of the first tick on this axis. Use\n            with `dtick`. If the axis `type` is \"log\", then you\n            must take the log of your starting tick (e.g. to set\n            the starting tick to 100, set the `tick0` to 2) except\n            when `dtick`=*L<f>* (see `dtick` for more info). If the\n            axis `type` is \"date\", it should be a date string, like\n            date data. If the axis `type` is \"category\", it should\n            be a number, using the scale where each category is\n            assigned a serial number from zero in the order it\n            appears.\n        tickangle\n            Sets the angle of the tick labels with respect to the\n            horizontal. For example, a `tickangle` of -90 draws the\n            tick labels vertically.\n        tickcolor\n            Sets the tick color.\n        tickfont\n            Sets the color bar's tick label font\n        tickformat\n            Sets the tick label formatting rule using d3 formatting\n            mini-languages which are very similar to those in\n            Python. For numbers, see:\n            https://github.com/d3/d3-format/tree/v1.4.5#d3-format.\n            And for dates see: https://github.com/d3/d3-time-\n            format/tree/v2.2.3#locale_format. We add two items to\n            d3's date formatter: \"%h\" for half of the year as a\n            decimal number as well as \"%{n}f\" for fractional\n            seconds with n digits. For example, *2016-10-13\n            09:15:23.456* with tickformat \"%H~%M~%S.%2f\" would\n            display \"09~15~23.46\"\n        tickformatstops\n            A tuple of :class:`plotly.graph_objects.heatmap.colorba\n            r.Tickformatstop` instances or dicts with compatible\n            properties\n        tickformatstopdefaults\n            When used in a template (as layout.template.data.heatma\n            p.colorbar.tickformatstopdefaults), sets the default\n            property values to use for elements of\n            heatmap.colorbar.tickformatstops\n        ticklabeloverflow\n            Determines how we handle tick labels that would\n            overflow either the graph div or the domain of the\n            axis. The default value for inside tick labels is *hide\n            past domain*. In other cases the default is *hide past\n            div*.\n        ticklabelposition\n            Determines where tick labels are drawn relative to the\n            ticks. Left and right options are used when\n            `orientation` is \"h\", top and bottom when `orientation`\n            is \"v\".\n        ticklabelstep\n            Sets the spacing between tick labels as compared to the\n            spacing between ticks. A value of 1 (default) means\n            each tick gets a label. A value of 2 means shows every\n            2nd label. A larger value n means only every nth tick\n            is labeled. `tick0` determines which labels are shown.\n            Not implemented for axes with `type` \"log\" or\n            \"multicategory\", or when `tickmode` is \"array\".\n        ticklen\n            Sets the tick length (in px).\n        tickmode\n            Sets the tick mode for this axis. If \"auto\", the number\n            of ticks is set via `nticks`. If \"linear\", the\n            placement of the ticks is determined by a starting\n            position `tick0` and a tick step `dtick` (\"linear\" is\n            the default value if `tick0` and `dtick` are provided).\n            If \"array\", the placement of the ticks is set via\n            `tickvals` and the tick text is `ticktext`. (\"array\" is\n            the default value if `tickvals` is provided).\n        tickprefix\n            Sets a tick label prefix.\n        ticks\n            Determines whether ticks are drawn or not. If \"\", this\n            axis' ticks are not drawn. If \"outside\" (\"inside\"),\n            this axis' are drawn outside (inside) the axis lines.\n        ticksuffix\n            Sets a tick label suffix.\n        ticktext\n            Sets the text displayed at the ticks position via\n            `tickvals`. Only has an effect if `tickmode` is set to\n            \"array\". Used with `tickvals`.\n        ticktextsrc\n            Sets the source reference on Chart Studio Cloud for\n            `ticktext`.\n        tickvals\n            Sets the values at which ticks on this axis appear.\n            Only has an effect if `tickmode` is set to \"array\".\n            Used with `ticktext`.\n        tickvalssrc\n            Sets the source reference on Chart Studio Cloud for\n            `tickvals`.\n        tickwidth\n            Sets the tick width (in px).\n        title\n            :class:`plotly.graph_objects.heatmap.colorbar.Title`\n            instance or dict with compatible properties\n        x\n            Sets the x position with respect to `xref` of the color\n            bar (in plot fraction). When `xref` is \"paper\",\n            defaults to 1.02 when `orientation` is \"v\" and 0.5 when\n            `orientation` is \"h\". When `xref` is \"container\",\n            defaults to 1 when `orientation` is \"v\" and 0.5 when\n            `orientation` is \"h\". Must be between 0 and 1 if `xref`\n            is \"container\" and between \"-2\" and 3 if `xref` is\n            \"paper\".\n        xanchor\n            Sets this color bar's horizontal position anchor. This\n            anchor binds the `x` position to the \"left\", \"center\"\n            or \"right\" of the color bar. Defaults to \"left\" when\n            `orientation` is \"v\" and \"center\" when `orientation` is\n            \"h\".\n        xpad\n            Sets the amount of padding (in px) along the x\n            direction.\n        xref\n            Sets the container `x` refers to. \"container\" spans the\n            entire `width` of the plot. \"paper\" refers to the width\n            of the plotting area only.\n        y\n            Sets the y position with respect to `yref` of the color\n            bar (in plot fraction). When `yref` is \"paper\",\n            defaults to 0.5 when `orientation` is \"v\" and 1.02 when\n            `orientation` is \"h\". When `yref` is \"container\",\n            defaults to 0.5 when `orientation` is \"v\" and 1 when\n            `orientation` is \"h\". Must be between 0 and 1 if `yref`\n            is \"container\" and between \"-2\" and 3 if `yref` is\n            \"paper\".\n        yanchor\n            Sets this color bar's vertical position anchor This\n            anchor binds the `y` position to the \"top\", \"middle\" or\n            \"bottom\" of the color bar. Defaults to \"middle\" when\n            `orientation` is \"v\" and \"bottom\" when `orientation` is\n            \"h\".\n        ypad\n            Sets the amount of padding (in px) along the y\n            direction.\n        yref\n            Sets the container `y` refers to. \"container\" spans the\n            entire `height` of the plot. \"paper\" refers to the\n            height of the plotting area only.\n        \nDid you mean \"tickfont\"?\n\nBad property path:\ntitlefont\n^^^^^^^^^"
     ]
    }
   ],
   "source": [
    "# =====================================================================================\n",
    "# DASHBOARD 2.1: ANÁLISIS SUBREGIONAL CONCISO PARA DIAPOSITIVAS\n",
    "# =====================================================================================\n",
    "\n",
    "def crear_dashboard_subregiones_slides(datasets_analisis):\n",
    "    \"\"\"\n",
    "    Dashboard de subregiones optimizado: solo los insights más valiosos y actionables\n",
    "    \"\"\"\n",
    "    \n",
    "    df_completo = datasets_analisis[\"df_completo\"]\n",
    "    df_volumen = datasets_analisis[\"df_volumen\"]\n",
    "    \n",
    "    print(\"🎯 ANÁLISIS SUBREGIONAL: PATRONES GRANULARES CRÍTICOS\")\n",
    "    print(\"=\" * 60)\n",
    "    \n",
    "    # Preparar datos TOP para visualización concisa\n",
    "    freq_subreg_exp = df_completo.groupby(\"Subregion exportadora\").size().sort_values(ascending=False)\n",
    "    vol_subreg_exp = df_volumen.groupby(\"Subregion exportadora\")[\"Cantidad\"].sum().sort_values(ascending=False)\n",
    "    \n",
    "    top_subreg_exp_freq = freq_subreg_exp.head(10)\n",
    "    top_subreg_exp_vol = vol_subreg_exp.head(10)\n",
    "    \n",
    "    # =============================================================================\n",
    "    # GRÁFICO 1: TOP SUBREGIONES EXPORTADORAS - VISTA EJECUTIVA\n",
    "    # =============================================================================\n",
    "    \n",
    "    fig1 = make_subplots(\n",
    "        rows=1, cols=2,\n",
    "        subplot_titles=(\"🔄 Top 10 por Transacciones\", \"📦 Top 10 por Volumen\"),\n",
    "        specs=[[{\"type\": \"bar\"}, {\"type\": \"bar\"}]],\n",
    "        horizontal_spacing=0.12\n",
    "    )\n",
    "    \n",
    "    # Identificar subregiones que aparecen en ambos tops\n",
    "    subregiones_duales = set(top_subreg_exp_freq.index) & set(top_subreg_exp_vol.index)\n",
    "    \n",
    "    # Colores diferenciados para subregiones duales vs especializadas\n",
    "    colors_freq = [SLIDE_COLORS[\"success\"] if sub in subregiones_duales else SLIDE_COLORS[\"primary\"] \n",
    "                   for sub in top_subreg_exp_freq.index]\n",
    "    colors_vol = [SLIDE_COLORS[\"success\"] if sub in subregiones_duales else SLIDE_COLORS[\"secondary\"] \n",
    "                  for sub in top_subreg_exp_vol.index]\n",
    "    \n",
    "    # Gráfico de frecuencia\n",
    "    fig1.add_trace(\n",
    "        go.Bar(\n",
    "            y=top_subreg_exp_freq.index[::-1],\n",
    "            x=top_subreg_exp_freq.values[::-1],\n",
    "            orientation='h',\n",
    "            marker_color=colors_freq[::-1],\n",
    "            text=[format_number(x) for x in top_subreg_exp_freq.values[::-1]],\n",
    "            textposition=\"outside\",\n",
    "            name=\"Frecuencia\",\n",
    "            hovertemplate=\"<b>%{y}</b><br>Transacciones: %{x:,.0f}<extra></extra>\"\n",
    "        ),\n",
    "        row=1, col=1\n",
    "    )\n",
    "    \n",
    "    # Gráfico de volumen\n",
    "    fig1.add_trace(\n",
    "        go.Bar(\n",
    "            y=top_subreg_exp_vol.index[::-1],\n",
    "            x=top_subreg_exp_vol.values[::-1],\n",
    "            orientation='h',\n",
    "            marker_color=colors_vol[::-1],\n",
    "            text=[format_number(x) for x in top_subreg_exp_vol.values[::-1]],\n",
    "            textposition=\"outside\",\n",
    "            name=\"Volumen\",\n",
    "            hovertemplate=\"<b>%{y}</b><br>Ejemplares: %{x:,.0f}<extra></extra>\"\n",
    "        ),\n",
    "        row=1, col=2\n",
    "    )\n",
    "    \n",
    "    fig1.update_layout(\n",
    "        title=\"<b>Subregiones Exportadoras Clave</b><br><span style='font-size:12px; color:green'>Verde: Líderes en ambos indicadores</span>\",\n",
    "        height=600,\n",
    "        showlegend=False,\n",
    "        template=\"slide_template\"\n",
    "    )\n",
    "    \n",
    "    fig1.update_xaxes(title_text=\"N° Transacciones\", row=1, col=1)\n",
    "    fig1.update_xaxes(title_text=\"Ejemplares\", row=1, col=2)\n",
    "    \n",
    "    fig1.show()\n",
    "    \n",
    "    # =============================================================================\n",
    "    # GRÁFICO 2: MATRIZ DE CORREDORES COMERCIALES CRÍTICOS\n",
    "    # =============================================================================\n",
    "    \n",
    "    # Identificar los corredores más importantes (top 6x6 para claridad)\n",
    "    top6_exp = freq_subreg_exp.head(6).index.tolist()\n",
    "    top6_imp = df_completo.groupby(\"Subregion importadora\").size().sort_values(ascending=False).head(6).index.tolist()\n",
    "    \n",
    "    # Crear matriz de flujos\n",
    "    df_flujos = df_completo[\n",
    "        (df_completo[\"Subregion exportadora\"].isin(top6_exp)) &\n",
    "        (df_completo[\"Subregion importadora\"].isin(top6_imp))\n",
    "    ]\n",
    "    \n",
    "    matriz_flujos = pd.crosstab(\n",
    "        df_flujos[\"Subregion exportadora\"],\n",
    "        df_flujos[\"Subregion importadora\"],\n",
    "        normalize='index'\n",
    "    ).fillna(0)\n",
    "    \n",
    "    # Crear heatmap con anotaciones mejoradas\n",
    "    fig2 = go.Figure(data=go.Heatmap(\n",
    "        z=matriz_flujos.values,\n",
    "        x=[name[:15] + \"...\" if len(name) > 18 else name for name in matriz_flujos.columns],\n",
    "        y=[name[:15] + \"...\" if len(name) > 18 else name for name in matriz_flujos.index],\n",
    "        colorscale='RdYlBu_r',\n",
    "        text=[[f\"{val:.0%}\" if val >= 0.05 else \"\" for val in row] for row in matriz_flujos.values],\n",
    "        texttemplate=\"%{text}\",\n",
    "        textfont={\"size\": 10, \"color\": \"white\"},\n",
    "        hovertemplate=\"<b>%{y} → %{x}</b><br>%{z:.1%} del flujo exportador<extra></extra>\",\n",
    "        colorbar=dict(\n",
    "            title=\"% Flujo\",\n",
    "            titlefont=dict(size=12),\n",
    "            tickformat=\".0%\"\n",
    "        )\n",
    "    ))\n",
    "    \n",
    "    fig2.update_layout(\n",
    "        title=\"<b>Corredores Comerciales Subregionales</b><br><span style='font-size:12px'>Principales rutas de exportación (Top 6×6)</span>\",\n",
    "        xaxis_title=\"Subregión Importadora\",\n",
    "        yaxis_title=\"Subregión Exportadora\",\n",
    "        height=500,\n",
    "        template=\"slide_template\"\n",
    "    )\n",
    "    \n",
    "    fig2.update_xaxes(tickangle=45)\n",
    "    fig2.update_yaxes(tickangle=0)\n",
    "    \n",
    "    fig2.show()\n",
    "    \n",
    "    # =============================================================================\n",
    "    # GRÁFICO 3: ANÁLISIS DE CONCENTRACIÓN Y DIVERSIFICACIÓN\n",
    "    # =============================================================================\n",
    "    \n",
    "    # Calcular métricas de concentración\n",
    "    concentracion_top3_freq = top_subreg_exp_freq.head(3).sum() / freq_subreg_exp.sum() * 100\n",
    "    concentracion_top5_freq = top_subreg_exp_freq.head(5).sum() / freq_subreg_exp.sum() * 100\n",
    "    concentracion_top10_freq = top_subreg_exp_freq.head(10).sum() / freq_subreg_exp.sum() * 100\n",
    "    \n",
    "    concentracion_top3_vol = top_subreg_exp_vol.head(3).sum() / vol_subreg_exp.sum() * 100\n",
    "    concentracion_top5_vol = top_subreg_exp_vol.head(5).sum() / vol_subreg_exp.sum() * 100\n",
    "    concentracion_top10_vol = top_subreg_exp_vol.head(10).sum() / vol_subreg_exp.sum() * 100\n",
    "    \n",
    "    # Crear gráfico de concentración\n",
    "    fig3 = go.Figure()\n",
    "    \n",
    "    ranks = [\"Top 3\", \"Top 5\", \"Top 10\"]\n",
    "    freq_concentracion = [concentracion_top3_freq, concentracion_top5_freq, concentracion_top10_freq]\n",
    "    vol_concentracion = [concentracion_top3_vol, concentracion_top5_vol, concentracion_top10_vol]\n",
    "    \n",
    "    fig3.add_trace(go.Scatter(\n",
    "        x=ranks,\n",
    "        y=freq_concentracion,\n",
    "        mode='lines+markers+text',\n",
    "        name='Transacciones',\n",
    "        line=dict(color=SLIDE_COLORS[\"primary\"], width=3),\n",
    "        marker=dict(size=10),\n",
    "        text=[f\"{x:.1f}%\" for x in freq_concentracion],\n",
    "        textposition=\"top center\",\n",
    "        hovertemplate=\"<b>%{x}</b><br>Concentración: %{y:.1f}%<extra></extra>\"\n",
    "    ))\n",
    "    \n",
    "    fig3.add_trace(go.Scatter(\n",
    "        x=ranks,\n",
    "        y=vol_concentracion,\n",
    "        mode='lines+markers+text',\n",
    "        name='Volumen',\n",
    "        line=dict(color=SLIDE_COLORS[\"secondary\"], width=3),\n",
    "        marker=dict(size=10),\n",
    "        text=[f\"{x:.1f}%\" for x in vol_concentracion],\n",
    "        textposition=\"bottom center\",\n",
    "        hovertemplate=\"<b>%{x}</b><br>Concentración: %{y:.1f}%<extra></extra>\"\n",
    "    ))\n",
    "    \n",
    "    # Líneas de referencia\n",
    "    fig3.add_hline(y=50, line_dash=\"dash\", line_color=\"gray\", \n",
    "                   annotation_text=\"50% - Concentración Moderada\")\n",
    "    fig3.add_hline(y=75, line_dash=\"dash\", line_color=\"red\", \n",
    "                   annotation_text=\"75% - Alta Concentración\")\n",
    "    \n",
    "    fig3.update_layout(\n",
    "        title=\"<b>Análisis de Concentración Subregional</b><br><span style='font-size:12px'>% del total concentrado en top subregiones</span>\",\n",
    "        xaxis_title=\"Ranking\",\n",
    "        yaxis_title=\"% Concentración\",\n",
    "        height=400,\n",
    "        template=\"slide_template\",\n",
    "        yaxis=dict(range=[0, 100])\n",
    "    )\n",
    "    \n",
    "    fig3.show()\n",
    "    \n",
    "    # =============================================================================\n",
    "    # INSIGHTS SUBREGIONALES EJECUTIVOS\n",
    "    # =============================================================================\n",
    "    \n",
    "    print(\"\\n🎯 INSIGHTS SUBREGIONALES CLAVE:\")\n",
    "    print(\"─\" * 50)\n",
    "    \n",
    "    # Liderazgo subregional\n",
    "    lider_subreg_freq = top_subreg_exp_freq.index[0]\n",
    "    lider_subreg_vol = top_subreg_exp_vol.index[0]\n",
    "    \n",
    "    print(f\"1. LIDERAZGO SUBREGIONAL:\")\n",
    "    print(f\"   • Líder en transacciones: {lider_subreg_freq}\")\n",
    "    print(f\"     Participación: {top_subreg_exp_freq.iloc[0] / freq_subreg_exp.sum() * 100:.1f}%\")\n",
    "    print(f\"   • Líder en volumen: {lider_subreg_vol}\")\n",
    "    print(f\"     Participación: {top_subreg_exp_vol.iloc[0] / vol_subreg_exp.sum() * 100:.1f}%\")\n",
    "    \n",
    "    # Subregiones duales (líderes en ambos)\n",
    "    print(f\"\\n2. SUBREGIONES ESTRATÉGICAS:\")\n",
    "    print(f\"   • Líderes duales: {len(subregiones_duales)} subregiones\")\n",
    "    for subreg in list(subregiones_duales)[:3]:  # Top 3\n",
    "        print(f\"     - {subreg}\")\n",
    "    \n",
    "    # Concentración y riesgo\n",
    "    print(f\"\\n3. CONCENTRACIÓN Y RIESGO:\")\n",
    "    print(f\"   • Top 3 subregiones: {concentracion_top3_freq:.1f}% transacciones, {concentracion_top3_vol:.1f}% volumen\")\n",
    "    \n",
    "    if concentracion_top3_freq > 60:\n",
    "        nivel_riesgo = \"🔴 ALTO\"\n",
    "        recomendacion = \"Diversificar proveedores\"\n",
    "    elif concentracion_top3_freq > 40:\n",
    "        nivel_riesgo = \"🟡 MODERADO\"\n",
    "        recomendacion = \"Monitorear dependencias\"\n",
    "    else:\n",
    "        nivel_riesgo = \"🟢 BAJO\"\n",
    "        recomendacion = \"Mantener diversificación\"\n",
    "    \n",
    "    print(f\"   • Nivel de riesgo: {nivel_riesgo}\")\n",
    "    print(f\"   • Recomendación: {recomendacion}\")\n",
    "    \n",
    "    # Identificar flujos críticos\n",
    "    flujos_criticos = []\n",
    "    for i, exp in enumerate(matriz_flujos.index):\n",
    "        for j, imp in enumerate(matriz_flujos.columns):\n",
    "            if matriz_flujos.iloc[i, j] > 0.15:  # Flujos > 15%\n",
    "                flujos_criticos.append((exp, imp, matriz_flujos.iloc[i, j]))\n",
    "    \n",
    "    flujos_criticos.sort(key=lambda x: x[2], reverse=True)\n",
    "    \n",
    "    print(f\"\\n4. CORREDORES CRÍTICOS:\")\n",
    "    for i, (exp, imp, flujo) in enumerate(flujos_criticos[:3], 1):\n",
    "        print(f\"   {i}. {exp[:20]}... → {imp[:20]}... ({flujo:.0%})\")\n",
    "    \n",
    "    return {\n",
    "        \"top_subregiones_freq\": top_subreg_exp_freq,\n",
    "        \"top_subregiones_vol\": top_subreg_exp_vol,\n",
    "        \"subregiones_duales\": subregiones_duales,\n",
    "        \"matriz_flujos\": matriz_flujos,\n",
    "        \"concentracion\": {\n",
    "            \"top3_freq\": concentracion_top3_freq,\n",
    "            \"top3_vol\": concentracion_top3_vol,\n",
    "            \"nivel_riesgo\": nivel_riesgo\n",
    "        },\n",
    "        \"flujos_criticos\": flujos_criticos[:5]\n",
    "    }\n",
    "\n",
    "# Generar dashboard subregional optimizado\n",
    "print(\"🎯 Generando Dashboard Subregional Optimizado para Diapositivas...\")\n",
    "subregiones_metrics = crear_dashboard_subregiones_slides(datasets_analisis)"
   ]
  },
  {
   "cell_type": "markdown",
   "id": "34fdb7c2",
   "metadata": {},
   "source": [
    "## INTERPRETACIÓN DEL ANÁLISIS SUBREGIONAL\n",
    "\n",
    "### Valor Estratégico del Dashboard 2.1\n",
    "\n",
    "El análisis granular de subregiones revela **patrones comerciales críticos** no visibles en el análisis regional tradicional:\n",
    "\n",
    "#### Hallazgos Principales:\n",
    "\n",
    "1. **Divergencia de Liderazgo**: África Subsahariana lidera en frecuencia (31.6%) mientras Sudeste Asiático domina en volumen (34.1%)\n",
    "   - **Implicación**: Diferentes estrategias comerciales - África: muchas transacciones pequeñas, Asia: pocas transacciones grandes\n",
    "\n",
    "2. **Concentración Estratégica**: Top 3 subregiones controlan 78.3% del volumen vs 59.7% de transacciones\n",
    "   - **Riesgo**: Alta vulnerabilidad ante disrupciones en subregiones clave\n",
    "   - **Oportunidad**: Eficiencia logística concentrada\n",
    "\n",
    "3. **Corredores Comerciales Específicos**: Identificación de 5 rutas subregionales críticas\n",
    "   - **Aplicación**: Optimización de políticas CITES por corredor específico\n",
    "   - **Monitoreo**: Alertas tempranas por subregión\n",
    "\n",
    "#### Justificación para Inclusión:\n",
    "\n",
    "- **Granularidad Operativa**: Permite intervenciones específicas por subregión\n",
    "- **Detección de Anomalías**: Identifica patrones inusuales ocultos en agregaciones regionales  \n",
    "- **Planificación Estratégica**: Facilita asignación de recursos y priorización geográfica\n",
    "- **Cumplimiento CITES**: Mejora el monitoreo y control por jurisdicciones específicas\n",
    "\n",
    "### Recomendación Metodológica:\n",
    "Incluir este análisis subregional como **estándar** en reportes ejecutivos CITES para maximizar efectividad de políticas de conservación."
   ]
  },
  {
   "cell_type": "code",
   "execution_count": null,
   "id": "2419379c",
   "metadata": {},
   "outputs": [
    {
     "name": "stdout",
     "output_type": "stream",
     "text": [
      "DASHBOARD DE CORRELACIONES: ANÁLISIS DE FLUJOS Y PATRONES\n",
      "============================================================\n",
      "\n",
      "--- ANÁLISIS DE FRECUENCIA ---\n"
     ]
    },
    {
     "data": {
      "image/png": "[encoded data removed]",
      "text/plain": [
       "<Figure size 2000x1600 with 8 Axes>"
      ]
     },
     "metadata": {},
     "output_type": "display_data"
    },
    {
     "name": "stdout",
     "output_type": "stream",
     "text": [
      "\n",
      "--- ANÁLISIS DE VOLUMEN ---\n"
     ]
    },
    {
     "data": {
      "image/png": "[encoded data removed]",
      "text/plain": [
       "<Figure size 2000x1600 with 8 Axes>"
      ]
     },
     "metadata": {},
     "output_type": "display_data"
    },
    {
     "name": "stdout",
     "output_type": "stream",
     "text": [
      "\\nINSIGHT 1 - PATRONES DE EXPORTACIÓN POR CLASE:\n",
      "- Anfibios: 44.8% concentrado en Americas\n",
      "- Aves: 39.2% concentrado en Europe\n",
      "- Mamíferos: 49.6% concentrado en Africa\n",
      "- Reptiles: 33.8% concentrado en Africa\n",
      "\\nINSIGHT 2 - FLUJOS COMERCIALES DOMINANTES:\n",
      "- Flujo 1: Europe → Asia (49.2%)\n",
      "- Flujo 2: Africa → Europe (39.4%)\n",
      "- Flujo 3: Americas → Europe (37.2%)\n",
      "\\nINSIGHT 3 - DIVERGENCIAS VOLUMEN vs FRECUENCIA:\n",
      "- Oceania → Asia: mayor volumen relativo que frecuencia (+0.31)\n",
      "- Oceania → Americas: menor volumen relativo que frecuencia (-0.16)\n",
      "- Europe → Asia: mayor volumen relativo que frecuencia (+0.14)\n"
     ]
    }
   ],
   "source": [
    "# =====================================================================================\n",
    "# DASHBOARD 3: ANÁLISIS DE PATRONES COMERCIALES PARA DIAPOSITIVAS\n",
    "# =====================================================================================\n",
    "\n",
    "def crear_dashboard_patrones_slides(datasets_analisis):\n",
    "    \"\"\"\n",
    "    Dashboard de patrones comerciales optimizado: foco en correlaciones y flujos críticos\n",
    "    \"\"\"\n",
    "    \n",
    "    df_completo = datasets_analisis[\"df_completo\"]\n",
    "    df_volumen = datasets_analisis[\"df_volumen\"]\n",
    "    \n",
    "    print(\"🔍 ANÁLISIS DE PATRONES: CORRELACIONES Y FLUJOS CRÍTICOS\")\n",
    "    print(\"=\" * 60)\n",
    "    \n",
    "    # =============================================================================\n",
    "    # GRÁFICO 1: PERFIL COMERCIAL POR CLASE DE FAUNA\n",
    "    # =============================================================================\n",
    "    \n",
    "    # Analizar qué clases de fauna se comercializan más\n",
    "    clase_freq = df_completo[\"Clase\"].value_counts()\n",
    "    clase_vol = df_volumen.groupby(\"Clase\")[\"Cantidad\"].sum().sort_values(ascending=False)\n",
    "    \n",
    "    # Crear tabla de exportación por clase y región\n",
    "    clase_region_exp = pd.crosstab(df_completo[\"Clase\"], df_completo[\"Region exportadora\"], normalize=\"index\")\n",
    "    \n",
    "    fig1 = make_subplots(\n",
    "        rows=2, cols=2,\n",
    "        subplot_titles=(\n",
    "            \"📊 Transacciones por Clase\", \n",
    "            \"📦 Volumen por Clase\",\n",
    "            \"🌍 Perfil Regional de Exportación por Clase\",\n",
    "            \"⚡ Eficiencia Comercial por Clase\"\n",
    "        ),\n",
    "        specs=[\n",
    "            [{\"type\": \"bar\"}, {\"type\": \"bar\"}],\n",
    "            [{\"type\": \"bar\"}, {\"type\": \"scatter\"}]\n",
    "        ],\n",
    "        vertical_spacing=0.12,\n",
    "        horizontal_spacing=0.12\n",
    "    )\n",
    "    \n",
    "    # Gráfico 1: Transacciones por clase\n",
    "    fig1.add_trace(\n",
    "        go.Bar(\n",
    "            x=clase_freq.values,\n",
    "            y=clase_freq.index,\n",
    "            orientation='h',\n",
    "            marker_color=SLIDE_COLORS[\"primary\"],\n",
    "            text=[format_number(x) for x in clase_freq.values],\n",
    "            textposition=\"outside\",\n",
    "            name=\"Transacciones\",\n",
    "            hovertemplate=\"<b>%{y}</b><br>Transacciones: %{x:,.0f}<extra></extra>\"\n",
    "        ),\n",
    "        row=1, col=1\n",
    "    )\n",
    "    \n",
    "    # Gráfico 2: Volumen por clase\n",
    "    fig1.add_trace(\n",
    "        go.Bar(\n",
    "            x=clase_vol.values,\n",
    "            y=clase_vol.index,\n",
    "            orientation='h',\n",
    "            marker_color=SLIDE_COLORS[\"secondary\"],\n",
    "            text=[format_number(x) for x in clase_vol.values],\n",
    "            textposition=\"outside\",\n",
    "            name=\"Volumen\",\n",
    "            hovertemplate=\"<b>%{y}</b><br>Ejemplares: %{x:,.0f}<extra></extra>\"\n",
    "        ),\n",
    "        row=1, col=2\n",
    "    )\n",
    "    \n",
    "    # Gráfico 3: Perfil regional - mostrar solo la región dominante por clase\n",
    "    regiones_principales = []\n",
    "    for clase in clase_region_exp.index:\n",
    "        region_principal = clase_region_exp.loc[clase].idxmax()\n",
    "        porcentaje = clase_region_exp.loc[clase, region_principal] * 100\n",
    "        regiones_principales.append(porcentaje)\n",
    "    \n",
    "    fig1.add_trace(\n",
    "        go.Bar(\n",
    "            x=regiones_principales,\n",
    "            y=clase_region_exp.index,\n",
    "            orientation='h',\n",
    "            marker_color=SLIDE_COLORS[\"accent\"],\n",
    "            text=[f\"{x:.0f}%\" for x in regiones_principales],\n",
    "            textposition=\"outside\",\n",
    "            name=\"% Región Principal\",\n",
    "            hovertemplate=\"<b>%{y}</b><br>Concentración: %{x:.1f}%<extra></extra>\"\n",
    "        ),\n",
    "        row=2, col=1\n",
    "    )\n",
    "    \n",
    "    # Gráfico 4: Eficiencia comercial (volumen/transacciones)\n",
    "    eficiencia_clase = []\n",
    "    for clase in clase_freq.index:\n",
    "        if clase in clase_vol.index:\n",
    "            vol_promedio = clase_vol[clase] / clase_freq[clase] if clase_freq[clase] > 0 else 0\n",
    "            eficiencia_clase.append(vol_promedio)\n",
    "        else:\n",
    "            eficiencia_clase.append(0)\n",
    "    \n",
    "    fig1.add_trace(\n",
    "        go.Scatter(\n",
    "            x=clase_freq.values,\n",
    "            y=eficiencia_clase,\n",
    "            mode='markers+text',\n",
    "            text=clase_freq.index,\n",
    "            textposition=\"top center\",\n",
    "            marker=dict(\n",
    "                size=[15 + np.log10(x+1)*3 for x in clase_freq.values],\n",
    "                color=eficiencia_clase,\n",
    "                colorscale='Viridis',\n",
    "                showscale=True,\n",
    "                colorbar=dict(title=\"Ejemplares<br>por Trans.\")\n",
    "            ),\n",
    "            name=\"Eficiencia\",\n",
    "            hovertemplate=\"<b>%{text}</b><br>Transacciones: %{x:,.0f}<br>Eficiencia: %{y:.1f}<extra></extra>\"\n",
    "        ),\n",
    "        row=2, col=2\n",
    "    )\n",
    "    \n",
    "    fig1.update_layout(\n",
    "        title=\"<b>Análisis Comercial por Clase de Fauna</b>\",\n",
    "        height=700,\n",
    "        showlegend=False,\n",
    "        template=\"slide_template\"\n",
    "    )\n",
    "    \n",
    "    # Actualizar ejes\n",
    "    fig1.update_xaxes(title_text=\"N° Transacciones\", row=1, col=1)\n",
    "    fig1.update_xaxes(title_text=\"Ejemplares\", row=1, col=2)\n",
    "    fig1.update_xaxes(title_text=\"% Concentración\", row=2, col=1)\n",
    "    fig1.update_xaxes(title_text=\"N° Transacciones\", row=2, col=2)\n",
    "    fig1.update_yaxes(title_text=\"Ejemplares/Trans\", row=2, col=2)\n",
    "    \n",
    "    fig1.show()\n",
    "    \n",
    "    # =============================================================================\n",
    "    # GRÁFICO 2: MATRIZ DE FLUJOS REGIONALES SIMPLIFICADA\n",
    "    # =============================================================================\n",
    "    \n",
    "    # Crear matriz de flujos solo para regiones principales\n",
    "    regiones_principales = df_completo[\"Region exportadora\"].value_counts().head(4).index.tolist()\n",
    "    regiones_imp_principales = df_completo[\"Region importadora\"].value_counts().head(4).index.tolist()\n",
    "    \n",
    "    df_flujos_regionales = df_completo[\n",
    "        (df_completo[\"Region exportadora\"].isin(regiones_principales)) &\n",
    "        (df_completo[\"Region importadora\"].isin(regiones_imp_principales))\n",
    "    ]\n",
    "    \n",
    "    matriz_regional = pd.crosstab(\n",
    "        df_flujos_regionales[\"Region exportadora\"],\n",
    "        df_flujos_regionales[\"Region importadora\"],\n",
    "        normalize='index'\n",
    "    ).fillna(0)\n",
    "    \n",
    "    # Identificar flujos más significativos\n",
    "    flujos_significativos = []\n",
    "    for i, exp in enumerate(matriz_regional.index):\n",
    "        for j, imp in enumerate(matriz_regional.columns):\n",
    "            if exp != imp and matriz_regional.iloc[i, j] > 0.1:  # Flujos > 10%\n",
    "                flujos_significativos.append((exp, imp, matriz_regional.iloc[i, j]))\n",
    "    \n",
    "    fig2 = go.Figure(data=go.Heatmap(\n",
    "        z=matriz_regional.values,\n",
    "        x=matriz_regional.columns,\n",
    "        y=matriz_regional.index,\n",
    "        colorscale='RdYlBu_r',\n",
    "        text=[[f\"{val:.0%}\" if val >= 0.08 else \"\" for val in row] for row in matriz_regional.values],\n",
    "        texttemplate=\"%{text}\",\n",
    "        textfont={\"size\": 12, \"color\": \"white\"},\n",
    "        hovertemplate=\"<b>%{y} → %{x}</b><br>%{z:.1%} del comercio exportador<extra></extra>\",\n",
    "        colorbar=dict(\n",
    "            title=\"% Flujo<br>Comercial\",\n",
    "            titlefont=dict(size=12),\n",
    "            tickformat=\".0%\"\n",
    "        )\n",
    "    ))\n",
    "    \n",
    "    fig2.update_layout(\n",
    "        title=\"<b>Matriz de Flujos Comerciales Principales</b><br><span style='font-size:12px'>Top 4 Regiones Exportadoras vs Importadoras</span>\",\n",
    "        xaxis_title=\"Región Importadora\",\n",
    "        yaxis_title=\"Región Exportadora\",\n",
    "        height=400,\n",
    "        template=\"slide_template\"\n",
    "    )\n",
    "    \n",
    "    fig2.show()\n",
    "    \n",
    "    # =============================================================================\n",
    "    # GRÁFICO 3: ANÁLISIS TEMPORAL DE PATRONES\n",
    "    # =============================================================================\n",
    "    \n",
    "    # Analizar evolución de las principales clases de fauna\n",
    "    principales_clases = clase_freq.head(3).index.tolist()\n",
    "    \n",
    "    fig3 = go.Figure()\n",
    "    \n",
    "    for i, clase in enumerate(principales_clases):\n",
    "        datos_clase = df_completo[df_completo[\"Clase\"] == clase].groupby(\"Año\").size()\n",
    "        \n",
    "        fig3.add_trace(go.Scatter(\n",
    "            x=datos_clase.index,\n",
    "            y=datos_clase.values,\n",
    "            mode='lines+markers',\n",
    "            name=clase,\n",
    "            line=dict(width=3, color=[SLIDE_COLORS[\"primary\"], SLIDE_COLORS[\"secondary\"], SLIDE_COLORS[\"accent\"]][i]),\n",
    "            marker=dict(size=6),\n",
    "            hovertemplate=f\"<b>{clase}</b><br>Año: %{{x}}<br>Transacciones: %{{y:,.0f}}<extra></extra>\"\n",
    "        ))\n",
    "    \n",
    "    fig3.update_layout(\n",
    "        title=\"<b>Evolución Temporal por Clase de Fauna</b><br><span style='font-size:12px'>Top 3 clases más comercializadas</span>\",\n",
    "        xaxis_title=\"Año\",\n",
    "        yaxis_title=\"N° Transacciones\",\n",
    "        height=400,\n",
    "        template=\"slide_template\",\n",
    "        legend=dict(\n",
    "            orientation=\"h\",\n",
    "            yanchor=\"bottom\",\n",
    "            y=1.02,\n",
    "            xanchor=\"right\",\n",
    "            x=1\n",
    "        )\n",
    "    )\n",
    "    \n",
    "    fig3.show()\n",
    "    \n",
    "    # =============================================================================\n",
    "    # INSIGHTS DE PATRONES COMERCIALES\n",
    "    # =============================================================================\n",
    "    \n",
    "    print(\"\\n🎯 INSIGHTS DE PATRONES COMERCIALES:\")\n",
    "    print(\"─\" * 50)\n",
    "    \n",
    "    # Clase dominante\n",
    "    clase_dominante = clase_freq.index[0]\n",
    "    dominancia_clase = (clase_freq.iloc[0] / clase_freq.sum()) * 100\n",
    "    \n",
    "    print(f\"1. DOMINANCIA POR CLASE:\")\n",
    "    print(f\"   • Clase dominante: {clase_dominante}\")\n",
    "    print(f\"   • Participación: {dominancia_clase:.1f}% de transacciones\")\n",
    "    \n",
    "    # Eficiencia por clase\n",
    "    clase_mas_eficiente = clase_freq.index[np.argmax(eficiencia_clase)]\n",
    "    eficiencia_max = max(eficiencia_clase)\n",
    "    \n",
    "    print(f\"\\n2. EFICIENCIA COMERCIAL:\")\n",
    "    print(f\"   • Clase más eficiente: {clase_mas_eficiente}\")\n",
    "    print(f\"   • Ejemplares por transacción: {eficiencia_max:.1f}\")\n",
    "    \n",
    "    # Concentración regional por clase\n",
    "    region_mas_concentrada = None\n",
    "    concentracion_max = 0\n",
    "    for clase in clase_region_exp.index:\n",
    "        concentracion = clase_region_exp.loc[clase].max() * 100\n",
    "        if concentracion > concentracion_max:\n",
    "            concentracion_max = concentracion\n",
    "            region_mas_concentrada = clase_region_exp.loc[clase].idxmax()\n",
    "            clase_mas_concentrada = clase\n",
    "    \n",
    "    print(f\"\\n3. CONCENTRACIÓN GEOGRÁFICA:\")\n",
    "    print(f\"   • Patrón más concentrado: {clase_mas_concentrada}\")\n",
    "    print(f\"   • Región dominante: {region_mas_concentrada} ({concentracion_max:.1f}%)\")\n",
    "    \n",
    "    # Flujos críticos\n",
    "    flujos_significativos.sort(key=lambda x: x[2], reverse=True)\n",
    "    \n",
    "    print(f\"\\n4. CORREDORES REGIONALES CRÍTICOS:\")\n",
    "    for i, (exp, imp, flujo) in enumerate(flujos_significativos[:3], 1):\n",
    "        print(f\"   {i}. {exp} → {imp} ({flujo:.0%})\")\n",
    "    \n",
    "    return {\n",
    "        \"clase_freq\": clase_freq,\n",
    "        \"clase_vol\": clase_vol,\n",
    "        \"eficiencia_clase\": dict(zip(clase_freq.index, eficiencia_clase)),\n",
    "        \"matriz_regional\": matriz_regional,\n",
    "        \"flujos_significativos\": flujos_significativos,\n",
    "        \"clase_dominante\": clase_dominante,\n",
    "        \"dominancia_pct\": dominancia_clase\n",
    "    }\n",
    "\n",
    "# Generar dashboard de patrones optimizado\n",
    "print(\"🔍 Generando Dashboard de Patrones Optimizado para Diapositivas...\")\n",
    "patrones_metrics = crear_dashboard_patrones_slides(datasets_analisis)"
   ]
  },
  {
   "cell_type": "code",
   "execution_count": null,
   "id": "52511eb6",
   "metadata": {},
   "outputs": [
    {
     "name": "stdout",
     "output_type": "stream",
     "text": [
      "DASHBOARD DE ESPECIES: FRECUENCIA vs VOLUMEN\n",
      "==================================================\n"
     ]
    },
    {
     "data": {
      "application/vnd.plotly.v1+json": {
       "config": {
        "plotlyServerURL": "https://plot.ly"
       },
       "data": [
        {
         "domain": {
          "x": [
           0,
           1
          ],
          "y": [
           0,
           1
          ]
         },
         "hovertemplate": "label=%{label}<br>value=%{value}<extra></extra>",
         "labels": [
          "Reptiles",
          "Aves",
          "Mamíferos",
          "Anfibios"
         ],
         "legendgroup": "",
         "name": "",
         "showlegend": true,
         "type": "pie",
         "values": {
          "bdata": "CBkRAJXZDwAQ/AcAOPQBAA==",
          "dtype": "i4"
         }
        }
       ],
       "layout": {
        "height": 400,
        "legend": {
         "tracegroupgap": 0
        },
        "template": {
         "layout": {
          "colorway": [
           "#1f77b4",
           "#ff7f0e",
           "#2ca02c",
           "#d62728",
           "#9467bd",
           "#8c564b"
          ],
          "font": {
           "family": "Arial, sans-serif",
           "size": 12
          },
          "paper_bgcolor": "white",
          "plot_bgcolor": "white"
         }
        },
        "title": {
         "text": "Distribución de Transacciones por Clase de Fauna"
        }
       }
      }
     },
     "metadata": {},
     "output_type": "display_data"
    },
    {
     "data": {
      "application/vnd.plotly.v1+json": {
       "config": {
        "plotlyServerURL": "https://plot.ly"
       },
       "data": [
        {
         "domain": {
          "x": [
           0,
           1
          ],
          "y": [
           0,
           1
          ]
         },
         "hovertemplate": "label=%{label}<br>value=%{value}<extra></extra>",
         "labels": [
          "Reptiles",
          "Aves",
          "Mamíferos",
          "Anfibios"
         ],
         "legendgroup": "",
         "name": "",
         "showlegend": true,
         "type": "pie",
         "values": {
          "bdata": "FK5H71VOk0EzMzNDCX5lQUa28x1NklhB5/upMVfKLEE=",
          "dtype": "f8"
         }
        }
       ],
       "layout": {
        "height": 400,
        "legend": {
         "tracegroupgap": 0
        },
        "template": {
         "layout": {
          "colorway": [
           "#1f77b4",
           "#ff7f0e",
           "#2ca02c",
           "#d62728",
           "#9467bd",
           "#8c564b"
          ],
          "font": {
           "family": "Arial, sans-serif",
           "size": 12
          },
          "paper_bgcolor": "white",
          "plot_bgcolor": "white"
         }
        },
        "title": {
         "text": "Distribución de Volumen por Clase de Fauna"
        }
       }
      }
     },
     "metadata": {},
     "output_type": "display_data"
    },
    {
     "name": "stdout",
     "output_type": "stream",
     "text": [
      "\n",
      "INSIGHT 1 - CLASES DE FAUNA:\n",
      "- Clase dominante en frecuencia: Reptiles (39.9%)\n",
      "- Clase dominante en volumen: Reptiles (81.3%)\n"
     ]
    },
    {
     "data": {
      "application/vnd.plotly.v1+json": {
       "config": {
        "plotlyServerURL": "https://plot.ly"
       },
       "data": [
        {
         "hovertemplate": "Número de Transacciones=%{x}<br>Especie=%{y}<extra></extra>",
         "legendgroup": "",
         "marker": {
          "color": "#1f77b4",
          "pattern": {
           "shape": ""
          }
         },
         "name": "",
         "orientation": "h",
         "showlegend": false,
         "textposition": "auto",
         "type": "bar",
         "x": {
          "bdata": "oI0AAAB5AAAocwAAqG0AAKZqAADgaQAAaGUAAIheAACgVgAAoFYAAOBTAACwTQAAsE0AAFhNAAAATQAA",
          "dtype": "i4"
         },
         "xaxis": "x",
         "y": [
          "Crocodylus niloticus",
          "Python regius",
          "Boa constrictor",
          "Panthera leo",
          "Psittacus erithacus",
          "Loxodonta africana",
          "Ara ararauna",
          "Hippopotamus amphibius",
          "Centrochelys sulcata",
          "Stigmochelys pardalis",
          "Iguana iguana",
          "Malayopython reticulatus",
          "Canis lupus",
          "Amazona aestiva",
          "Chelonoidis carbonarius"
         ],
         "yaxis": "y"
        }
       ],
       "layout": {
        "barmode": "relative",
        "height": 500,
        "legend": {
         "tracegroupgap": 0
        },
        "template": {
         "layout": {
          "colorway": [
           "#1f77b4",
           "#ff7f0e",
           "#2ca02c",
           "#d62728",
           "#9467bd",
           "#8c564b"
          ],
          "font": {
           "family": "Arial, sans-serif",
           "size": 12
          },
          "paper_bgcolor": "white",
          "plot_bgcolor": "white"
         }
        },
        "title": {
         "text": "Top 15 Especies por Frecuencia de Transacciones"
        },
        "xaxis": {
         "anchor": "y",
         "domain": [
          0,
          1
         ],
         "title": {
          "text": "Número de Transacciones"
         }
        },
        "yaxis": {
         "anchor": "x",
         "domain": [
          0,
          1
         ],
         "title": {
          "text": "Especie"
         }
        }
       }
      }
     },
     "metadata": {},
     "output_type": "display_data"
    },
    {
     "data": {
      "application/vnd.plotly.v1+json": {
       "config": {
        "plotlyServerURL": "https://plot.ly"
       },
       "data": [
        {
         "hovertemplate": "Ejemplares=%{x}<br>Especie=%{y}<extra></extra>",
         "legendgroup": "",
         "marker": {
          "color": "#1f77b4",
          "pattern": {
           "shape": ""
          }
         },
         "name": "",
         "orientation": "h",
         "showlegend": false,
         "textposition": "auto",
         "type": "bar",
         "x": {
          "bdata": "pHA9OuzQYkEAAACAId1gQQAAAICt6lxBAAAAgCWWWkEAAACAXtJPQQAAAAC/ekxBAAAAoJPPSkGamZmZr11DQQAAAACU8kJBAAAAANvsQkFmZmbmORFBQQAAAAD++z1BAAAAwAelPEEAAAAA/6c6QQAAAABjbDlB",
          "dtype": "f8"
         },
         "xaxis": "x",
         "y": [
          "Varanus salvator",
          "Iguana iguana",
          "Alligator mississippiensis",
          "Malayopython reticulatus",
          "Gekko gecko",
          "Podocnemis unifilis",
          "Crocodylus niloticus",
          "Salvator merianae",
          "Python bivittatus",
          "Python regius",
          "Salvator rufescens",
          "Graptemys pseudogeographica",
          "Crocodylus siamensis",
          "Agapornis fischeri",
          "Varanus niloticus"
         ],
         "yaxis": "y"
        }
       ],
       "layout": {
        "barmode": "relative",
        "height": 500,
        "legend": {
         "tracegroupgap": 0
        },
        "template": {
         "layout": {
          "colorway": [
           "#1f77b4",
           "#ff7f0e",
           "#2ca02c",
           "#d62728",
           "#9467bd",
           "#8c564b"
          ],
          "font": {
           "family": "Arial, sans-serif",
           "size": 12
          },
          "paper_bgcolor": "white",
          "plot_bgcolor": "white"
         }
        },
        "title": {
         "text": "Top 15 Especies por Volumen Comercializado"
        },
        "xaxis": {
         "anchor": "y",
         "domain": [
          0,
          1
         ],
         "title": {
          "text": "Ejemplares"
         }
        },
        "yaxis": {
         "anchor": "x",
         "domain": [
          0,
          1
         ],
         "title": {
          "text": "Especie"
         }
        }
       }
      }
     },
     "metadata": {},
     "output_type": "display_data"
    },
    {
     "name": "stdout",
     "output_type": "stream",
     "text": [
      "\n",
      "INSIGHT 2 - ESPECIES MÁS COMERCIALIZADAS:\n",
      "- Especie con más transacciones: Crocodylus niloticus (36,256 transacciones)\n",
      "- Especie con mayor volumen: Varanus salvator (9,865,058 ejemplares)\n",
      "\n",
      "INSIGHT 3 - ANÁLISIS DE COINCIDENCIAS:\n",
      "- Especies en ambos top 10: 2/10\n",
      "- Porcentaje de coincidencia: 20%\n",
      "- Implicación: Patrones muy diferentes entre frecuencia y volumen\n"
     ]
    }
   ],
   "source": [
    "# =====================================================================================\n",
    "# DASHBOARD 3: ANÁLISIS DE ESPECIES - FRECUENCIA vs VOLUMEN\n",
    "# =====================================================================================\n",
    "\n",
    "\n",
    "def crear_dashboard_especies(datasets_analisis):\n",
    "    \"\"\"\n",
    "    Crea dashboard de especies comparando patrones de frecuencia vs volumen\n",
    "    \"\"\"\n",
    "\n",
    "    df_completo = datasets_analisis[\"df_completo\"]\n",
    "    df_volumen = datasets_analisis[\"df_volumen\"]\n",
    "\n",
    "    print(\"DASHBOARD DE ESPECIES: FRECUENCIA vs VOLUMEN\")\n",
    "    print(\"=\" * 50)\n",
    "\n",
    "    # Análisis por clase de fauna\n",
    "    freq_clases = df_completo[\"Clase\"].value_counts()\n",
    "    vol_clases = (\n",
    "        df_volumen.groupby(\"Clase\")[\"Cantidad\"].sum().sort_values(ascending=False)\n",
    "    )\n",
    "\n",
    "    # Gráfico 1: Distribución por clase - Frecuencia\n",
    "    fig1 = px.pie(\n",
    "        values=freq_clases.values,\n",
    "        names=freq_clases.index,\n",
    "        title=\"Distribución de Transacciones por Clase de Fauna\",\n",
    "    )\n",
    "    fig1.update_layout(height=400, template=\"corporate\")\n",
    "    fig1.show()\n",
    "\n",
    "    # Gráfico 2: Distribución por clase - Volumen\n",
    "    fig2 = px.pie(\n",
    "        values=vol_clases.values,\n",
    "        names=vol_clases.index,\n",
    "        title=\"Distribución de Volumen por Clase de Fauna\",\n",
    "    )\n",
    "    fig2.update_layout(height=400, template=\"corporate\")\n",
    "    fig2.show()\n",
    "\n",
    "    # Insight 1\n",
    "    print(\"\\nINSIGHT 1 - CLASES DE FAUNA:\")\n",
    "    print(\n",
    "        f\"- Clase dominante en frecuencia: {freq_clases.index[0]} ({freq_clases.iloc[0] / freq_clases.sum() * 100:.1f}%)\"\n",
    "    )\n",
    "    print(\n",
    "        f\"- Clase dominante en volumen: {vol_clases.index[0]} ({vol_clases.iloc[0] / vol_clases.sum() * 100:.1f}%)\"\n",
    "    )\n",
    "\n",
    "    # Top especies por frecuencia\n",
    "    freq_especies = df_completo[\"Nombre cientifico\"].value_counts().head(15)\n",
    "\n",
    "    # Top especies por volumen\n",
    "    vol_especies = (\n",
    "        df_volumen.groupby(\"Nombre cientifico\")[\"Cantidad\"]\n",
    "        .sum()\n",
    "        .sort_values(ascending=False)\n",
    "        .head(15)\n",
    "    )\n",
    "\n",
    "    # Gráfico 3: Top especies por frecuencia\n",
    "    fig3 = px.bar(\n",
    "        x=freq_especies.values,\n",
    "        y=freq_especies.index,\n",
    "        orientation=\"h\",\n",
    "        title=\"Top 15 Especies por Frecuencia de Transacciones\",\n",
    "        labels={\"x\": \"Número de Transacciones\", \"y\": \"Especie\"},\n",
    "    )\n",
    "    fig3.update_layout(height=500, template=\"corporate\")\n",
    "    fig3.show()\n",
    "\n",
    "    # Gráfico 4: Top especies por volumen\n",
    "    fig4 = px.bar(\n",
    "        x=vol_especies.values,\n",
    "        y=vol_especies.index,\n",
    "        orientation=\"h\",\n",
    "        title=\"Top 15 Especies por Volumen Comercializado\",\n",
    "        labels={\"x\": \"Ejemplares\", \"y\": \"Especie\"},\n",
    "    )\n",
    "    fig4.update_layout(height=500, template=\"corporate\")\n",
    "    fig4.show()\n",
    "\n",
    "    # Insight 2\n",
    "    print(\"\\nINSIGHT 2 - ESPECIES MÁS COMERCIALIZADAS:\")\n",
    "    print(\n",
    "        f\"- Especie con más transacciones: {freq_especies.index[0]} ({freq_especies.iloc[0]:,} transacciones)\"\n",
    "    )\n",
    "    print(\n",
    "        f\"- Especie con mayor volumen: {vol_especies.index[0]} ({vol_especies.iloc[0]:,.0f} ejemplares)\"\n",
    "    )\n",
    "\n",
    "    # Análisis de coincidencias en top 10\n",
    "    top10_freq = set(freq_especies.head(10).index)\n",
    "    top10_vol = set(vol_especies.head(10).index)\n",
    "    coincidencias = top10_freq.intersection(top10_vol)\n",
    "\n",
    "    print(\"\\nINSIGHT 3 - ANÁLISIS DE COINCIDENCIAS:\")\n",
    "    print(f\"- Especies en ambos top 10: {len(coincidencias)}/10\")\n",
    "    print(f\"- Porcentaje de coincidencia: {len(coincidencias) / 10 * 100:.0f}%\")\n",
    "    if len(coincidencias) < 5:\n",
    "        print(\"- Implicación: Patrones muy diferentes entre frecuencia y volumen\")\n",
    "    elif len(coincidencias) > 7:\n",
    "        print(\"- Implicación: Patrones similares entre frecuencia y volumen\")\n",
    "    else:\n",
    "        print(\"- Implicación: Patrones moderadamente relacionados\")\n",
    "\n",
    "    return {\n",
    "        \"freq_clases\": freq_clases,\n",
    "        \"vol_clases\": vol_clases,\n",
    "        \"freq_especies\": freq_especies,\n",
    "        \"vol_especies\": vol_especies,\n",
    "        \"coincidencias\": coincidencias,\n",
    "    }\n",
    "\n",
    "\n",
    "# Generar dashboard de especies\n",
    "especies_metrics = crear_dashboard_especies(datasets_analisis)"
   ]
  },
  {
   "cell_type": "code",
   "execution_count": null,
   "id": "1dd923a0",
   "metadata": {},
   "outputs": [
    {
     "name": "stdout",
     "output_type": "stream",
     "text": [
      "DASHBOARD DE CONSERVACIÓN\n",
      "========================================\n"
     ]
    },
    {
     "data": {
      "application/vnd.plotly.v1+json": {
       "config": {
        "plotlyServerURL": "https://plot.ly"
       },
       "data": [
        {
         "hovertemplate": "Estado de Amenaza=%{x}<br>Número de Transacciones=%{y}<extra></extra>",
         "legendgroup": "",
         "marker": {
          "color": "#1f77b4",
          "pattern": {
           "shape": ""
          }
         },
         "name": "",
         "orientation": "v",
         "showlegend": false,
         "textposition": "auto",
         "type": "bar",
         "x": [
          "No amenazada",
          "No evaluada",
          "Amenazada",
          "Extinta"
         ],
         "xaxis": "x",
         "y": {
          "bdata": "N0YWAJl5DABHIQgAzgEAAA==",
          "dtype": "i4"
         },
         "yaxis": "y"
        }
       ],
       "layout": {
        "barmode": "relative",
        "height": 400,
        "legend": {
         "tracegroupgap": 0
        },
        "template": {
         "layout": {
          "colorway": [
           "#1f77b4",
           "#ff7f0e",
           "#2ca02c",
           "#d62728",
           "#9467bd",
           "#8c564b"
          ],
          "font": {
           "family": "Arial, sans-serif",
           "size": 12
          },
          "paper_bgcolor": "white",
          "plot_bgcolor": "white"
         }
        },
        "title": {
         "text": "Distribución de Transacciones por Estado de Amenaza"
        },
        "xaxis": {
         "anchor": "y",
         "domain": [
          0,
          1
         ],
         "tickangle": -45,
         "title": {
          "text": "Estado de Amenaza"
         }
        },
        "yaxis": {
         "anchor": "x",
         "domain": [
          0,
          1
         ],
         "title": {
          "text": "Número de Transacciones"
         }
        }
       }
      }
     },
     "metadata": {},
     "output_type": "display_data"
    },
    {
     "data": {
      "application/vnd.plotly.v1+json": {
       "config": {
        "plotlyServerURL": "https://plot.ly"
       },
       "data": [
        {
         "hovertemplate": "Estado de Amenaza=%{x}<br>Ejemplares=%{y}<br>color=%{marker.color}<extra></extra>",
         "legendgroup": "",
         "marker": {
          "color": {
           "bdata": "Di2yXUmahEGwcmh71NGDQb6fGrsKVmxBAAAAAAAANUA=",
           "dtype": "f8"
          },
          "coloraxis": "coloraxis",
          "pattern": {
           "shape": ""
          }
         },
         "name": "",
         "orientation": "v",
         "showlegend": false,
         "textposition": "auto",
         "type": "bar",
         "x": [
          "No amenazada",
          "No evaluada",
          "Amenazada",
          "Extinta"
         ],
         "xaxis": "x",
         "y": {
          "bdata": "Di2yXUmahEGwcmh71NGDQb6fGrsKVmxBAAAAAAAANUA=",
          "dtype": "f8"
         },
         "yaxis": "y"
        }
       ],
       "layout": {
        "barmode": "relative",
        "coloraxis": {
         "colorbar": {
          "title": {
           "text": "color"
          }
         },
         "colorscale": [
          [
           0,
           "rgb(255,245,240)"
          ],
          [
           0.125,
           "rgb(254,224,210)"
          ],
          [
           0.25,
           "rgb(252,187,161)"
          ],
          [
           0.375,
           "rgb(252,146,114)"
          ],
          [
           0.5,
           "rgb(251,106,74)"
          ],
          [
           0.625,
           "rgb(239,59,44)"
          ],
          [
           0.75,
           "rgb(203,24,29)"
          ],
          [
           0.875,
           "rgb(165,15,21)"
          ],
          [
           1,
           "rgb(103,0,13)"
          ]
         ]
        },
        "height": 400,
        "legend": {
         "tracegroupgap": 0
        },
        "template": {
         "layout": {
          "colorway": [
           "#1f77b4",
           "#ff7f0e",
           "#2ca02c",
           "#d62728",
           "#9467bd",
           "#8c564b"
          ],
          "font": {
           "family": "Arial, sans-serif",
           "size": 12
          },
          "paper_bgcolor": "white",
          "plot_bgcolor": "white"
         }
        },
        "title": {
         "text": "Distribución de Volumen por Estado de Amenaza"
        },
        "xaxis": {
         "anchor": "y",
         "domain": [
          0,
          1
         ],
         "tickangle": -45,
         "title": {
          "text": "Estado de Amenaza"
         }
        },
        "yaxis": {
         "anchor": "x",
         "domain": [
          0,
          1
         ],
         "title": {
          "text": "Ejemplares"
         }
        }
       }
      }
     },
     "metadata": {},
     "output_type": "display_data"
    },
    {
     "name": "stdout",
     "output_type": "stream",
     "text": [
      "\n",
      "INSIGHT 1 - ESTADOS DE AMENAZA:\n",
      "- Estado más frecuente: No amenazada (1,459,767 transacciones)\n",
      "- Estado con mayor volumen: No amenazada (43,206,956 ejemplares)\n",
      "\n",
      "INSIGHT 2 - ESPECIES EN RIESGO:\n",
      "- Especies amenazadas comercializadas: 545\n",
      "- Especies en peligro comercializadas: 0\n"
     ]
    },
    {
     "data": {
      "application/vnd.plotly.v1+json": {
       "config": {
        "plotlyServerURL": "https://plot.ly"
       },
       "data": [
        {
         "domain": {
          "x": [
           0,
           0.45
          ],
          "y": [
           0,
           1
          ]
         },
         "labels": [
          "Preocupación menor",
          "Datos insuficientes",
          "Vulnerable",
          "Casi amenazada",
          "En Peligro",
          "En Peligro Crítico",
          "Extinto en estado silvestre",
          "Extinto"
         ],
         "name": "Frecuencia",
         "type": "pie",
         "values": {
          "bdata": "CkoTAJl5DADFAAUALfwCAOVIAgDtzAAAsAoAAM4BAAA=",
          "dtype": "i4"
         }
        },
        {
         "domain": {
          "x": [
           0.55,
           1
          ],
          "y": [
           0,
           1
          ]
         },
         "labels": [
          "Datos insuficientes",
          "Preocupación menor",
          "Vulnerable",
          "Casi amenazada",
          "En Peligro Crítico",
          "En Peligro",
          "Extinto en estado silvestre",
          "Extinto"
         ],
         "name": "Volumen",
         "type": "pie",
         "values": {
          "bdata": "sHJoe9TRg0FiEFhzWyuDQScxCHCAw2RBwcqhpd7uRkEAAACAkJY+Qbx0k5jr/D1BAAAAAADIakAAAAAAAAA1QA==",
          "dtype": "f8"
         }
        }
       ],
       "layout": {
        "annotations": [
         {
          "font": {
           "size": 16
          },
          "showarrow": false,
          "text": "Transacciones por Categoría IUCN",
          "x": 0.225,
          "xanchor": "center",
          "xref": "paper",
          "y": 1,
          "yanchor": "bottom",
          "yref": "paper"
         },
         {
          "font": {
           "size": 16
          },
          "showarrow": false,
          "text": "Volumen por Categoría IUCN",
          "x": 0.775,
          "xanchor": "center",
          "xref": "paper",
          "y": 1,
          "yanchor": "bottom",
          "yref": "paper"
         }
        ],
        "height": 400,
        "template": {
         "layout": {
          "colorway": [
           "#1f77b4",
           "#ff7f0e",
           "#2ca02c",
           "#d62728",
           "#9467bd",
           "#8c564b"
          ],
          "font": {
           "family": "Arial, sans-serif",
           "size": 12
          },
          "paper_bgcolor": "white",
          "plot_bgcolor": "white"
         }
        },
        "title": {
         "text": "Distribución por Categoría IUCN: Frecuencia vs Volumen"
        }
       }
      }
     },
     "metadata": {},
     "output_type": "display_data"
    },
    {
     "name": "stdout",
     "output_type": "stream",
     "text": [
      "\n",
      "INSIGHT 3 - CATEGORÍAS IUCN:\n",
      "- Categoría más frecuente: Preocupación menor (45.0%)\n",
      "- Categoría con mayor volumen: Datos insuficientes (41.7%)\n"
     ]
    }
   ],
   "source": [
    "# =====================================================================================\n",
    "# DASHBOARD 4: ANÁLISIS DE CONSERVACIÓN\n",
    "# =====================================================================================\n",
    "\n",
    "\n",
    "def crear_dashboard_conservacion(datasets_analisis):\n",
    "    \"\"\"\n",
    "    Crea dashboard de conservación analizando especies amenazadas\n",
    "    \"\"\"\n",
    "\n",
    "    df_completo = datasets_analisis[\"df_completo\"]\n",
    "    df_volumen = datasets_analisis[\"df_volumen\"]\n",
    "\n",
    "    print(\"DASHBOARD DE CONSERVACIÓN\")\n",
    "    print(\"=\" * 40)\n",
    "\n",
    "    # Análisis por estado de amenaza\n",
    "    if \"Estado amenaza\" in df_completo.columns:\n",
    "        freq_amenaza = df_completo[\"Estado amenaza\"].value_counts()\n",
    "        vol_amenaza = (\n",
    "            df_volumen.groupby(\"Estado amenaza\")[\"Cantidad\"]\n",
    "            .sum()\n",
    "            .sort_values(ascending=False)\n",
    "        )\n",
    "\n",
    "        # Gráfico 1: Estados de amenaza por frecuencia\n",
    "        fig1 = px.bar(\n",
    "            x=freq_amenaza.index,\n",
    "            y=freq_amenaza.values,\n",
    "            title=\"Distribución de Transacciones por Estado de Amenaza\",\n",
    "            labels={\"x\": \"Estado de Amenaza\", \"y\": \"Número de Transacciones\"},\n",
    "        )\n",
    "        fig1.update_layout(height=400, template=\"corporate\", xaxis_tickangle=-45)\n",
    "        fig1.show()\n",
    "\n",
    "        # Gráfico 2: Estados de amenaza por volumen\n",
    "        fig2 = px.bar(\n",
    "            x=vol_amenaza.index,\n",
    "            y=vol_amenaza.values,\n",
    "            title=\"Distribución de Volumen por Estado de Amenaza\",\n",
    "            labels={\"x\": \"Estado de Amenaza\", \"y\": \"Ejemplares\"},\n",
    "            color=vol_amenaza.values,\n",
    "            color_continuous_scale=\"Reds\",\n",
    "        )\n",
    "        fig2.update_layout(height=400, template=\"corporate\", xaxis_tickangle=-45)\n",
    "        fig2.show()\n",
    "\n",
    "        print(\"\\nINSIGHT 1 - ESTADOS DE AMENAZA:\")\n",
    "        print(\n",
    "            f\"- Estado más frecuente: {freq_amenaza.index[0]} ({freq_amenaza.iloc[0]:,} transacciones)\"\n",
    "        )\n",
    "        print(\n",
    "            f\"- Estado con mayor volumen: {vol_amenaza.index[0]} ({vol_amenaza.iloc[0]:,.0f} ejemplares)\"\n",
    "        )\n",
    "\n",
    "        # Análisis de especies amenazadas\n",
    "        especies_amenazadas = df_completo[df_completo[\"Estado amenaza\"] == \"Amenazada\"][\n",
    "            \"Nombre cientifico\"\n",
    "        ].nunique()\n",
    "        especies_peligro = df_completo[df_completo[\"Estado amenaza\"] == \"En peligro\"][\n",
    "            \"Nombre cientifico\"\n",
    "        ].nunique()\n",
    "\n",
    "        print(\"\\nINSIGHT 2 - ESPECIES EN RIESGO:\")\n",
    "        print(f\"- Especies amenazadas comercializadas: {especies_amenazadas}\")\n",
    "        print(f\"- Especies en peligro comercializadas: {especies_peligro}\")\n",
    "\n",
    "    # Análisis por categoría IUCN\n",
    "    if \"Categoria IUCN\" in df_completo.columns:\n",
    "        freq_iucn = df_completo[\"Categoria IUCN\"].value_counts().head(8)\n",
    "        vol_iucn = (\n",
    "            df_volumen.groupby(\"Categoria IUCN\")[\"Cantidad\"]\n",
    "            .sum()\n",
    "            .sort_values(ascending=False)\n",
    "            .head(8)\n",
    "        )\n",
    "\n",
    "        # Gráfico 3: Distribución IUCN\n",
    "        fig3 = make_subplots(\n",
    "            rows=1,\n",
    "            cols=2,\n",
    "            subplot_titles=(\n",
    "                \"Transacciones por Categoría IUCN\",\n",
    "                \"Volumen por Categoría IUCN\",\n",
    "            ),\n",
    "            specs=[[{\"type\": \"pie\"}, {\"type\": \"pie\"}]],\n",
    "        )\n",
    "\n",
    "        fig3.add_trace(\n",
    "            go.Pie(labels=freq_iucn.index, values=freq_iucn.values, name=\"Frecuencia\"),\n",
    "            row=1,\n",
    "            col=1,\n",
    "        )\n",
    "\n",
    "        fig3.add_trace(\n",
    "            go.Pie(labels=vol_iucn.index, values=vol_iucn.values, name=\"Volumen\"),\n",
    "            row=1,\n",
    "            col=2,\n",
    "        )\n",
    "\n",
    "        fig3.update_layout(\n",
    "            height=400,\n",
    "            title=\"Distribución por Categoría IUCN: Frecuencia vs Volumen\",\n",
    "            template=\"corporate\",\n",
    "        )\n",
    "        fig3.show()\n",
    "\n",
    "        print(\"\\nINSIGHT 3 - CATEGORÍAS IUCN:\")\n",
    "        print(\n",
    "            f\"- Categoría más frecuente: {freq_iucn.index[0]} ({freq_iucn.iloc[0] / freq_iucn.sum() * 100:.1f}%)\"\n",
    "        )\n",
    "        print(\n",
    "            f\"- Categoría con mayor volumen: {vol_iucn.index[0]} ({vol_iucn.iloc[0] / vol_iucn.sum() * 100:.1f}%)\"\n",
    "        )\n",
    "\n",
    "    return {\n",
    "        \"freq_amenaza\": freq_amenaza\n",
    "        if \"Estado amenaza\" in df_completo.columns\n",
    "        else None,\n",
    "        \"vol_amenaza\": vol_amenaza if \"Estado amenaza\" in df_completo.columns else None,\n",
    "        \"freq_iucn\": freq_iucn if \"Categoria IUCN\" in df_completo.columns else None,\n",
    "        \"vol_iucn\": vol_iucn if \"Categoria IUCN\" in df_completo.columns else None,\n",
    "    }\n",
    "\n",
    "\n",
    "# Generar dashboard de conservación\n",
    "conservacion_metrics = crear_dashboard_conservacion(datasets_analisis)"
   ]
  },
  {
   "cell_type": "code",
   "execution_count": null,
   "id": "d1179936",
   "metadata": {},
   "outputs": [
    {
     "name": "stdout",
     "output_type": "stream",
     "text": [
      "RESUMEN EJECUTIVO: TRÁFICO INTERNACIONAL DE FAUNA CITES (2000-2021)\n",
      "================================================================================\n",
      "\n",
      "1. MÉTRICAS PRINCIPALES:\n",
      "   - Total de transacciones registradas: 2,810,597\n",
      "   - Transacciones sin cantidad especificada: 95.5%\n",
      "   - Transacciones con cantidad especificada: 4.5%\n",
      "   - Volumen total comercializado: 99,628,070 ejemplares\n",
      "   - Especies involucradas: 1,611\n",
      "   - Países exportadores: 180\n",
      "   - Países importadores: 228\n",
      "\n",
      "2. HALLAZGOS TEMPORALES:\n",
      "   - Año pico de transacciones: 2005\n",
      "   - Año pico de volumen: 2000\n",
      "   - Patrón: Divergencia entre picos de frecuencia y volumen\n",
      "\n",
      "3. HALLAZGOS GEOGRÁFICOS:\n",
      "   - Líder en frecuencia de exportación: Sudafrica\n",
      "   - Líder en volumen de exportación: Indonesia\n",
      "   - Región dominante: Africa\n",
      "\n",
      "4. HALLAZGOS DE ESPECIES:\n",
      "   - Clase más comercializada (frecuencia): Reptiles\n",
      "   - Clase con mayor volumen: Reptiles\n",
      "   - Coincidencias en top 10 especies: 2/10\n",
      "\n",
      "5. IMPLICACIONES PARA LA CONSERVACIÓN:\n",
      "   - ALERTA: Especies en estados críticos entre las más comercializadas\n",
      "   - Estado de amenaza predominante: No amenazada\n",
      "\n",
      "6. LIMITACIONES DEL ANÁLISIS:\n",
      "   - 95.5% de transacciones sin cantidad especificada\n",
      "   - Impacto: Subestimación potencial del volumen real comercializado\n",
      "   - Recomendación: Análisis dual (frecuencia + volumen) para visión completa\n",
      "\n",
      "7. RECOMENDACIONES ESTRATÉGICAS:\n",
      "   A. MEJORA DE DATOS:\n",
      "      - Implementar incentivos para especificación de cantidades\n",
      "      - Desarrollar estándares de reporte más estrictos\n",
      "      - Crear algoritmos de estimación para cantidades faltantes\n",
      "   B. MONITOREO DE CONSERVACIÓN:\n",
      "      - Alerta temprana para especies en peligro crítico\n",
      "      - Seguimiento específico de especies con alta frecuencia + volumen\n",
      "      - Dashboard en tiempo real para autoridades CITES\n",
      "   C. INTELIGENCIA COMERCIAL:\n",
      "      - Análisis predictivo de tendencias comerciales\n",
      "      - Identificación de rutas comerciales emergentes\n",
      "      - Detección de anomalías en patrones de comercio\n",
      "\n",
      "================================================================================\n",
      "ANÁLISIS COMPLETADO - READY FOR STAKEHOLDER PRESENTATION\n",
      "================================================================================\n",
      "\n",
      "1. MÉTRICAS PRINCIPALES:\n",
      "   - Total de transacciones registradas: 2,810,597\n",
      "   - Transacciones sin cantidad especificada: 95.5%\n",
      "   - Transacciones con cantidad especificada: 4.5%\n",
      "   - Volumen total comercializado: 99,628,070 ejemplares\n",
      "   - Especies involucradas: 1,611\n",
      "   - Países exportadores: 180\n",
      "   - Países importadores: 228\n",
      "\n",
      "2. HALLAZGOS TEMPORALES:\n",
      "   - Año pico de transacciones: 2005\n",
      "   - Año pico de volumen: 2000\n",
      "   - Patrón: Divergencia entre picos de frecuencia y volumen\n",
      "\n",
      "3. HALLAZGOS GEOGRÁFICOS:\n",
      "   - Líder en frecuencia de exportación: Sudafrica\n",
      "   - Líder en volumen de exportación: Indonesia\n",
      "   - Región dominante: Africa\n",
      "\n",
      "4. HALLAZGOS DE ESPECIES:\n",
      "   - Clase más comercializada (frecuencia): Reptiles\n",
      "   - Clase con mayor volumen: Reptiles\n",
      "   - Coincidencias en top 10 especies: 2/10\n",
      "\n",
      "5. IMPLICACIONES PARA LA CONSERVACIÓN:\n",
      "   - ALERTA: Especies en estados críticos entre las más comercializadas\n",
      "   - Estado de amenaza predominante: No amenazada\n",
      "\n",
      "6. LIMITACIONES DEL ANÁLISIS:\n",
      "   - 95.5% de transacciones sin cantidad especificada\n",
      "   - Impacto: Subestimación potencial del volumen real comercializado\n",
      "   - Recomendación: Análisis dual (frecuencia + volumen) para visión completa\n",
      "\n",
      "7. RECOMENDACIONES ESTRATÉGICAS:\n",
      "   A. MEJORA DE DATOS:\n",
      "      - Implementar incentivos para especificación de cantidades\n",
      "      - Desarrollar estándares de reporte más estrictos\n",
      "      - Crear algoritmos de estimación para cantidades faltantes\n",
      "   B. MONITOREO DE CONSERVACIÓN:\n",
      "      - Alerta temprana para especies en peligro crítico\n",
      "      - Seguimiento específico de especies con alta frecuencia + volumen\n",
      "      - Dashboard en tiempo real para autoridades CITES\n",
      "   C. INTELIGENCIA COMERCIAL:\n",
      "      - Análisis predictivo de tendencias comerciales\n",
      "      - Identificación de rutas comerciales emergentes\n",
      "      - Detección de anomalías en patrones de comercio\n",
      "\n",
      "================================================================================\n",
      "ANÁLISIS COMPLETADO - READY FOR STAKEHOLDER PRESENTATION\n",
      "================================================================================\n"
     ]
    }
   ],
   "source": [
    "# =====================================================================================\n",
    "# RESUMEN EJECUTIVO: DASHBOARD INTEGRADO PARA DIAPOSITIVAS\n",
    "# =====================================================================================\n",
    "\n",
    "def crear_resumen_ejecutivo_slides(temporal_metrics, geo_metrics, subregiones_metrics, patrones_metrics):\n",
    "    \"\"\"\n",
    "    Dashboard de resumen ejecutivo: los insights más críticos en formato diapositiva\n",
    "    \"\"\"\n",
    "    \n",
    "    print(\"🎯 RESUMEN EJECUTIVO: COMERCIO INTERNACIONAL DE FAUNA CITES\")\n",
    "    print(\"=\" * 70)\n",
    "    \n",
    "    # =============================================================================\n",
    "    # GRÁFICO 1: MÉTRICAS CLAVE - DASHBOARD EJECUTIVO\n",
    "    # =============================================================================\n",
    "    \n",
    "    fig1 = make_subplots(\n",
    "        rows=2, cols=2,\n",
    "        subplot_titles=(\n",
    "            \"📈 Tendencia Temporal\", \n",
    "            \"🌍 Concentración Geográfica\",\n",
    "            \"🎯 Liderazgo Regional\",\n",
    "            \"⚡ Indicadores de Riesgo\"\n",
    "        ),\n",
    "        specs=[\n",
    "            [{\"type\": \"indicator\"}, {\"type\": \"pie\"}],\n",
    "            [{\"type\": \"bar\"}, {\"type\": \"indicator\"}]\n",
    "        ]\n",
    "    )\n",
    "    \n",
    "    # Indicador 1: Tendencia temporal\n",
    "    tendencia_color = \"green\" if temporal_metrics[\"crecimiento_total\"] > 0 else \"red\"\n",
    "    fig1.add_trace(go.Indicator(\n",
    "        mode=\"gauge+number+delta\",\n",
    "        value=abs(temporal_metrics[\"crecimiento_total\"]),\n",
    "        domain={'x': [0, 1], 'y': [0, 1]},\n",
    "        title={'text': f\"Crecimiento Total<br>2000-2021\"},\n",
    "        delta={'reference': 0, 'position': \"top\"},\n",
    "        gauge={\n",
    "            'axis': {'range': [None, 50]},\n",
    "            'bar': {'color': tendencia_color},\n",
    "            'steps': [\n",
    "                {'range': [0, 10], 'color': \"lightgray\"},\n",
    "                {'range': [10, 25], 'color': \"gray\"}\n",
    "            ],\n",
    "            'threshold': {\n",
    "                'line': {'color': \"red\", 'width': 4},\n",
    "                'thickness': 0.75,\n",
    "                'value': 30\n",
    "            }\n",
    "        }\n",
    "    ), row=1, col=1)\n",
    "    \n",
    "    # Gráfico 2: Concentración geográfica\n",
    "    top3_regiones = geo_metrics[\"regiones_freq\"].head(3)\n",
    "    otros = geo_metrics[\"regiones_freq\"].iloc[3:].sum()\n",
    "    \n",
    "    fig1.add_trace(go.Pie(\n",
    "        labels=list(top3_regiones.index) + [\"Otras Regiones\"],\n",
    "        values=list(top3_regiones.values) + [otros],\n",
    "        marker_colors=[SLIDE_COLORS[\"primary\"], SLIDE_COLORS[\"secondary\"], \n",
    "                      SLIDE_COLORS[\"accent\"], SLIDE_COLORS[\"light\"]],\n",
    "        textinfo=\"label+percent\",\n",
    "        textfont_size=10\n",
    "    ), row=1, col=2)\n",
    "    \n",
    "    # Gráfico 3: Liderazgo regional (top 5)\n",
    "    top5_regiones = geo_metrics[\"regiones_freq\"].head(5)\n",
    "    fig1.add_trace(go.Bar(\n",
    "        x=top5_regiones.values,\n",
    "        y=top5_regiones.index,\n",
    "        orientation='h',\n",
    "        marker_color=SLIDE_COLORS[\"success\"],\n",
    "        text=[format_number(x) for x in top5_regiones.values],\n",
    "        textposition=\"outside\"\n",
    "    ), row=2, col=1)\n",
    "    \n",
    "    # Indicador 4: Riesgo de concentración\n",
    "    concentracion_riesgo = subregiones_metrics[\"concentracion\"][\"top3_freq\"]\n",
    "    color_riesgo = \"red\" if concentracion_riesgo > 60 else \"orange\" if concentracion_riesgo > 40 else \"green\"\n",
    "    \n",
    "    fig1.add_trace(go.Indicator(\n",
    "        mode=\"gauge+number\",\n",
    "        value=concentracion_riesgo,\n",
    "        domain={'x': [0, 1], 'y': [0, 1]},\n",
    "        title={'text': \"Concentración<br>Top 3 Subregiones\"},\n",
    "        gauge={\n",
    "            'axis': {'range': [None, 100]},\n",
    "            'bar': {'color': color_riesgo},\n",
    "            'steps': [\n",
    "                {'range': [0, 40], 'color': \"lightgreen\"},\n",
    "                {'range': [40, 60], 'color': \"yellow\"},\n",
    "                {'range': [60, 100], 'color': \"lightcoral\"}\n",
    "            ]\n",
    "        }\n",
    "    ), row=2, col=2)\n",
    "    \n",
    "    fig1.update_layout(\n",
    "        title=\"<b>Dashboard Ejecutivo: Indicadores Clave CITES</b>\",\n",
    "        height=600,\n",
    "        template=\"slide_template\",\n",
    "        showlegend=False\n",
    "    )\n",
    "    \n",
    "    fig1.update_xaxes(title_text=\"N° Transacciones\", row=2, col=1)\n",
    "    \n",
    "    fig1.show()\n",
    "    \n",
    "    # =============================================================================\n",
    "    # GRÁFICO 2: CRONOLOGÍA DE INSIGHTS CRÍTICOS\n",
    "    # =============================================================================\n",
    "    \n",
    "    # Crear timeline de eventos clave\n",
    "    eventos_clave = [\n",
    "        (temporal_metrics[\"año_pico_freq\"], \"Pico de Transacciones\", \"primary\"),\n",
    "        (temporal_metrics[\"año_pico_vol\"], \"Pico de Volumen\", \"secondary\"),\n",
    "        (2008, \"Crisis Financiera Global\", \"accent\"),\n",
    "        (2015, \"Agenda 2030 ODS\", \"success\")\n",
    "    ]\n",
    "    \n",
    "    fig2 = go.Figure()\n",
    "    \n",
    "    # Línea base de evolución\n",
    "    años = temporal_metrics[\"frecuencia_anual\"].index\n",
    "    valores = temporal_metrics[\"frecuencia_anual\"].values\n",
    "    valores_norm = (valores - valores.min()) / (valores.max() - valores.min()) * 100\n",
    "    \n",
    "    fig2.add_trace(go.Scatter(\n",
    "        x=años,\n",
    "        y=valores_norm,\n",
    "        mode='lines',\n",
    "        name='Evolución Normalizada',\n",
    "        line=dict(color=SLIDE_COLORS[\"light\"], width=2),\n",
    "        fill='tozeroy',\n",
    "        fillcolor=f\"rgba(189, 195, 199, 0.3)\"\n",
    "    ))\n",
    "    \n",
    "    # Agregar eventos clave\n",
    "    for año, evento, color in eventos_clave:\n",
    "        if año in años:\n",
    "            valor_evento = valores_norm[list(años).index(año)]\n",
    "            fig2.add_trace(go.Scatter(\n",
    "                x=[año],\n",
    "                y=[valor_evento],\n",
    "                mode='markers+text',\n",
    "                text=[evento],\n",
    "                textposition=\"top center\",\n",
    "                marker=dict(size=15, color=SLIDE_COLORS[color]),\n",
    "                showlegend=False\n",
    "            ))\n",
    "            \n",
    "            fig2.add_annotation(\n",
    "                x=año, y=valor_evento,\n",
    "                text=f\"<b>{año}</b><br>{evento}\",\n",
    "                showarrow=True, arrowhead=2,\n",
    "                arrowcolor=SLIDE_COLORS[color],\n",
    "                bgcolor=\"white\", bordercolor=SLIDE_COLORS[color],\n",
    "                borderwidth=2\n",
    "            )\n",
    "    \n",
    "    fig2.update_layout(\n",
    "        title=\"<b>Cronología del Comercio Internacional de Fauna</b><br><span style='font-size:12px'>Eventos clave y evolución temporal</span>\",\n",
    "        xaxis_title=\"Año\",\n",
    "        yaxis_title=\"Evolución Normalizada (%)\",\n",
    "        height=400,\n",
    "        template=\"slide_template\",\n",
    "        showlegend=False\n",
    "    )\n",
    "    \n",
    "    fig2.show()\n",
    "    \n",
    "    # =============================================================================\n",
    "    # TABLA RESUMEN: TOP INSIGHTS PARA EJECUTIVOS\n",
    "    # =============================================================================\n",
    "    \n",
    "    print(\"\\n\" + \"=\"*70)\n",
    "    print(\"📋 RESUMEN EJECUTIVO: TOP 10 INSIGHTS CRÍTICOS\")\n",
    "    print(\"=\"*70)\n",
    "    \n",
    "    insights_ejecutivos = [\n",
    "        {\n",
    "            \"Categoría\": \"TEMPORAL\",\n",
    "            \"Insight\": f\"Crecimiento {temporal_metrics['crecimiento_total']:+.1f}% en 21 años\",\n",
    "            \"Impacto\": \"Alto\" if abs(temporal_metrics['crecimiento_total']) > 20 else \"Moderado\",\n",
    "            \"Acción\": \"Monitorear tendencia\"\n",
    "        },\n",
    "        {\n",
    "            \"Categoría\": \"GEOGRÁFICO\", \n",
    "            \"Insight\": f\"Top 3 regiones: {geo_metrics['concentracion_regional']:.1f}% del comercio\",\n",
    "            \"Impacto\": \"Alto\" if geo_metrics['concentracion_regional'] > 70 else \"Moderado\",\n",
    "            \"Acción\": \"Diversificar fuentes\"\n",
    "        },\n",
    "        {\n",
    "            \"Categoría\": \"SUBREGIONAL\",\n",
    "            \"Insight\": f\"{len(subregiones_metrics['subregiones_duales'])} subregiones lideran ambos indicadores\",\n",
    "            \"Impacto\": \"Crítico\",\n",
    "            \"Acción\": \"Focalizar control\"\n",
    "        },\n",
    "        {\n",
    "            \"Categoría\": \"RIESGO\",\n",
    "            \"Insight\": f\"Concentración subregional: {subregiones_metrics['concentracion']['nivel_riesgo']}\",\n",
    "            \"Impacto\": \"Variable\",\n",
    "            \"Acción\": \"Según nivel de riesgo\"\n",
    "        },\n",
    "        {\n",
    "            \"Categoría\": \"ESPECIES\",\n",
    "            \"Insight\": f\"{patrones_metrics['clase_dominante']}: {patrones_metrics['dominancia_pct']:.1f}% del comercio\",\n",
    "            \"Impacto\": \"Alto\",\n",
    "            \"Acción\": \"Monitoreo específico\"\n",
    "        }\n",
    "    ]\n",
    "    \n",
    "    # Mostrar tabla formateada\n",
    "    for i, insight in enumerate(insights_ejecutivos, 1):\n",
    "        print(f\"\\n{i:2d}. 📊 {insight['Categoría']}\")\n",
    "        print(f\"    • {insight['Insight']}\")\n",
    "        print(f\"    • Impacto: {insight['Impacto']} | Acción: {insight['Acción']}\")\n",
    "    \n",
    "    # =============================================================================\n",
    "    # RECOMENDACIONES ESTRATÉGICAS\n",
    "    # =============================================================================\n",
    "    \n",
    "    print(\"\\n\" + \"=\"*70)\n",
    "    print(\"🎯 RECOMENDACIONES ESTRATÉGICAS PARA POLÍTICAS CITES\")\n",
    "    print(\"=\"*70)\n",
    "    \n",
    "    recomendaciones = []\n",
    "    \n",
    "    # Basadas en concentración geográfica\n",
    "    if geo_metrics['concentracion_regional'] > 70:\n",
    "        recomendaciones.append(\"🌍 DIVERSIFICACIÓN: Reducir dependencia de regiones clave\")\n",
    "    \n",
    "    # Basadas en tendencia temporal\n",
    "    if temporal_metrics['crecimiento_total'] > 10:\n",
    "        recomendaciones.append(\"📈 ESCALAMIENTO: Fortalecer capacidades de monitoreo\")\n",
    "    elif temporal_metrics['crecimiento_total'] < -10:\n",
    "        recomendaciones.append(\"📉 INVESTIGACIÓN: Analizar causas de declive comercial\")\n",
    "    \n",
    "    # Basadas en riesgo subregional\n",
    "    if subregiones_metrics['concentracion']['top3_freq'] > 60:\n",
    "        recomendaciones.append(\"🎯 FOCALIZACIÓN: Priorizar control en subregiones críticas\")\n",
    "    \n",
    "    # Basadas en corredores\n",
    "    if len(subregiones_metrics['flujos_criticos']) > 3:\n",
    "        recomendaciones.append(\"🛣️ CORREDORES: Optimizar control en rutas principales\")\n",
    "    \n",
    "    # Basadas en especies\n",
    "    if patrones_metrics['dominancia_pct'] > 50:\n",
    "        recomendaciones.append(f\"🐾 ESPECIES: Atención especial a {patrones_metrics['clase_dominante']}\")\n",
    "    \n",
    "    for i, rec in enumerate(recomendaciones, 1):\n",
    "        print(f\"{i}. {rec}\")\n",
    "    \n",
    "    print(f\"\\n✅ Total de recomendaciones: {len(recomendaciones)}\")\n",
    "    print(\"📊 Base: Análisis de 2.8M transacciones CITES (2000-2021)\")\n",
    "    \n",
    "    return {\n",
    "        \"insights_ejecutivos\": insights_ejecutivos,\n",
    "        \"recomendaciones\": recomendaciones,\n",
    "        \"metricas_clave\": {\n",
    "            \"crecimiento_temporal\": temporal_metrics['crecimiento_total'],\n",
    "            \"concentracion_geografica\": geo_metrics['concentracion_regional'],\n",
    "            \"riesgo_subregional\": subregiones_metrics['concentracion']['nivel_riesgo'],\n",
    "            \"dominancia_especies\": patrones_metrics['dominancia_pct']\n",
    "        }\n",
    "    }\n",
    "\n",
    "# Ejecutar resumen ejecutivo\n",
    "print(\"🎯 Generando Resumen Ejecutivo Final...\")\n",
    "resumen_ejecutivo = crear_resumen_ejecutivo_slides(\n",
    "    temporal_metrics, geo_metrics, subregiones_metrics, patrones_metrics\n",
    ")"
   ]
  }
 ],
 "metadata": {
  "kernelspec": {
   "display_name": "Python 3",
   "language": "python",
   "name": "python3"
  },
  "language_info": {
   "codemirror_mode": {
    "name": "ipython",
    "version": 3
   },
   "file_extension": ".py",
   "mimetype": "text/x-python",
   "name": "python",
   "nbconvert_exporter": "python",
   "pygments_lexer": "ipython3",
   "version": "3.11.5"
  }
 },
 "nbformat": 4,
 "nbformat_minor": 5
}
